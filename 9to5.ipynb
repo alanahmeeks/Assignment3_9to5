{
    "metadata": {
        "kernelspec": {
            "name": "SQL",
            "display_name": "SQL",
            "language": "sql"
        },
        "language_info": {
            "name": "sql",
            "version": ""
        },
        "extensions": {
            "azuredatastudio": {
                "version": 1,
                "views": []
            }
        }
    },
    "nbformat_minor": 2,
    "nbformat": 4,
    "cells": [
        {
            "cell_type": "markdown",
            "source": [
                "# <span style=\"font-size: 20pt; font-family: Montserrat, sans-serif; color: rgb(92, 148, 206); background-color: rgb(255, 255, 255); font-weight: 700; font-variant-east-asian: normal; vertical-align: baseline; white-space: pre-wrap;\">Graded Assignment 3: 9 to 5</span>\n",
                "\n",
                "  \n",
                "\n",
                "<span style=\"font-size: 10pt; font-family: &quot;Times New Roman&quot;; color: rgb(102, 102, 102); background-color: rgb(255, 255, 255); font-variant-east-asian: normal; vertical-align: baseline; white-space: pre-wrap;\">Time to show off your SQL skills! For each question, copy the SQL query you used and make note of the answer.</span>\n",
                "\n",
                "  \n",
                "\n",
                "## <span style=\"font-size: 12pt; font-family: Montserrat, sans-serif; color: rgb(53, 74, 95); background-color: rgb(255, 255, 255); font-weight: 700; font-variant-east-asian: normal; vertical-align: baseline; white-space: pre-wrap;\">The Dataset</span>\n",
                "\n",
                "<span style=\"font-size: 10pt; font-family: &quot;Times New Roman&quot;; color: rgb(102, 102, 102); background-color: rgb(255, 255, 255); font-variant-east-asian: normal; vertical-align: baseline; white-space: pre-wrap;\">For this assignment, you will be using the Bureau of Labor Statistics (BLS) Current Employment Survey (CES) results which can be found on</span> [<span style=\"font-size: 10pt; font-family: &quot;Times New Roman&quot;; color: rgb(17, 85, 204); background-color: rgb(255, 255, 255); font-variant-east-asian: normal; text-decoration-line: underline; vertical-align: baseline; white-space: pre-wrap;\">Kaggle</span>](https://www.kaggle.com/bls/employment)<span style=\"font-size: 10pt; font-family: &quot;Times New Roman&quot;; color: rgb(102, 102, 102); background-color: rgb(255, 255, 255); font-variant-east-asian: normal; vertical-align: baseline; white-space: pre-wrap;\">.</span>\n",
                "\n",
                "  \n",
                "\n",
                "## <span style=\"font-size: 12pt; font-family: Montserrat, sans-serif; color: rgb(53, 74, 95); background-color: rgb(255, 255, 255); font-weight: 700; font-variant-east-asian: normal; vertical-align: baseline; white-space: pre-wrap;\">Business Issue</span>\n",
                "\n",
                "<span style=\"font-size: 10pt; font-family: &quot;Times New Roman&quot;; color: rgb(102, 102, 102); background-color: rgb(255, 255, 255); font-variant-east-asian: normal; vertical-align: baseline; white-space: pre-wrap;\">You are working for the Bureau of Labor Statistics with the United States government and have been approached by your boss with an important meeting request. You have been asked by your supervisor to meet with Dolly Parton whose nonprofit is looking to shed light on the state of employment in the United States. As part of the 9 to 5 project, their research is focused on production and nonsupervisory employees and how those employees fare compared to all employees in the United States. While the data the BLS collects from the CES is publicly available, Dolly Parton and her colleagues need your assistance navigating the thousands of rows in each table in LaborStatisticsDB.</span>\n",
                "\n",
                "  \n",
                "\n",
                "## <span style=\"font-size: 12pt; font-family: Montserrat, sans-serif; color: rgb(53, 74, 95); background-color: rgb(255, 255, 255); font-weight: 700; font-variant-east-asian: normal; vertical-align: baseline; white-space: pre-wrap;\">About the Dataset</span>\n",
                "\n",
                "<span style=\"font-size: 10pt; font-family: &quot;Times New Roman&quot;; color: rgb(102, 102, 102); background-color: rgb(255, 255, 255); font-variant-east-asian: normal; vertical-align: baseline; white-space: pre-wrap;\">This dataset comes directly from the Bureau of Labor Statistics’ Current Employment Survey (CES). Here are some things you need to know:</span>\n",
                "\n",
                "1. <span style=\"font-size: 10pt; background-color: rgb(255, 255, 255); font-variant-east-asian: normal; vertical-align: baseline; white-space: pre-wrap;\">The industry table contains an NAICS code. This is different from the industry code. NAICS stands for North American Industry Classification System.</span>\n",
                "    \n",
                "2. <span style=\"font-size: 10pt; background-color: rgb(255, 255, 255); font-variant-east-asian: normal; vertical-align: baseline; white-space: pre-wrap;\">Series ID is composed of multiple different codes. CES stands for Current Employment Survey, the name of the survey which collected the data. The industry code as specified by the BLS and the data type code as specified in the datatype table.</span>\n",
                "    \n",
                "\n",
                "  \n",
                "\n",
                "## <span style=\"font-size: 12pt; font-family: Montserrat, sans-serif; color: rgb(53, 74, 95); background-color: rgb(255, 255, 255); font-weight: 700; font-variant-east-asian: normal; vertical-align: baseline; white-space: pre-wrap;\">Set Up</span>\n",
                "\n",
                "<span style=\"font-size: 10pt; font-family: &quot;Times New Roman&quot;; color: rgb(102, 102, 102); background-color: rgb(255, 255, 255); font-variant-east-asian: normal; vertical-align: baseline; white-space: pre-wrap;\">To connect to the database, use the same connection info used during the SQL lessons.&nbsp;</span> \n",
                "\n",
                "<span style=\"font-size: 10pt; font-family: &quot;Times New Roman&quot;; color: rgb(102, 102, 102); background-color: rgb(255, 255, 255); font-variant-east-asian: normal; vertical-align: baseline; white-space: pre-wrap;\">For the assignment, we will be using the LaborStatisticsDB database.</span>\n",
                "\n",
                "  \n",
                "\n",
                "## <span style=\"font-size: 12pt; font-family: Montserrat, sans-serif; color: rgb(53, 74, 95); background-color: rgb(255, 255, 255); font-weight: 700; font-variant-east-asian: normal; vertical-align: baseline; white-space: pre-wrap;\">Database Exploration</span>\n",
                "\n",
                "<span style=\"font-size: 10pt; font-family: &quot;Times New Roman&quot;; color: rgb(102, 102, 102); background-color: rgb(255, 255, 255); font-variant-east-asian: normal; vertical-align: baseline; white-space: pre-wrap;\">To start with, let’s get to know the database further.</span>\n",
                "\n",
                "1. <span style=\"background-color: rgb(255, 255, 255); color: rgb(102, 102, 102); font-family: &quot;Times New Roman&quot;; font-size: 10pt; white-space: pre-wrap;\">Use this space to make note of each table in the database, the columns within each table, each column’s data type, and how the tables are connected. You can write this down or draw a diagram. Whatever method helps you get an understanding of what is going on with LaborStatisticsDB.</span>"
            ],
            "metadata": {
                "azdata_cell_guid": "28ea70c5-f0be-4197-b6c0-ade22886a708"
            },
            "attachments": {}
        },
        {
            "cell_type": "markdown",
            "source": [
                "To add a photo, diagram or document to your file, drop the file into the folder that holds this notebook.  Use the the link button to the right of the  \\</\\> symbol in the gray part of this cell, the link is just the name of your file."
            ],
            "metadata": {
                "azdata_cell_guid": "aeae906c-752c-49d3-b482-3ed6a4f54b6e"
            },
            "attachments": {}
        },
        {
            "cell_type": "code",
            "source": [
                "USE LaborStatisticsDB\n",
                "\n",
                "\n",
                "SELECT TOP 50*\n",
                "FROM supersector"
            ],
            "metadata": {
                "azdata_cell_guid": "dbf3633e-8503-49e6-b128-cf010d1558cf",
                "language": "sql"
            },
            "outputs": [
                {
                    "output_type": "display_data",
                    "data": {
                        "text/html": "(22 rows affected)"
                    },
                    "metadata": {}
                },
                {
                    "output_type": "display_data",
                    "data": {
                        "text/html": "Total execution time: 00:00:00.062"
                    },
                    "metadata": {}
                },
                {
                    "output_type": "execute_result",
                    "metadata": {},
                    "execution_count": 12,
                    "data": {
                        "application/vnd.dataresource+json": {
                            "schema": {
                                "fields": [
                                    {
                                        "name": "supersector_code"
                                    },
                                    {
                                        "name": "supersector_name"
                                    }
                                ]
                            },
                            "data": [
                                {
                                    "0": "0",
                                    "1": "Total nonfarm"
                                },
                                {
                                    "0": "5",
                                    "1": "Total private"
                                },
                                {
                                    "0": "6",
                                    "1": "Goods-producing"
                                },
                                {
                                    "0": "7",
                                    "1": "Service-providing"
                                },
                                {
                                    "0": "8",
                                    "1": "Private service-providing"
                                },
                                {
                                    "0": "10",
                                    "1": "Mining and logging"
                                },
                                {
                                    "0": "20",
                                    "1": "Construction"
                                },
                                {
                                    "0": "30",
                                    "1": "Manufacturing"
                                },
                                {
                                    "0": "31",
                                    "1": "Durable Goods"
                                },
                                {
                                    "0": "32",
                                    "1": "Nondurable Goods"
                                },
                                {
                                    "0": "40",
                                    "1": "Trade"
                                },
                                {
                                    "0": "41",
                                    "1": "Wholesale trade"
                                },
                                {
                                    "0": "42",
                                    "1": "Retail trade"
                                },
                                {
                                    "0": "43",
                                    "1": "Transportation and warehousing"
                                },
                                {
                                    "0": "44",
                                    "1": "Utilities"
                                },
                                {
                                    "0": "50",
                                    "1": "Information"
                                },
                                {
                                    "0": "55",
                                    "1": "Financial activities"
                                },
                                {
                                    "0": "60",
                                    "1": "Professional and business services"
                                },
                                {
                                    "0": "65",
                                    "1": "Education and health services"
                                },
                                {
                                    "0": "70",
                                    "1": "Leisure and hospitality"
                                },
                                {
                                    "0": "80",
                                    "1": "Other services"
                                },
                                {
                                    "0": "90",
                                    "1": "Government"
                                }
                            ]
                        },
                        "text/html": [
                            "<table>",
                            "<tr><th>supersector_code</th><th>supersector_name</th></tr>",
                            "<tr><td>0</td><td>Total nonfarm</td></tr>",
                            "<tr><td>5</td><td>Total private</td></tr>",
                            "<tr><td>6</td><td>Goods-producing</td></tr>",
                            "<tr><td>7</td><td>Service-providing</td></tr>",
                            "<tr><td>8</td><td>Private service-providing</td></tr>",
                            "<tr><td>10</td><td>Mining and logging</td></tr>",
                            "<tr><td>20</td><td>Construction</td></tr>",
                            "<tr><td>30</td><td>Manufacturing</td></tr>",
                            "<tr><td>31</td><td>Durable Goods</td></tr>",
                            "<tr><td>32</td><td>Nondurable Goods</td></tr>",
                            "<tr><td>40</td><td>Trade</td></tr>",
                            "<tr><td>41</td><td>Wholesale trade</td></tr>",
                            "<tr><td>42</td><td>Retail trade</td></tr>",
                            "<tr><td>43</td><td>Transportation and warehousing</td></tr>",
                            "<tr><td>44</td><td>Utilities</td></tr>",
                            "<tr><td>50</td><td>Information</td></tr>",
                            "<tr><td>55</td><td>Financial activities</td></tr>",
                            "<tr><td>60</td><td>Professional and business services</td></tr>",
                            "<tr><td>65</td><td>Education and health services</td></tr>",
                            "<tr><td>70</td><td>Leisure and hospitality</td></tr>",
                            "<tr><td>80</td><td>Other services</td></tr>",
                            "<tr><td>90</td><td>Government</td></tr>",
                            "</table>"
                        ]
                    }
                }
            ],
            "execution_count": 12
        },
        {
            "cell_type": "markdown",
            "source": [
                "2. <span style=\"background-color: rgb(255, 255, 255); color: rgb(102, 102, 102); font-family: Arvo, serif; font-size: 10pt; white-space: pre-wrap;\">What is the datatype for women employees? Data type: 'women employees'</span>"
            ],
            "metadata": {
                "azdata_cell_guid": "01b111b7-baf1-4617-88bc-cd442826c9c9"
            },
            "attachments": {}
        },
        {
            "cell_type": "code",
            "source": [
                "USE LaborStatisticsDB\n",
                "\n",
                "SELECT *\n",
                "FROM datatype\n",
                "WHERE data_type_text LIKE '%women%'"
            ],
            "metadata": {
                "azdata_cell_guid": "02fa547c-0bb7-4a40-81c2-f5c05154df04",
                "language": "sql"
            },
            "outputs": [
                {
                    "output_type": "display_data",
                    "data": {
                        "text/html": "(2 rows affected)"
                    },
                    "metadata": {}
                },
                {
                    "output_type": "display_data",
                    "data": {
                        "text/html": "Total execution time: 00:00:00.060"
                    },
                    "metadata": {}
                },
                {
                    "output_type": "execute_result",
                    "metadata": {},
                    "execution_count": 14,
                    "data": {
                        "application/vnd.dataresource+json": {
                            "schema": {
                                "fields": [
                                    {
                                        "name": "data_type_code"
                                    },
                                    {
                                        "name": "data_type_text"
                                    }
                                ]
                            },
                            "data": [
                                {
                                    "0": "10",
                                    "1": "WOMEN EMPLOYEES"
                                },
                                {
                                    "0": "39",
                                    "1": "WOMEN EMPLOYEES-TO-ALL EMPLOYEES RATIO"
                                }
                            ]
                        },
                        "text/html": [
                            "<table>",
                            "<tr><th>data_type_code</th><th>data_type_text</th></tr>",
                            "<tr><td>10</td><td>WOMEN EMPLOYEES</td></tr>",
                            "<tr><td>39</td><td>WOMEN EMPLOYEES-TO-ALL EMPLOYEES RATIO</td></tr>",
                            "</table>"
                        ]
                    }
                }
            ],
            "execution_count": 14
        },
        {
            "cell_type": "markdown",
            "source": [
                "3. <span style=\"background-color: rgb(255, 255, 255); font-size: 10pt; white-space: pre-wrap; color: rgb(102, 102, 102); font-family: Arvo, serif;\">What is the series id for&nbsp; women employees in the commercial banking industry in the financial activities supersector? </span> <span style=\"font-size: 13.3333px; white-space: pre-wrap;\">CES5552211010</span>"
            ],
            "metadata": {
                "azdata_cell_guid": "325f85cc-9545-47b3-b975-3aab6278e4ea"
            },
            "attachments": {}
        },
        {
            "cell_type": "code",
            "source": [
                "USE LaborStatisticsDB\n",
                "SELECT TOP 5*\n",
                "FROM series\n",
                "WHERE data_type_code = 10 AND industry_code =(\n",
                "    SELECT industry_code\n",
                "    FROM industry\n",
                "    WHERE industry_name LIKE '%commercial banking%'\n",
                ") AND supersector_code = (\n",
                "    SELECT supersector_code\n",
                "    FROM supersector\n",
                "    WHERE supersector_name LIKE '%financial%'\n",
                ")\n",
                "\n",
                "/*\n",
                "SELECT TOP 50*\n",
                "FROM supersector\n",
                "WHERE supersector_name LIKE '%financial%'\n",
                "\n",
                "SELECT TOP 50*\n",
                "FROM industry\n",
                "WHERE industry_name LIKE '%commercial banking%'\n",
                "\n",
                "\n",
                "\n",
                "SELECT TOP 50 *\n",
                "FROM series\n",
                "WHERE series_title LIKE '%women%'\n",
                "*/"
            ],
            "metadata": {
                "azdata_cell_guid": "1315af1f-45f8-457d-8bbe-8e9f46303fca",
                "language": "sql"
            },
            "outputs": [
                {
                    "output_type": "display_data",
                    "data": {
                        "text/html": "(2 rows affected)"
                    },
                    "metadata": {}
                },
                {
                    "output_type": "display_data",
                    "data": {
                        "text/html": "Total execution time: 00:00:00.080"
                    },
                    "metadata": {}
                },
                {
                    "output_type": "execute_result",
                    "metadata": {},
                    "execution_count": 29,
                    "data": {
                        "application/vnd.dataresource+json": {
                            "schema": {
                                "fields": [
                                    {
                                        "name": "series_id"
                                    },
                                    {
                                        "name": "supersector_code"
                                    },
                                    {
                                        "name": "industry_code"
                                    },
                                    {
                                        "name": "data_type_code"
                                    },
                                    {
                                        "name": "seasonal"
                                    },
                                    {
                                        "name": "series_title"
                                    }
                                ]
                            },
                            "data": [
                                {
                                    "0": "CES5552211010",
                                    "1": "55",
                                    "2": "55522110",
                                    "3": "10",
                                    "4": "S",
                                    "5": "Women employees"
                                },
                                {
                                    "0": "CEU5552211010",
                                    "1": "55",
                                    "2": "55522110",
                                    "3": "10",
                                    "4": "U",
                                    "5": "Women employees"
                                }
                            ]
                        },
                        "text/html": [
                            "<table>",
                            "<tr><th>series_id</th><th>supersector_code</th><th>industry_code</th><th>data_type_code</th><th>seasonal</th><th>series_title</th></tr>",
                            "<tr><td>CES5552211010</td><td>55</td><td>55522110</td><td>10</td><td>S</td><td>Women employees</td></tr>",
                            "<tr><td>CEU5552211010</td><td>55</td><td>55522110</td><td>10</td><td>U</td><td>Women employees</td></tr>",
                            "</table>"
                        ]
                    }
                }
            ],
            "execution_count": 29
        },
        {
            "cell_type": "markdown",
            "source": [
                "## <span style=\"font-size: 12pt; font-family: Montserrat, sans-serif; color: rgb(53, 74, 95); background-color: rgb(255, 255, 255); font-weight: 700; font-variant-numeric: normal; font-variant-east-asian: normal; vertical-align: baseline; white-space: pre-wrap;\">Join in on the Fun</span>\n",
                "\n",
                "<span style=\"font-size: 10pt; font-family: Arvo, serif; color: rgb(102, 102, 102); background-color: rgb(255, 255, 255); font-variant-numeric: normal; font-variant-east-asian: normal; vertical-align: baseline; white-space: pre-wrap;\">Time to start joining! You can choose the type of join you use, just make sure to make a&nbsp; note!</span>\n",
                "\n",
                "1. <span style=\"background-color: rgb(255, 255, 255); font-size: 10pt; white-space: pre-wrap; color: rgb(102, 102, 102); font-family: Arvo, serif;\">Join&nbsp; annual_2016 with series on series_id. We only want the data in the annual_2016 table to be included in the result.</span>"
            ],
            "metadata": {
                "azdata_cell_guid": "ec1dfc63-ad41-4349-8c26-1d326ace8c6c"
            },
            "attachments": {}
        },
        {
            "cell_type": "code",
            "source": [
                "USE LaborStatisticsDB\n",
                "/*\n",
                "SELECT TOP 5*\n",
                "FROM annual_2016\n",
                "\n",
                "SELECT TOP 5*\n",
                "FROM series\n",
                "*/\n",
                "\n",
                "SELECT TOP 50*\n",
                "FROM annual_2016\n",
                "LEFT JOIN series\n",
                "ON annual_2016.series_id = series.series_id"
            ],
            "metadata": {
                "azdata_cell_guid": "cf90f0b4-c482-4fbb-ac17-d2244881caab",
                "language": "sql"
            },
            "outputs": [
                {
                    "output_type": "display_data",
                    "data": {
                        "text/html": "(50 rows affected)"
                    },
                    "metadata": {}
                },
                {
                    "output_type": "display_data",
                    "data": {
                        "text/html": "Total execution time: 00:00:00.219"
                    },
                    "metadata": {}
                },
                {
                    "output_type": "execute_result",
                    "metadata": {},
                    "execution_count": 33,
                    "data": {
                        "application/vnd.dataresource+json": {
                            "schema": {
                                "fields": [
                                    {
                                        "name": "id"
                                    },
                                    {
                                        "name": "series_id"
                                    },
                                    {
                                        "name": "year"
                                    },
                                    {
                                        "name": "period"
                                    },
                                    {
                                        "name": "value"
                                    },
                                    {
                                        "name": "footnote_codes"
                                    },
                                    {
                                        "name": "original_file"
                                    },
                                    {
                                        "name": "series_id"
                                    },
                                    {
                                        "name": "supersector_code"
                                    },
                                    {
                                        "name": "industry_code"
                                    },
                                    {
                                        "name": "data_type_code"
                                    },
                                    {
                                        "name": "seasonal"
                                    },
                                    {
                                        "name": "series_title"
                                    }
                                ]
                            },
                            "data": [
                                {
                                    "0": "8755",
                                    "1": "CEU0000000001",
                                    "2": "2016",
                                    "3": "M13",
                                    "4": "144306",
                                    "5": "NULL",
                                    "6": "ce.data.0.AllCESSeries.csv",
                                    "7": "CEU0000000001",
                                    "8": "0",
                                    "9": "00000000",
                                    "10": "1",
                                    "11": "U",
                                    "12": "All employees"
                                },
                                {
                                    "0": "22220",
                                    "1": "CEU0000000001",
                                    "2": "2016",
                                    "3": "M13",
                                    "4": "144306",
                                    "5": "NULL",
                                    "6": "ce.data.00a.TotalNonfarm.Employment.csv",
                                    "7": "CEU0000000001",
                                    "8": "0",
                                    "9": "00000000",
                                    "10": "1",
                                    "11": "U",
                                    "12": "All employees"
                                },
                                {
                                    "0": "22221",
                                    "1": "CEU0000000010",
                                    "2": "2016",
                                    "3": "M13",
                                    "4": "71492",
                                    "5": "NULL",
                                    "6": "ce.data.00a.TotalNonfarm.Employment.csv",
                                    "7": "CEU0000000010",
                                    "8": "0",
                                    "9": "00000000",
                                    "10": "10",
                                    "11": "U",
                                    "12": "Women employees"
                                },
                                {
                                    "0": "8756",
                                    "1": "CEU0000000010",
                                    "2": "2016",
                                    "3": "M13",
                                    "4": "71492",
                                    "5": "NULL",
                                    "6": "ce.data.0.AllCESSeries.csv",
                                    "7": "CEU0000000010",
                                    "8": "0",
                                    "9": "00000000",
                                    "10": "10",
                                    "11": "U",
                                    "12": "Women employees"
                                },
                                {
                                    "0": "8757",
                                    "1": "CEU0500000001",
                                    "2": "2016",
                                    "3": "M13",
                                    "4": "122083",
                                    "5": "NULL",
                                    "6": "ce.data.0.AllCESSeries.csv",
                                    "7": "CEU0500000001",
                                    "8": "5",
                                    "9": "05000000",
                                    "10": "1",
                                    "11": "U",
                                    "12": "All employees"
                                },
                                {
                                    "0": "6281",
                                    "1": "CEU0500000001",
                                    "2": "2016",
                                    "3": "M13",
                                    "4": "122083",
                                    "5": "NULL",
                                    "6": "ce.data.05a.TotalPrivate.Employment.csv",
                                    "7": "CEU0500000001",
                                    "8": "5",
                                    "9": "05000000",
                                    "10": "1",
                                    "11": "U",
                                    "12": "All employees"
                                },
                                {
                                    "0": "7954",
                                    "1": "CEU0500000002",
                                    "2": "2016",
                                    "3": "M13",
                                    "4": "34.4",
                                    "5": "NULL",
                                    "6": "ce.data.05b.TotalPrivate.AllEmployeeHoursAndEarnings.csv",
                                    "7": "CEU0500000002",
                                    "8": "5",
                                    "9": "05000000",
                                    "10": "2",
                                    "11": "U",
                                    "12": "Average weekly hours of all employees"
                                },
                                {
                                    "0": "8758",
                                    "1": "CEU0500000002",
                                    "2": "2016",
                                    "3": "M13",
                                    "4": "34.4",
                                    "5": "NULL",
                                    "6": "ce.data.0.AllCESSeries.csv",
                                    "7": "CEU0500000002",
                                    "8": "5",
                                    "9": "05000000",
                                    "10": "2",
                                    "11": "U",
                                    "12": "Average weekly hours of all employees"
                                },
                                {
                                    "0": "8759",
                                    "1": "CEU0500000003",
                                    "2": "2016",
                                    "3": "M13",
                                    "4": "25.65",
                                    "5": "NULL",
                                    "6": "ce.data.0.AllCESSeries.csv",
                                    "7": "CEU0500000003",
                                    "8": "5",
                                    "9": "05000000",
                                    "10": "3",
                                    "11": "U",
                                    "12": "Average hourly earnings of all employees"
                                },
                                {
                                    "0": "7955",
                                    "1": "CEU0500000003",
                                    "2": "2016",
                                    "3": "M13",
                                    "4": "25.65",
                                    "5": "NULL",
                                    "6": "ce.data.05b.TotalPrivate.AllEmployeeHoursAndEarnings.csv",
                                    "7": "CEU0500000003",
                                    "8": "5",
                                    "9": "05000000",
                                    "10": "3",
                                    "11": "U",
                                    "12": "Average hourly earnings of all employees"
                                },
                                {
                                    "0": "6282",
                                    "1": "CEU0500000006",
                                    "2": "2016",
                                    "3": "M13",
                                    "4": "100531",
                                    "5": "NULL",
                                    "6": "ce.data.05a.TotalPrivate.Employment.csv",
                                    "7": "CEU0500000006",
                                    "8": "5",
                                    "9": "05000000",
                                    "10": "6",
                                    "11": "U",
                                    "12": "Production and nonsupervisory employees"
                                },
                                {
                                    "0": "8760",
                                    "1": "CEU0500000006",
                                    "2": "2016",
                                    "3": "M13",
                                    "4": "100531",
                                    "5": "NULL",
                                    "6": "ce.data.0.AllCESSeries.csv",
                                    "7": "CEU0500000006",
                                    "8": "5",
                                    "9": "05000000",
                                    "10": "6",
                                    "11": "U",
                                    "12": "Production and nonsupervisory employees"
                                },
                                {
                                    "0": "8761",
                                    "1": "CEU0500000007",
                                    "2": "2016",
                                    "3": "M13",
                                    "4": "33.6",
                                    "5": "NULL",
                                    "6": "ce.data.0.AllCESSeries.csv",
                                    "7": "CEU0500000007",
                                    "8": "5",
                                    "9": "05000000",
                                    "10": "7",
                                    "11": "U",
                                    "12": "Average weekly hours of production and nonsupervisory employees"
                                },
                                {
                                    "0": "5721",
                                    "1": "CEU0500000007",
                                    "2": "2016",
                                    "3": "M13",
                                    "4": "33.6",
                                    "5": "NULL",
                                    "6": "ce.data.05c.TotalPrivate.ProductionEmployeeHoursAndEarnings.csv",
                                    "7": "CEU0500000007",
                                    "8": "5",
                                    "9": "05000000",
                                    "10": "7",
                                    "11": "U",
                                    "12": "Average weekly hours of production and nonsupervisory employees"
                                },
                                {
                                    "0": "5722",
                                    "1": "CEU0500000008",
                                    "2": "2016",
                                    "3": "M13",
                                    "4": "21.54",
                                    "5": "NULL",
                                    "6": "ce.data.05c.TotalPrivate.ProductionEmployeeHoursAndEarnings.csv",
                                    "7": "CEU0500000008",
                                    "8": "5",
                                    "9": "05000000",
                                    "10": "8",
                                    "11": "U",
                                    "12": "Average hourly earnings of production and nonsupervisory employees"
                                },
                                {
                                    "0": "8762",
                                    "1": "CEU0500000008",
                                    "2": "2016",
                                    "3": "M13",
                                    "4": "21.54",
                                    "5": "NULL",
                                    "6": "ce.data.0.AllCESSeries.csv",
                                    "7": "CEU0500000008",
                                    "8": "5",
                                    "9": "05000000",
                                    "10": "8",
                                    "11": "U",
                                    "12": "Average hourly earnings of production and nonsupervisory employees"
                                },
                                {
                                    "0": "8763",
                                    "1": "CEU0500000010",
                                    "2": "2016",
                                    "3": "M13",
                                    "4": "58747",
                                    "5": "NULL",
                                    "6": "ce.data.0.AllCESSeries.csv",
                                    "7": "CEU0500000010",
                                    "8": "5",
                                    "9": "05000000",
                                    "10": "10",
                                    "11": "U",
                                    "12": "Women employees"
                                },
                                {
                                    "0": "6283",
                                    "1": "CEU0500000010",
                                    "2": "2016",
                                    "3": "M13",
                                    "4": "58747",
                                    "5": "NULL",
                                    "6": "ce.data.05a.TotalPrivate.Employment.csv",
                                    "7": "CEU0500000010",
                                    "8": "5",
                                    "9": "05000000",
                                    "10": "10",
                                    "11": "U",
                                    "12": "Women employees"
                                },
                                {
                                    "0": "7956",
                                    "1": "CEU0500000011",
                                    "2": "2016",
                                    "3": "M13",
                                    "4": "881.55",
                                    "5": "NULL",
                                    "6": "ce.data.05b.TotalPrivate.AllEmployeeHoursAndEarnings.csv",
                                    "7": "CEU0500000011",
                                    "8": "5",
                                    "9": "05000000",
                                    "10": "11",
                                    "11": "U",
                                    "12": "Average weekly earnings of all employees"
                                },
                                {
                                    "0": "8764",
                                    "1": "CEU0500000011",
                                    "2": "2016",
                                    "3": "M13",
                                    "4": "881.55",
                                    "5": "NULL",
                                    "6": "ce.data.0.AllCESSeries.csv",
                                    "7": "CEU0500000011",
                                    "8": "5",
                                    "9": "05000000",
                                    "10": "11",
                                    "11": "U",
                                    "12": "Average weekly earnings of all employees"
                                },
                                {
                                    "0": "8765",
                                    "1": "CEU0500000012",
                                    "2": "2016",
                                    "3": "M13",
                                    "4": "367.3",
                                    "5": "NULL",
                                    "6": "ce.data.0.AllCESSeries.csv",
                                    "7": "CEU0500000012",
                                    "8": "5",
                                    "9": "05000000",
                                    "10": "12",
                                    "11": "U",
                                    "12": "Average weekly earnings of all employees"
                                },
                                {
                                    "0": "7957",
                                    "1": "CEU0500000012",
                                    "2": "2016",
                                    "3": "M13",
                                    "4": "367.3",
                                    "5": "NULL",
                                    "6": "ce.data.05b.TotalPrivate.AllEmployeeHoursAndEarnings.csv",
                                    "7": "CEU0500000012",
                                    "8": "5",
                                    "9": "05000000",
                                    "10": "12",
                                    "11": "U",
                                    "12": "Average weekly earnings of all employees"
                                },
                                {
                                    "0": "3808",
                                    "1": "CEU0500000012",
                                    "2": "2016",
                                    "3": "M13",
                                    "4": "367.3",
                                    "5": "NULL",
                                    "6": "ce.data.02b.AllRealEarningsAE.csv",
                                    "7": "CEU0500000012",
                                    "8": "5",
                                    "9": "05000000",
                                    "10": "12",
                                    "11": "U",
                                    "12": "Average weekly earnings of all employees"
                                },
                                {
                                    "0": "3809",
                                    "1": "CEU0500000013",
                                    "2": "2016",
                                    "3": "M13",
                                    "4": "10.69",
                                    "5": "NULL",
                                    "6": "ce.data.02b.AllRealEarningsAE.csv",
                                    "7": "CEU0500000013",
                                    "8": "5",
                                    "9": "05000000",
                                    "10": "13",
                                    "11": "U",
                                    "12": "Average hourly earnings of all employees"
                                },
                                {
                                    "0": "7958",
                                    "1": "CEU0500000013",
                                    "2": "2016",
                                    "3": "M13",
                                    "4": "10.69",
                                    "5": "NULL",
                                    "6": "ce.data.05b.TotalPrivate.AllEmployeeHoursAndEarnings.csv",
                                    "7": "CEU0500000013",
                                    "8": "5",
                                    "9": "05000000",
                                    "10": "13",
                                    "11": "U",
                                    "12": "Average hourly earnings of all employees"
                                },
                                {
                                    "0": "8766",
                                    "1": "CEU0500000013",
                                    "2": "2016",
                                    "3": "M13",
                                    "4": "10.69",
                                    "5": "NULL",
                                    "6": "ce.data.0.AllCESSeries.csv",
                                    "7": "CEU0500000013",
                                    "8": "5",
                                    "9": "05000000",
                                    "10": "13",
                                    "11": "U",
                                    "12": "Average hourly earnings of all employees"
                                },
                                {
                                    "0": "8767",
                                    "1": "CEU0500000016",
                                    "2": "2016",
                                    "3": "M13",
                                    "4": "105.3",
                                    "5": "NULL",
                                    "6": "ce.data.0.AllCESSeries.csv",
                                    "7": "CEU0500000016",
                                    "8": "5",
                                    "9": "05000000",
                                    "10": "16",
                                    "11": "U",
                                    "12": "Indexes of aggregate weekly hours of all employees"
                                },
                                {
                                    "0": "7959",
                                    "1": "CEU0500000016",
                                    "2": "2016",
                                    "3": "M13",
                                    "4": "105.3",
                                    "5": "NULL",
                                    "6": "ce.data.05b.TotalPrivate.AllEmployeeHoursAndEarnings.csv",
                                    "7": "CEU0500000016",
                                    "8": "5",
                                    "9": "05000000",
                                    "10": "16",
                                    "11": "U",
                                    "12": "Indexes of aggregate weekly hours of all employees"
                                },
                                {
                                    "0": "7960",
                                    "1": "CEU0500000017",
                                    "2": "2016",
                                    "3": "M13",
                                    "4": "129.1",
                                    "5": "NULL",
                                    "6": "ce.data.05b.TotalPrivate.AllEmployeeHoursAndEarnings.csv",
                                    "7": "CEU0500000017",
                                    "8": "5",
                                    "9": "05000000",
                                    "10": "17",
                                    "11": "U",
                                    "12": "Indexes of aggregate weekly payrolls of all employees"
                                },
                                {
                                    "0": "8768",
                                    "1": "CEU0500000017",
                                    "2": "2016",
                                    "3": "M13",
                                    "4": "129.1",
                                    "5": "NULL",
                                    "6": "ce.data.0.AllCESSeries.csv",
                                    "7": "CEU0500000017",
                                    "8": "5",
                                    "9": "05000000",
                                    "10": "17",
                                    "11": "U",
                                    "12": "Indexes of aggregate weekly payrolls of all employees"
                                },
                                {
                                    "0": "8769",
                                    "1": "CEU0500000030",
                                    "2": "2016",
                                    "3": "M13",
                                    "4": "723.69",
                                    "5": "NULL",
                                    "6": "ce.data.0.AllCESSeries.csv",
                                    "7": "CEU0500000030",
                                    "8": "5",
                                    "9": "05000000",
                                    "10": "30",
                                    "11": "U",
                                    "12": "Average weekly earnings of production and nonsupervisory employees"
                                },
                                {
                                    "0": "5723",
                                    "1": "CEU0500000030",
                                    "2": "2016",
                                    "3": "M13",
                                    "4": "723.69",
                                    "5": "NULL",
                                    "6": "ce.data.05c.TotalPrivate.ProductionEmployeeHoursAndEarnings.csv",
                                    "7": "CEU0500000030",
                                    "8": "5",
                                    "9": "05000000",
                                    "10": "30",
                                    "11": "U",
                                    "12": "Average weekly earnings of production and nonsupervisory employees"
                                },
                                {
                                    "0": "5724",
                                    "1": "CEU0500000031",
                                    "2": "2016",
                                    "3": "M13",
                                    "4": "309.17",
                                    "5": "NULL",
                                    "6": "ce.data.05c.TotalPrivate.ProductionEmployeeHoursAndEarnings.csv",
                                    "7": "CEU0500000031",
                                    "8": "5",
                                    "9": "05000000",
                                    "10": "31",
                                    "11": "U",
                                    "12": "Average weekly earnings of production and nonsupervisory employees"
                                },
                                {
                                    "0": "8770",
                                    "1": "CEU0500000031",
                                    "2": "2016",
                                    "3": "M13",
                                    "4": "309.17",
                                    "5": "NULL",
                                    "6": "ce.data.0.AllCESSeries.csv",
                                    "7": "CEU0500000031",
                                    "8": "5",
                                    "9": "05000000",
                                    "10": "31",
                                    "11": "U",
                                    "12": "Average weekly earnings of production and nonsupervisory employees"
                                },
                                {
                                    "0": "26206",
                                    "1": "CEU0500000031",
                                    "2": "2016",
                                    "3": "M13",
                                    "4": "309.17",
                                    "5": "NULL",
                                    "6": "ce.data.03c.AllRealEarningsPE.csv",
                                    "7": "CEU0500000031",
                                    "8": "5",
                                    "9": "05000000",
                                    "10": "31",
                                    "11": "U",
                                    "12": "Average weekly earnings of production and nonsupervisory employees"
                                },
                                {
                                    "0": "26207",
                                    "1": "CEU0500000032",
                                    "2": "2016",
                                    "3": "M13",
                                    "4": "9.2",
                                    "5": "NULL",
                                    "6": "ce.data.03c.AllRealEarningsPE.csv",
                                    "7": "CEU0500000032",
                                    "8": "5",
                                    "9": "05000000",
                                    "10": "32",
                                    "11": "U",
                                    "12": "Average hourly earnings of production and nonsupervisory employees"
                                },
                                {
                                    "0": "8771",
                                    "1": "CEU0500000032",
                                    "2": "2016",
                                    "3": "M13",
                                    "4": "9.2",
                                    "5": "NULL",
                                    "6": "ce.data.0.AllCESSeries.csv",
                                    "7": "CEU0500000032",
                                    "8": "5",
                                    "9": "05000000",
                                    "10": "32",
                                    "11": "U",
                                    "12": "Average hourly earnings of production and nonsupervisory employees"
                                },
                                {
                                    "0": "5725",
                                    "1": "CEU0500000032",
                                    "2": "2016",
                                    "3": "M13",
                                    "4": "9.2",
                                    "5": "NULL",
                                    "6": "ce.data.05c.TotalPrivate.ProductionEmployeeHoursAndEarnings.csv",
                                    "7": "CEU0500000032",
                                    "8": "5",
                                    "9": "05000000",
                                    "10": "32",
                                    "11": "U",
                                    "12": "Average hourly earnings of production and nonsupervisory employees"
                                },
                                {
                                    "0": "5726",
                                    "1": "CEU0500000034",
                                    "2": "2016",
                                    "3": "M13",
                                    "4": "112.5",
                                    "5": "NULL",
                                    "6": "ce.data.05c.TotalPrivate.ProductionEmployeeHoursAndEarnings.csv",
                                    "7": "CEU0500000034",
                                    "8": "5",
                                    "9": "05000000",
                                    "10": "34",
                                    "11": "U",
                                    "12": "Indexes of aggregate weekly hours of production and nonsupervisory employees"
                                },
                                {
                                    "0": "8772",
                                    "1": "CEU0500000034",
                                    "2": "2016",
                                    "3": "M13",
                                    "4": "112.5",
                                    "5": "NULL",
                                    "6": "ce.data.0.AllCESSeries.csv",
                                    "7": "CEU0500000034",
                                    "8": "5",
                                    "9": "05000000",
                                    "10": "34",
                                    "11": "U",
                                    "12": "Indexes of aggregate weekly hours of production and nonsupervisory employees"
                                },
                                {
                                    "0": "8773",
                                    "1": "CEU0500000035",
                                    "2": "2016",
                                    "3": "M13",
                                    "4": "162",
                                    "5": "NULL",
                                    "6": "ce.data.0.AllCESSeries.csv",
                                    "7": "CEU0500000035",
                                    "8": "5",
                                    "9": "05000000",
                                    "10": "35",
                                    "11": "U",
                                    "12": "Indexes of aggregate weekly payrolls of production and nonsupervisory employees"
                                },
                                {
                                    "0": "5727",
                                    "1": "CEU0500000035",
                                    "2": "2016",
                                    "3": "M13",
                                    "4": "162",
                                    "5": "NULL",
                                    "6": "ce.data.05c.TotalPrivate.ProductionEmployeeHoursAndEarnings.csv",
                                    "7": "CEU0500000035",
                                    "8": "5",
                                    "9": "05000000",
                                    "10": "35",
                                    "11": "U",
                                    "12": "Indexes of aggregate weekly payrolls of production and nonsupervisory employees"
                                },
                                {
                                    "0": "7961",
                                    "1": "CEU0500000056",
                                    "2": "2016",
                                    "3": "M13",
                                    "4": "4195743",
                                    "5": "NULL",
                                    "6": "ce.data.05b.TotalPrivate.AllEmployeeHoursAndEarnings.csv",
                                    "7": "CEU0500000056",
                                    "8": "5",
                                    "9": "05000000",
                                    "10": "56",
                                    "11": "U",
                                    "12": "Aggregate weekly hours of all employees"
                                },
                                {
                                    "0": "8774",
                                    "1": "CEU0500000056",
                                    "2": "2016",
                                    "3": "M13",
                                    "4": "4195743",
                                    "5": "NULL",
                                    "6": "ce.data.0.AllCESSeries.csv",
                                    "7": "CEU0500000056",
                                    "8": "5",
                                    "9": "05000000",
                                    "10": "56",
                                    "11": "U",
                                    "12": "Aggregate weekly hours of all employees"
                                },
                                {
                                    "0": "8775",
                                    "1": "CEU0500000057",
                                    "2": "2016",
                                    "3": "M13",
                                    "4": "107621623",
                                    "5": "NULL",
                                    "6": "ce.data.0.AllCESSeries.csv",
                                    "7": "CEU0500000057",
                                    "8": "5",
                                    "9": "05000000",
                                    "10": "57",
                                    "11": "U",
                                    "12": "Aggregate weekly payrolls of all employees"
                                },
                                {
                                    "0": "7962",
                                    "1": "CEU0500000057",
                                    "2": "2016",
                                    "3": "M13",
                                    "4": "107621623",
                                    "5": "NULL",
                                    "6": "ce.data.05b.TotalPrivate.AllEmployeeHoursAndEarnings.csv",
                                    "7": "CEU0500000057",
                                    "8": "5",
                                    "9": "05000000",
                                    "10": "57",
                                    "11": "U",
                                    "12": "Aggregate weekly payrolls of all employees"
                                },
                                {
                                    "0": "5728",
                                    "1": "CEU0500000081",
                                    "2": "2016",
                                    "3": "M13",
                                    "4": "3377192",
                                    "5": "NULL",
                                    "6": "ce.data.05c.TotalPrivate.ProductionEmployeeHoursAndEarnings.csv",
                                    "7": "CEU0500000081",
                                    "8": "5",
                                    "9": "05000000",
                                    "10": "81",
                                    "11": "U",
                                    "12": "Aggregate weekly hours of production and nonsupervisory employees"
                                },
                                {
                                    "0": "8776",
                                    "1": "CEU0500000081",
                                    "2": "2016",
                                    "3": "M13",
                                    "4": "3377192",
                                    "5": "NULL",
                                    "6": "ce.data.0.AllCESSeries.csv",
                                    "7": "CEU0500000081",
                                    "8": "5",
                                    "9": "05000000",
                                    "10": "81",
                                    "11": "U",
                                    "12": "Aggregate weekly hours of production and nonsupervisory employees"
                                },
                                {
                                    "0": "8777",
                                    "1": "CEU0500000082",
                                    "2": "2016",
                                    "3": "M13",
                                    "4": "72752850",
                                    "5": "NULL",
                                    "6": "ce.data.0.AllCESSeries.csv",
                                    "7": "CEU0500000082",
                                    "8": "5",
                                    "9": "05000000",
                                    "10": "82",
                                    "11": "U",
                                    "12": "Aggregate weekly payrolls of production and nonsupervisory employees"
                                },
                                {
                                    "0": "5729",
                                    "1": "CEU0500000082",
                                    "2": "2016",
                                    "3": "M13",
                                    "4": "72752850",
                                    "5": "NULL",
                                    "6": "ce.data.05c.TotalPrivate.ProductionEmployeeHoursAndEarnings.csv",
                                    "7": "CEU0500000082",
                                    "8": "5",
                                    "9": "05000000",
                                    "10": "82",
                                    "11": "U",
                                    "12": "Aggregate weekly payrolls of production and nonsupervisory employees"
                                }
                            ]
                        },
                        "text/html": [
                            "<table>",
                            "<tr><th>id</th><th>series_id</th><th>year</th><th>period</th><th>value</th><th>footnote_codes</th><th>original_file</th><th>series_id</th><th>supersector_code</th><th>industry_code</th><th>data_type_code</th><th>seasonal</th><th>series_title</th></tr>",
                            "<tr><td>8755</td><td>CEU0000000001</td><td>2016</td><td>M13</td><td>144306</td><td>NULL</td><td>ce.data.0.AllCESSeries.csv</td><td>CEU0000000001</td><td>0</td><td>00000000</td><td>1</td><td>U</td><td>All employees</td></tr>",
                            "<tr><td>22220</td><td>CEU0000000001</td><td>2016</td><td>M13</td><td>144306</td><td>NULL</td><td>ce.data.00a.TotalNonfarm.Employment.csv</td><td>CEU0000000001</td><td>0</td><td>00000000</td><td>1</td><td>U</td><td>All employees</td></tr>",
                            "<tr><td>22221</td><td>CEU0000000010</td><td>2016</td><td>M13</td><td>71492</td><td>NULL</td><td>ce.data.00a.TotalNonfarm.Employment.csv</td><td>CEU0000000010</td><td>0</td><td>00000000</td><td>10</td><td>U</td><td>Women employees</td></tr>",
                            "<tr><td>8756</td><td>CEU0000000010</td><td>2016</td><td>M13</td><td>71492</td><td>NULL</td><td>ce.data.0.AllCESSeries.csv</td><td>CEU0000000010</td><td>0</td><td>00000000</td><td>10</td><td>U</td><td>Women employees</td></tr>",
                            "<tr><td>8757</td><td>CEU0500000001</td><td>2016</td><td>M13</td><td>122083</td><td>NULL</td><td>ce.data.0.AllCESSeries.csv</td><td>CEU0500000001</td><td>5</td><td>05000000</td><td>1</td><td>U</td><td>All employees</td></tr>",
                            "<tr><td>6281</td><td>CEU0500000001</td><td>2016</td><td>M13</td><td>122083</td><td>NULL</td><td>ce.data.05a.TotalPrivate.Employment.csv</td><td>CEU0500000001</td><td>5</td><td>05000000</td><td>1</td><td>U</td><td>All employees</td></tr>",
                            "<tr><td>7954</td><td>CEU0500000002</td><td>2016</td><td>M13</td><td>34.4</td><td>NULL</td><td>ce.data.05b.TotalPrivate.AllEmployeeHoursAndEarnings.csv</td><td>CEU0500000002</td><td>5</td><td>05000000</td><td>2</td><td>U</td><td>Average weekly hours of all employees</td></tr>",
                            "<tr><td>8758</td><td>CEU0500000002</td><td>2016</td><td>M13</td><td>34.4</td><td>NULL</td><td>ce.data.0.AllCESSeries.csv</td><td>CEU0500000002</td><td>5</td><td>05000000</td><td>2</td><td>U</td><td>Average weekly hours of all employees</td></tr>",
                            "<tr><td>8759</td><td>CEU0500000003</td><td>2016</td><td>M13</td><td>25.65</td><td>NULL</td><td>ce.data.0.AllCESSeries.csv</td><td>CEU0500000003</td><td>5</td><td>05000000</td><td>3</td><td>U</td><td>Average hourly earnings of all employees</td></tr>",
                            "<tr><td>7955</td><td>CEU0500000003</td><td>2016</td><td>M13</td><td>25.65</td><td>NULL</td><td>ce.data.05b.TotalPrivate.AllEmployeeHoursAndEarnings.csv</td><td>CEU0500000003</td><td>5</td><td>05000000</td><td>3</td><td>U</td><td>Average hourly earnings of all employees</td></tr>",
                            "<tr><td>6282</td><td>CEU0500000006</td><td>2016</td><td>M13</td><td>100531</td><td>NULL</td><td>ce.data.05a.TotalPrivate.Employment.csv</td><td>CEU0500000006</td><td>5</td><td>05000000</td><td>6</td><td>U</td><td>Production and nonsupervisory employees</td></tr>",
                            "<tr><td>8760</td><td>CEU0500000006</td><td>2016</td><td>M13</td><td>100531</td><td>NULL</td><td>ce.data.0.AllCESSeries.csv</td><td>CEU0500000006</td><td>5</td><td>05000000</td><td>6</td><td>U</td><td>Production and nonsupervisory employees</td></tr>",
                            "<tr><td>8761</td><td>CEU0500000007</td><td>2016</td><td>M13</td><td>33.6</td><td>NULL</td><td>ce.data.0.AllCESSeries.csv</td><td>CEU0500000007</td><td>5</td><td>05000000</td><td>7</td><td>U</td><td>Average weekly hours of production and nonsupervisory employees</td></tr>",
                            "<tr><td>5721</td><td>CEU0500000007</td><td>2016</td><td>M13</td><td>33.6</td><td>NULL</td><td>ce.data.05c.TotalPrivate.ProductionEmployeeHoursAndEarnings.csv</td><td>CEU0500000007</td><td>5</td><td>05000000</td><td>7</td><td>U</td><td>Average weekly hours of production and nonsupervisory employees</td></tr>",
                            "<tr><td>5722</td><td>CEU0500000008</td><td>2016</td><td>M13</td><td>21.54</td><td>NULL</td><td>ce.data.05c.TotalPrivate.ProductionEmployeeHoursAndEarnings.csv</td><td>CEU0500000008</td><td>5</td><td>05000000</td><td>8</td><td>U</td><td>Average hourly earnings of production and nonsupervisory employees</td></tr>",
                            "<tr><td>8762</td><td>CEU0500000008</td><td>2016</td><td>M13</td><td>21.54</td><td>NULL</td><td>ce.data.0.AllCESSeries.csv</td><td>CEU0500000008</td><td>5</td><td>05000000</td><td>8</td><td>U</td><td>Average hourly earnings of production and nonsupervisory employees</td></tr>",
                            "<tr><td>8763</td><td>CEU0500000010</td><td>2016</td><td>M13</td><td>58747</td><td>NULL</td><td>ce.data.0.AllCESSeries.csv</td><td>CEU0500000010</td><td>5</td><td>05000000</td><td>10</td><td>U</td><td>Women employees</td></tr>",
                            "<tr><td>6283</td><td>CEU0500000010</td><td>2016</td><td>M13</td><td>58747</td><td>NULL</td><td>ce.data.05a.TotalPrivate.Employment.csv</td><td>CEU0500000010</td><td>5</td><td>05000000</td><td>10</td><td>U</td><td>Women employees</td></tr>",
                            "<tr><td>7956</td><td>CEU0500000011</td><td>2016</td><td>M13</td><td>881.55</td><td>NULL</td><td>ce.data.05b.TotalPrivate.AllEmployeeHoursAndEarnings.csv</td><td>CEU0500000011</td><td>5</td><td>05000000</td><td>11</td><td>U</td><td>Average weekly earnings of all employees</td></tr>",
                            "<tr><td>8764</td><td>CEU0500000011</td><td>2016</td><td>M13</td><td>881.55</td><td>NULL</td><td>ce.data.0.AllCESSeries.csv</td><td>CEU0500000011</td><td>5</td><td>05000000</td><td>11</td><td>U</td><td>Average weekly earnings of all employees</td></tr>",
                            "<tr><td>8765</td><td>CEU0500000012</td><td>2016</td><td>M13</td><td>367.3</td><td>NULL</td><td>ce.data.0.AllCESSeries.csv</td><td>CEU0500000012</td><td>5</td><td>05000000</td><td>12</td><td>U</td><td>Average weekly earnings of all employees</td></tr>",
                            "<tr><td>7957</td><td>CEU0500000012</td><td>2016</td><td>M13</td><td>367.3</td><td>NULL</td><td>ce.data.05b.TotalPrivate.AllEmployeeHoursAndEarnings.csv</td><td>CEU0500000012</td><td>5</td><td>05000000</td><td>12</td><td>U</td><td>Average weekly earnings of all employees</td></tr>",
                            "<tr><td>3808</td><td>CEU0500000012</td><td>2016</td><td>M13</td><td>367.3</td><td>NULL</td><td>ce.data.02b.AllRealEarningsAE.csv</td><td>CEU0500000012</td><td>5</td><td>05000000</td><td>12</td><td>U</td><td>Average weekly earnings of all employees</td></tr>",
                            "<tr><td>3809</td><td>CEU0500000013</td><td>2016</td><td>M13</td><td>10.69</td><td>NULL</td><td>ce.data.02b.AllRealEarningsAE.csv</td><td>CEU0500000013</td><td>5</td><td>05000000</td><td>13</td><td>U</td><td>Average hourly earnings of all employees</td></tr>",
                            "<tr><td>7958</td><td>CEU0500000013</td><td>2016</td><td>M13</td><td>10.69</td><td>NULL</td><td>ce.data.05b.TotalPrivate.AllEmployeeHoursAndEarnings.csv</td><td>CEU0500000013</td><td>5</td><td>05000000</td><td>13</td><td>U</td><td>Average hourly earnings of all employees</td></tr>",
                            "<tr><td>8766</td><td>CEU0500000013</td><td>2016</td><td>M13</td><td>10.69</td><td>NULL</td><td>ce.data.0.AllCESSeries.csv</td><td>CEU0500000013</td><td>5</td><td>05000000</td><td>13</td><td>U</td><td>Average hourly earnings of all employees</td></tr>",
                            "<tr><td>8767</td><td>CEU0500000016</td><td>2016</td><td>M13</td><td>105.3</td><td>NULL</td><td>ce.data.0.AllCESSeries.csv</td><td>CEU0500000016</td><td>5</td><td>05000000</td><td>16</td><td>U</td><td>Indexes of aggregate weekly hours of all employees</td></tr>",
                            "<tr><td>7959</td><td>CEU0500000016</td><td>2016</td><td>M13</td><td>105.3</td><td>NULL</td><td>ce.data.05b.TotalPrivate.AllEmployeeHoursAndEarnings.csv</td><td>CEU0500000016</td><td>5</td><td>05000000</td><td>16</td><td>U</td><td>Indexes of aggregate weekly hours of all employees</td></tr>",
                            "<tr><td>7960</td><td>CEU0500000017</td><td>2016</td><td>M13</td><td>129.1</td><td>NULL</td><td>ce.data.05b.TotalPrivate.AllEmployeeHoursAndEarnings.csv</td><td>CEU0500000017</td><td>5</td><td>05000000</td><td>17</td><td>U</td><td>Indexes of aggregate weekly payrolls of all employees</td></tr>",
                            "<tr><td>8768</td><td>CEU0500000017</td><td>2016</td><td>M13</td><td>129.1</td><td>NULL</td><td>ce.data.0.AllCESSeries.csv</td><td>CEU0500000017</td><td>5</td><td>05000000</td><td>17</td><td>U</td><td>Indexes of aggregate weekly payrolls of all employees</td></tr>",
                            "<tr><td>8769</td><td>CEU0500000030</td><td>2016</td><td>M13</td><td>723.69</td><td>NULL</td><td>ce.data.0.AllCESSeries.csv</td><td>CEU0500000030</td><td>5</td><td>05000000</td><td>30</td><td>U</td><td>Average weekly earnings of production and nonsupervisory employees</td></tr>",
                            "<tr><td>5723</td><td>CEU0500000030</td><td>2016</td><td>M13</td><td>723.69</td><td>NULL</td><td>ce.data.05c.TotalPrivate.ProductionEmployeeHoursAndEarnings.csv</td><td>CEU0500000030</td><td>5</td><td>05000000</td><td>30</td><td>U</td><td>Average weekly earnings of production and nonsupervisory employees</td></tr>",
                            "<tr><td>5724</td><td>CEU0500000031</td><td>2016</td><td>M13</td><td>309.17</td><td>NULL</td><td>ce.data.05c.TotalPrivate.ProductionEmployeeHoursAndEarnings.csv</td><td>CEU0500000031</td><td>5</td><td>05000000</td><td>31</td><td>U</td><td>Average weekly earnings of production and nonsupervisory employees</td></tr>",
                            "<tr><td>8770</td><td>CEU0500000031</td><td>2016</td><td>M13</td><td>309.17</td><td>NULL</td><td>ce.data.0.AllCESSeries.csv</td><td>CEU0500000031</td><td>5</td><td>05000000</td><td>31</td><td>U</td><td>Average weekly earnings of production and nonsupervisory employees</td></tr>",
                            "<tr><td>26206</td><td>CEU0500000031</td><td>2016</td><td>M13</td><td>309.17</td><td>NULL</td><td>ce.data.03c.AllRealEarningsPE.csv</td><td>CEU0500000031</td><td>5</td><td>05000000</td><td>31</td><td>U</td><td>Average weekly earnings of production and nonsupervisory employees</td></tr>",
                            "<tr><td>26207</td><td>CEU0500000032</td><td>2016</td><td>M13</td><td>9.2</td><td>NULL</td><td>ce.data.03c.AllRealEarningsPE.csv</td><td>CEU0500000032</td><td>5</td><td>05000000</td><td>32</td><td>U</td><td>Average hourly earnings of production and nonsupervisory employees</td></tr>",
                            "<tr><td>8771</td><td>CEU0500000032</td><td>2016</td><td>M13</td><td>9.2</td><td>NULL</td><td>ce.data.0.AllCESSeries.csv</td><td>CEU0500000032</td><td>5</td><td>05000000</td><td>32</td><td>U</td><td>Average hourly earnings of production and nonsupervisory employees</td></tr>",
                            "<tr><td>5725</td><td>CEU0500000032</td><td>2016</td><td>M13</td><td>9.2</td><td>NULL</td><td>ce.data.05c.TotalPrivate.ProductionEmployeeHoursAndEarnings.csv</td><td>CEU0500000032</td><td>5</td><td>05000000</td><td>32</td><td>U</td><td>Average hourly earnings of production and nonsupervisory employees</td></tr>",
                            "<tr><td>5726</td><td>CEU0500000034</td><td>2016</td><td>M13</td><td>112.5</td><td>NULL</td><td>ce.data.05c.TotalPrivate.ProductionEmployeeHoursAndEarnings.csv</td><td>CEU0500000034</td><td>5</td><td>05000000</td><td>34</td><td>U</td><td>Indexes of aggregate weekly hours of production and nonsupervisory employees</td></tr>",
                            "<tr><td>8772</td><td>CEU0500000034</td><td>2016</td><td>M13</td><td>112.5</td><td>NULL</td><td>ce.data.0.AllCESSeries.csv</td><td>CEU0500000034</td><td>5</td><td>05000000</td><td>34</td><td>U</td><td>Indexes of aggregate weekly hours of production and nonsupervisory employees</td></tr>",
                            "<tr><td>8773</td><td>CEU0500000035</td><td>2016</td><td>M13</td><td>162</td><td>NULL</td><td>ce.data.0.AllCESSeries.csv</td><td>CEU0500000035</td><td>5</td><td>05000000</td><td>35</td><td>U</td><td>Indexes of aggregate weekly payrolls of production and nonsupervisory employees</td></tr>",
                            "<tr><td>5727</td><td>CEU0500000035</td><td>2016</td><td>M13</td><td>162</td><td>NULL</td><td>ce.data.05c.TotalPrivate.ProductionEmployeeHoursAndEarnings.csv</td><td>CEU0500000035</td><td>5</td><td>05000000</td><td>35</td><td>U</td><td>Indexes of aggregate weekly payrolls of production and nonsupervisory employees</td></tr>",
                            "<tr><td>7961</td><td>CEU0500000056</td><td>2016</td><td>M13</td><td>4195743</td><td>NULL</td><td>ce.data.05b.TotalPrivate.AllEmployeeHoursAndEarnings.csv</td><td>CEU0500000056</td><td>5</td><td>05000000</td><td>56</td><td>U</td><td>Aggregate weekly hours of all employees</td></tr>",
                            "<tr><td>8774</td><td>CEU0500000056</td><td>2016</td><td>M13</td><td>4195743</td><td>NULL</td><td>ce.data.0.AllCESSeries.csv</td><td>CEU0500000056</td><td>5</td><td>05000000</td><td>56</td><td>U</td><td>Aggregate weekly hours of all employees</td></tr>",
                            "<tr><td>8775</td><td>CEU0500000057</td><td>2016</td><td>M13</td><td>107621623</td><td>NULL</td><td>ce.data.0.AllCESSeries.csv</td><td>CEU0500000057</td><td>5</td><td>05000000</td><td>57</td><td>U</td><td>Aggregate weekly payrolls of all employees</td></tr>",
                            "<tr><td>7962</td><td>CEU0500000057</td><td>2016</td><td>M13</td><td>107621623</td><td>NULL</td><td>ce.data.05b.TotalPrivate.AllEmployeeHoursAndEarnings.csv</td><td>CEU0500000057</td><td>5</td><td>05000000</td><td>57</td><td>U</td><td>Aggregate weekly payrolls of all employees</td></tr>",
                            "<tr><td>5728</td><td>CEU0500000081</td><td>2016</td><td>M13</td><td>3377192</td><td>NULL</td><td>ce.data.05c.TotalPrivate.ProductionEmployeeHoursAndEarnings.csv</td><td>CEU0500000081</td><td>5</td><td>05000000</td><td>81</td><td>U</td><td>Aggregate weekly hours of production and nonsupervisory employees</td></tr>",
                            "<tr><td>8776</td><td>CEU0500000081</td><td>2016</td><td>M13</td><td>3377192</td><td>NULL</td><td>ce.data.0.AllCESSeries.csv</td><td>CEU0500000081</td><td>5</td><td>05000000</td><td>81</td><td>U</td><td>Aggregate weekly hours of production and nonsupervisory employees</td></tr>",
                            "<tr><td>8777</td><td>CEU0500000082</td><td>2016</td><td>M13</td><td>72752850</td><td>NULL</td><td>ce.data.0.AllCESSeries.csv</td><td>CEU0500000082</td><td>5</td><td>05000000</td><td>82</td><td>U</td><td>Aggregate weekly payrolls of production and nonsupervisory employees</td></tr>",
                            "<tr><td>5729</td><td>CEU0500000082</td><td>2016</td><td>M13</td><td>72752850</td><td>NULL</td><td>ce.data.05c.TotalPrivate.ProductionEmployeeHoursAndEarnings.csv</td><td>CEU0500000082</td><td>5</td><td>05000000</td><td>82</td><td>U</td><td>Aggregate weekly payrolls of production and nonsupervisory employees</td></tr>",
                            "</table>"
                        ]
                    }
                }
            ],
            "execution_count": 33
        },
        {
            "cell_type": "markdown",
            "source": [
                "2. <span style=\"background-color: rgb(255, 255, 255); font-size: 10pt; white-space: pre-wrap; color: rgb(102, 102, 102); font-family: Arvo, serif;\">Join series and datatype on data_type_code</span>"
            ],
            "metadata": {
                "azdata_cell_guid": "710b59ae-224b-4f9d-b1a4-4a6b89048bbb"
            },
            "attachments": {}
        },
        {
            "cell_type": "code",
            "source": [
                "USE LaborStatisticsDB\n",
                "\n",
                "SELECT TOP 50*\n",
                "FROM series\n",
                "LEFT JOIN datatype\n",
                "ON series.data_type_code = datatype.data_type_code"
            ],
            "metadata": {
                "azdata_cell_guid": "fca61371-c9b5-4823-a4b4-34c1279ece3e",
                "language": "sql"
            },
            "outputs": [
                {
                    "output_type": "display_data",
                    "data": {
                        "text/html": "(50 rows affected)"
                    },
                    "metadata": {}
                },
                {
                    "output_type": "display_data",
                    "data": {
                        "text/html": "Total execution time: 00:00:00.066"
                    },
                    "metadata": {}
                },
                {
                    "output_type": "execute_result",
                    "metadata": {},
                    "execution_count": 34,
                    "data": {
                        "application/vnd.dataresource+json": {
                            "schema": {
                                "fields": [
                                    {
                                        "name": "series_id"
                                    },
                                    {
                                        "name": "supersector_code"
                                    },
                                    {
                                        "name": "industry_code"
                                    },
                                    {
                                        "name": "data_type_code"
                                    },
                                    {
                                        "name": "seasonal"
                                    },
                                    {
                                        "name": "series_title"
                                    },
                                    {
                                        "name": "data_type_code"
                                    },
                                    {
                                        "name": "data_type_text"
                                    }
                                ]
                            },
                            "data": [
                                {
                                    "0": "CES0000000001",
                                    "1": "0",
                                    "2": "00000000",
                                    "3": "1",
                                    "4": "S",
                                    "5": "All employees",
                                    "6": "1",
                                    "7": "ALL EMPLOYEES"
                                },
                                {
                                    "0": "CES0000000010",
                                    "1": "0",
                                    "2": "00000000",
                                    "3": "10",
                                    "4": "S",
                                    "5": "Women employees",
                                    "6": "10",
                                    "7": "WOMEN EMPLOYEES"
                                },
                                {
                                    "0": "CES0000000025",
                                    "1": "0",
                                    "2": "00000000",
                                    "3": "25",
                                    "4": "S",
                                    "5": "All employees",
                                    "6": "25",
                                    "7": "ALL EMPLOYEES"
                                },
                                {
                                    "0": "CES0000000026",
                                    "1": "0",
                                    "2": "00000000",
                                    "3": "26",
                                    "4": "S",
                                    "5": "All employees",
                                    "6": "26",
                                    "7": "ALL EMPLOYEES"
                                },
                                {
                                    "0": "CES0500000001",
                                    "1": "5",
                                    "2": "05000000",
                                    "3": "1",
                                    "4": "S",
                                    "5": "All employees",
                                    "6": "1",
                                    "7": "ALL EMPLOYEES"
                                },
                                {
                                    "0": "CES0500000002",
                                    "1": "5",
                                    "2": "05000000",
                                    "3": "2",
                                    "4": "S",
                                    "5": "Average weekly hours of all employees",
                                    "6": "2",
                                    "7": "AVERAGE WEEKLY HOURS OF ALL EMPLOYEES"
                                },
                                {
                                    "0": "CES0500000003",
                                    "1": "5",
                                    "2": "05000000",
                                    "3": "3",
                                    "4": "S",
                                    "5": "Average hourly earnings of all employees",
                                    "6": "3",
                                    "7": "AVERAGE HOURLY EARNINGS OF ALL EMPLOYEES"
                                },
                                {
                                    "0": "CES0500000006",
                                    "1": "5",
                                    "2": "05000000",
                                    "3": "6",
                                    "4": "S",
                                    "5": "Production and nonsupervisory employees",
                                    "6": "6",
                                    "7": "PRODUCTION AND NONSUPERVISORY EMPLOYEES"
                                },
                                {
                                    "0": "CES0500000007",
                                    "1": "5",
                                    "2": "05000000",
                                    "3": "7",
                                    "4": "S",
                                    "5": "Average weekly hours of production and nonsupervisory employees",
                                    "6": "7",
                                    "7": "AVERAGE WEEKLY HOURS OF PRODUCTION AND NONSUPERVISORY EMPLOYEES"
                                },
                                {
                                    "0": "CES0500000008",
                                    "1": "5",
                                    "2": "05000000",
                                    "3": "8",
                                    "4": "S",
                                    "5": "Average hourly earnings of production and nonsupervisory employees",
                                    "6": "8",
                                    "7": "AVERAGE HOURLY EARNINGS OF PRODUCTION AND NONSUPERVISORY EMPLOYEES"
                                },
                                {
                                    "0": "CES0500000010",
                                    "1": "5",
                                    "2": "05000000",
                                    "3": "10",
                                    "4": "S",
                                    "5": "Women employees",
                                    "6": "10",
                                    "7": "WOMEN EMPLOYEES"
                                },
                                {
                                    "0": "CES0500000011",
                                    "1": "5",
                                    "2": "05000000",
                                    "3": "11",
                                    "4": "S",
                                    "5": "Average weekly earnings of all employees",
                                    "6": "11",
                                    "7": "AVERAGE WEEKLY EARNINGS OF ALL EMPLOYEES"
                                },
                                {
                                    "0": "CES0500000012",
                                    "1": "5",
                                    "2": "05000000",
                                    "3": "12",
                                    "4": "S",
                                    "5": "Average weekly earnings of all employees",
                                    "6": "12",
                                    "7": "AVERAGE WEEKLY EARNINGS OF ALL EMPLOYEES"
                                },
                                {
                                    "0": "CES0500000013",
                                    "1": "5",
                                    "2": "05000000",
                                    "3": "13",
                                    "4": "S",
                                    "5": "Average hourly earnings of all employees",
                                    "6": "13",
                                    "7": "AVERAGE HOURLY EARNINGS OF ALL EMPLOYEES"
                                },
                                {
                                    "0": "CES0500000016",
                                    "1": "5",
                                    "2": "05000000",
                                    "3": "16",
                                    "4": "S",
                                    "5": "Indexes of aggregate weekly hours of all employees",
                                    "6": "16",
                                    "7": "INDEXES OF AGGREGATE WEEKLY HOURS OF ALL EMPLOYEES"
                                },
                                {
                                    "0": "CES0500000017",
                                    "1": "5",
                                    "2": "05000000",
                                    "3": "17",
                                    "4": "S",
                                    "5": "Indexes of aggregate weekly payrolls of all employees",
                                    "6": "17",
                                    "7": "INDEXES OF AGGREGATE WEEKLY PAYROLLS OF ALL EMPLOYEES"
                                },
                                {
                                    "0": "CES0500000019",
                                    "1": "5",
                                    "2": "05000000",
                                    "3": "19",
                                    "4": "S",
                                    "5": "Average weekly hours of all employees",
                                    "6": "19",
                                    "7": "AVERAGE WEEKLY HOURS OF ALL EMPLOYEES"
                                },
                                {
                                    "0": "CES0500000021",
                                    "1": "5",
                                    "2": "05000000",
                                    "3": "21",
                                    "4": "S",
                                    "5": "Diffusion indexes",
                                    "6": "21",
                                    "7": "DIFFUSION INDEXES"
                                },
                                {
                                    "0": "CES0500000022",
                                    "1": "5",
                                    "2": "05000000",
                                    "3": "22",
                                    "4": "S",
                                    "5": "Diffusion indexes",
                                    "6": "22",
                                    "7": "DIFFUSION INDEXES"
                                },
                                {
                                    "0": "CES0500000023",
                                    "1": "5",
                                    "2": "05000000",
                                    "3": "23",
                                    "4": "S",
                                    "5": "Diffusion indexes",
                                    "6": "23",
                                    "7": "DIFFUSION INDEXES"
                                },
                                {
                                    "0": "CES0500000025",
                                    "1": "5",
                                    "2": "05000000",
                                    "3": "25",
                                    "4": "S",
                                    "5": "All employees",
                                    "6": "25",
                                    "7": "ALL EMPLOYEES"
                                },
                                {
                                    "0": "CES0500000026",
                                    "1": "5",
                                    "2": "05000000",
                                    "3": "26",
                                    "4": "S",
                                    "5": "All employees",
                                    "6": "26",
                                    "7": "ALL EMPLOYEES"
                                },
                                {
                                    "0": "CES0500000030",
                                    "1": "5",
                                    "2": "05000000",
                                    "3": "30",
                                    "4": "S",
                                    "5": "Average weekly earnings of production and nonsupervisory employees",
                                    "6": "30",
                                    "7": "AVERAGE WEEKLY EARNINGS OF PRODUCTION AND NONSUPERVISORY EMPLOYEES"
                                },
                                {
                                    "0": "CES0500000031",
                                    "1": "5",
                                    "2": "05000000",
                                    "3": "31",
                                    "4": "S",
                                    "5": "Average weekly earnings of production and nonsupervisory employees",
                                    "6": "31",
                                    "7": "AVERAGE WEEKLY EARNINGS OF PRODUCTION AND NONSUPERVISORY EMPLOYEES"
                                },
                                {
                                    "0": "CES0500000032",
                                    "1": "5",
                                    "2": "05000000",
                                    "3": "32",
                                    "4": "S",
                                    "5": "Average hourly earnings of production and nonsupervisory employees",
                                    "6": "32",
                                    "7": "AVERAGE HOURLY EARNINGS OF PRODUCTION AND NONSUPERVISORY EMPLOYEES"
                                },
                                {
                                    "0": "CES0500000034",
                                    "1": "5",
                                    "2": "05000000",
                                    "3": "34",
                                    "4": "S",
                                    "5": "Indexes of aggregate weekly hours of production and nonsupervisory employees",
                                    "6": "34",
                                    "7": "INDEXES OF AGGREGATE WEEKLY HOURS OF PRODUCTION AND NONSUPERVISORY EMPLOYEES"
                                },
                                {
                                    "0": "CES0500000035",
                                    "1": "5",
                                    "2": "05000000",
                                    "3": "35",
                                    "4": "S",
                                    "5": "Indexes of aggregate weekly payrolls of production and nonsupervisory employees",
                                    "6": "35",
                                    "7": "INDEXES OF AGGREGATE WEEKLY PAYROLLS OF PRODUCTION AND NONSUPERVISORY EMPLOYEES"
                                },
                                {
                                    "0": "CES0500000036",
                                    "1": "5",
                                    "2": "05000000",
                                    "3": "36",
                                    "4": "S",
                                    "5": "Average weekly hours",
                                    "6": "36",
                                    "7": "AVERAGE WEEKLY HOURS"
                                },
                                {
                                    "0": "CES0500000056",
                                    "1": "5",
                                    "2": "05000000",
                                    "3": "56",
                                    "4": "S",
                                    "5": "Aggregate weekly hours of all employees",
                                    "6": "56",
                                    "7": "AGGREGATE WEEKLY HOURS OF ALL EMPLOYEES"
                                },
                                {
                                    "0": "CES0500000057",
                                    "1": "5",
                                    "2": "05000000",
                                    "3": "57",
                                    "4": "S",
                                    "5": "Aggregate weekly payrolls of all employees",
                                    "6": "57",
                                    "7": "AGGREGATE WEEKLY PAYROLLS OF ALL EMPLOYEES"
                                },
                                {
                                    "0": "CES0500000081",
                                    "1": "5",
                                    "2": "05000000",
                                    "3": "81",
                                    "4": "S",
                                    "5": "Aggregate weekly hours of production and nonsupervisory employees",
                                    "6": "81",
                                    "7": "AGGREGATE WEEKLY HOURS OF PRODUCTION AND NONSUPERVISORY EMPLOYEES"
                                },
                                {
                                    "0": "CES0500000082",
                                    "1": "5",
                                    "2": "05000000",
                                    "3": "82",
                                    "4": "S",
                                    "5": "Aggregate weekly payrolls of production and nonsupervisory employees",
                                    "6": "82",
                                    "7": "AGGREGATE WEEKLY PAYROLLS OF PRODUCTION AND NONSUPERVISORY EMPLOYEES"
                                },
                                {
                                    "0": "CES0600000001",
                                    "1": "6",
                                    "2": "06000000",
                                    "3": "1",
                                    "4": "S",
                                    "5": "All employees",
                                    "6": "1",
                                    "7": "ALL EMPLOYEES"
                                },
                                {
                                    "0": "CES0600000002",
                                    "1": "6",
                                    "2": "06000000",
                                    "3": "2",
                                    "4": "S",
                                    "5": "Average weekly hours of all employees",
                                    "6": "2",
                                    "7": "AVERAGE WEEKLY HOURS OF ALL EMPLOYEES"
                                },
                                {
                                    "0": "CES0600000003",
                                    "1": "6",
                                    "2": "06000000",
                                    "3": "3",
                                    "4": "S",
                                    "5": "Average hourly earnings of all employees",
                                    "6": "3",
                                    "7": "AVERAGE HOURLY EARNINGS OF ALL EMPLOYEES"
                                },
                                {
                                    "0": "CES0600000006",
                                    "1": "6",
                                    "2": "06000000",
                                    "3": "6",
                                    "4": "S",
                                    "5": "Production and nonsupervisory employees",
                                    "6": "6",
                                    "7": "PRODUCTION AND NONSUPERVISORY EMPLOYEES"
                                },
                                {
                                    "0": "CES0600000007",
                                    "1": "6",
                                    "2": "06000000",
                                    "3": "7",
                                    "4": "S",
                                    "5": "Average weekly hours of production and nonsupervisory employees",
                                    "6": "7",
                                    "7": "AVERAGE WEEKLY HOURS OF PRODUCTION AND NONSUPERVISORY EMPLOYEES"
                                },
                                {
                                    "0": "CES0600000008",
                                    "1": "6",
                                    "2": "06000000",
                                    "3": "8",
                                    "4": "S",
                                    "5": "Average hourly earnings of production and nonsupervisory employees",
                                    "6": "8",
                                    "7": "AVERAGE HOURLY EARNINGS OF PRODUCTION AND NONSUPERVISORY EMPLOYEES"
                                },
                                {
                                    "0": "CES0600000010",
                                    "1": "6",
                                    "2": "06000000",
                                    "3": "10",
                                    "4": "S",
                                    "5": "Women employees",
                                    "6": "10",
                                    "7": "WOMEN EMPLOYEES"
                                },
                                {
                                    "0": "CES0600000011",
                                    "1": "6",
                                    "2": "06000000",
                                    "3": "11",
                                    "4": "S",
                                    "5": "Average weekly earnings of all employees",
                                    "6": "11",
                                    "7": "AVERAGE WEEKLY EARNINGS OF ALL EMPLOYEES"
                                },
                                {
                                    "0": "CES0600000012",
                                    "1": "6",
                                    "2": "06000000",
                                    "3": "12",
                                    "4": "S",
                                    "5": "Average weekly earnings of all employees",
                                    "6": "12",
                                    "7": "AVERAGE WEEKLY EARNINGS OF ALL EMPLOYEES"
                                },
                                {
                                    "0": "CES0600000013",
                                    "1": "6",
                                    "2": "06000000",
                                    "3": "13",
                                    "4": "S",
                                    "5": "Average hourly earnings of all employees",
                                    "6": "13",
                                    "7": "AVERAGE HOURLY EARNINGS OF ALL EMPLOYEES"
                                },
                                {
                                    "0": "CES0600000016",
                                    "1": "6",
                                    "2": "06000000",
                                    "3": "16",
                                    "4": "S",
                                    "5": "Indexes of aggregate weekly hours of all employees",
                                    "6": "16",
                                    "7": "INDEXES OF AGGREGATE WEEKLY HOURS OF ALL EMPLOYEES"
                                },
                                {
                                    "0": "CES0600000017",
                                    "1": "6",
                                    "2": "06000000",
                                    "3": "17",
                                    "4": "S",
                                    "5": "Indexes of aggregate weekly payrolls of all employees",
                                    "6": "17",
                                    "7": "INDEXES OF AGGREGATE WEEKLY PAYROLLS OF ALL EMPLOYEES"
                                },
                                {
                                    "0": "CES0600000025",
                                    "1": "6",
                                    "2": "06000000",
                                    "3": "25",
                                    "4": "S",
                                    "5": "All employees",
                                    "6": "25",
                                    "7": "ALL EMPLOYEES"
                                },
                                {
                                    "0": "CES0600000030",
                                    "1": "6",
                                    "2": "06000000",
                                    "3": "30",
                                    "4": "S",
                                    "5": "Average weekly earnings of production and nonsupervisory employees",
                                    "6": "30",
                                    "7": "AVERAGE WEEKLY EARNINGS OF PRODUCTION AND NONSUPERVISORY EMPLOYEES"
                                },
                                {
                                    "0": "CES0600000031",
                                    "1": "6",
                                    "2": "06000000",
                                    "3": "31",
                                    "4": "S",
                                    "5": "Average weekly earnings of production and nonsupervisory employees",
                                    "6": "31",
                                    "7": "AVERAGE WEEKLY EARNINGS OF PRODUCTION AND NONSUPERVISORY EMPLOYEES"
                                },
                                {
                                    "0": "CES0600000032",
                                    "1": "6",
                                    "2": "06000000",
                                    "3": "32",
                                    "4": "S",
                                    "5": "Average hourly earnings of production and nonsupervisory employees",
                                    "6": "32",
                                    "7": "AVERAGE HOURLY EARNINGS OF PRODUCTION AND NONSUPERVISORY EMPLOYEES"
                                },
                                {
                                    "0": "CES0600000034",
                                    "1": "6",
                                    "2": "06000000",
                                    "3": "34",
                                    "4": "S",
                                    "5": "Indexes of aggregate weekly hours of production and nonsupervisory employees",
                                    "6": "34",
                                    "7": "INDEXES OF AGGREGATE WEEKLY HOURS OF PRODUCTION AND NONSUPERVISORY EMPLOYEES"
                                },
                                {
                                    "0": "CES0600000035",
                                    "1": "6",
                                    "2": "06000000",
                                    "3": "35",
                                    "4": "S",
                                    "5": "Indexes of aggregate weekly payrolls of production and nonsupervisory employees",
                                    "6": "35",
                                    "7": "INDEXES OF AGGREGATE WEEKLY PAYROLLS OF PRODUCTION AND NONSUPERVISORY EMPLOYEES"
                                }
                            ]
                        },
                        "text/html": [
                            "<table>",
                            "<tr><th>series_id</th><th>supersector_code</th><th>industry_code</th><th>data_type_code</th><th>seasonal</th><th>series_title</th><th>data_type_code</th><th>data_type_text</th></tr>",
                            "<tr><td>CES0000000001</td><td>0</td><td>00000000</td><td>1</td><td>S</td><td>All employees</td><td>1</td><td>ALL EMPLOYEES</td></tr>",
                            "<tr><td>CES0000000010</td><td>0</td><td>00000000</td><td>10</td><td>S</td><td>Women employees</td><td>10</td><td>WOMEN EMPLOYEES</td></tr>",
                            "<tr><td>CES0000000025</td><td>0</td><td>00000000</td><td>25</td><td>S</td><td>All employees</td><td>25</td><td>ALL EMPLOYEES</td></tr>",
                            "<tr><td>CES0000000026</td><td>0</td><td>00000000</td><td>26</td><td>S</td><td>All employees</td><td>26</td><td>ALL EMPLOYEES</td></tr>",
                            "<tr><td>CES0500000001</td><td>5</td><td>05000000</td><td>1</td><td>S</td><td>All employees</td><td>1</td><td>ALL EMPLOYEES</td></tr>",
                            "<tr><td>CES0500000002</td><td>5</td><td>05000000</td><td>2</td><td>S</td><td>Average weekly hours of all employees</td><td>2</td><td>AVERAGE WEEKLY HOURS OF ALL EMPLOYEES</td></tr>",
                            "<tr><td>CES0500000003</td><td>5</td><td>05000000</td><td>3</td><td>S</td><td>Average hourly earnings of all employees</td><td>3</td><td>AVERAGE HOURLY EARNINGS OF ALL EMPLOYEES</td></tr>",
                            "<tr><td>CES0500000006</td><td>5</td><td>05000000</td><td>6</td><td>S</td><td>Production and nonsupervisory employees</td><td>6</td><td>PRODUCTION AND NONSUPERVISORY EMPLOYEES</td></tr>",
                            "<tr><td>CES0500000007</td><td>5</td><td>05000000</td><td>7</td><td>S</td><td>Average weekly hours of production and nonsupervisory employees</td><td>7</td><td>AVERAGE WEEKLY HOURS OF PRODUCTION AND NONSUPERVISORY EMPLOYEES</td></tr>",
                            "<tr><td>CES0500000008</td><td>5</td><td>05000000</td><td>8</td><td>S</td><td>Average hourly earnings of production and nonsupervisory employees</td><td>8</td><td>AVERAGE HOURLY EARNINGS OF PRODUCTION AND NONSUPERVISORY EMPLOYEES</td></tr>",
                            "<tr><td>CES0500000010</td><td>5</td><td>05000000</td><td>10</td><td>S</td><td>Women employees</td><td>10</td><td>WOMEN EMPLOYEES</td></tr>",
                            "<tr><td>CES0500000011</td><td>5</td><td>05000000</td><td>11</td><td>S</td><td>Average weekly earnings of all employees</td><td>11</td><td>AVERAGE WEEKLY EARNINGS OF ALL EMPLOYEES</td></tr>",
                            "<tr><td>CES0500000012</td><td>5</td><td>05000000</td><td>12</td><td>S</td><td>Average weekly earnings of all employees</td><td>12</td><td>AVERAGE WEEKLY EARNINGS OF ALL EMPLOYEES</td></tr>",
                            "<tr><td>CES0500000013</td><td>5</td><td>05000000</td><td>13</td><td>S</td><td>Average hourly earnings of all employees</td><td>13</td><td>AVERAGE HOURLY EARNINGS OF ALL EMPLOYEES</td></tr>",
                            "<tr><td>CES0500000016</td><td>5</td><td>05000000</td><td>16</td><td>S</td><td>Indexes of aggregate weekly hours of all employees</td><td>16</td><td>INDEXES OF AGGREGATE WEEKLY HOURS OF ALL EMPLOYEES</td></tr>",
                            "<tr><td>CES0500000017</td><td>5</td><td>05000000</td><td>17</td><td>S</td><td>Indexes of aggregate weekly payrolls of all employees</td><td>17</td><td>INDEXES OF AGGREGATE WEEKLY PAYROLLS OF ALL EMPLOYEES</td></tr>",
                            "<tr><td>CES0500000019</td><td>5</td><td>05000000</td><td>19</td><td>S</td><td>Average weekly hours of all employees</td><td>19</td><td>AVERAGE WEEKLY HOURS OF ALL EMPLOYEES</td></tr>",
                            "<tr><td>CES0500000021</td><td>5</td><td>05000000</td><td>21</td><td>S</td><td>Diffusion indexes</td><td>21</td><td>DIFFUSION INDEXES</td></tr>",
                            "<tr><td>CES0500000022</td><td>5</td><td>05000000</td><td>22</td><td>S</td><td>Diffusion indexes</td><td>22</td><td>DIFFUSION INDEXES</td></tr>",
                            "<tr><td>CES0500000023</td><td>5</td><td>05000000</td><td>23</td><td>S</td><td>Diffusion indexes</td><td>23</td><td>DIFFUSION INDEXES</td></tr>",
                            "<tr><td>CES0500000025</td><td>5</td><td>05000000</td><td>25</td><td>S</td><td>All employees</td><td>25</td><td>ALL EMPLOYEES</td></tr>",
                            "<tr><td>CES0500000026</td><td>5</td><td>05000000</td><td>26</td><td>S</td><td>All employees</td><td>26</td><td>ALL EMPLOYEES</td></tr>",
                            "<tr><td>CES0500000030</td><td>5</td><td>05000000</td><td>30</td><td>S</td><td>Average weekly earnings of production and nonsupervisory employees</td><td>30</td><td>AVERAGE WEEKLY EARNINGS OF PRODUCTION AND NONSUPERVISORY EMPLOYEES</td></tr>",
                            "<tr><td>CES0500000031</td><td>5</td><td>05000000</td><td>31</td><td>S</td><td>Average weekly earnings of production and nonsupervisory employees</td><td>31</td><td>AVERAGE WEEKLY EARNINGS OF PRODUCTION AND NONSUPERVISORY EMPLOYEES</td></tr>",
                            "<tr><td>CES0500000032</td><td>5</td><td>05000000</td><td>32</td><td>S</td><td>Average hourly earnings of production and nonsupervisory employees</td><td>32</td><td>AVERAGE HOURLY EARNINGS OF PRODUCTION AND NONSUPERVISORY EMPLOYEES</td></tr>",
                            "<tr><td>CES0500000034</td><td>5</td><td>05000000</td><td>34</td><td>S</td><td>Indexes of aggregate weekly hours of production and nonsupervisory employees</td><td>34</td><td>INDEXES OF AGGREGATE WEEKLY HOURS OF PRODUCTION AND NONSUPERVISORY EMPLOYEES</td></tr>",
                            "<tr><td>CES0500000035</td><td>5</td><td>05000000</td><td>35</td><td>S</td><td>Indexes of aggregate weekly payrolls of production and nonsupervisory employees</td><td>35</td><td>INDEXES OF AGGREGATE WEEKLY PAYROLLS OF PRODUCTION AND NONSUPERVISORY EMPLOYEES</td></tr>",
                            "<tr><td>CES0500000036</td><td>5</td><td>05000000</td><td>36</td><td>S</td><td>Average weekly hours</td><td>36</td><td>AVERAGE WEEKLY HOURS</td></tr>",
                            "<tr><td>CES0500000056</td><td>5</td><td>05000000</td><td>56</td><td>S</td><td>Aggregate weekly hours of all employees</td><td>56</td><td>AGGREGATE WEEKLY HOURS OF ALL EMPLOYEES</td></tr>",
                            "<tr><td>CES0500000057</td><td>5</td><td>05000000</td><td>57</td><td>S</td><td>Aggregate weekly payrolls of all employees</td><td>57</td><td>AGGREGATE WEEKLY PAYROLLS OF ALL EMPLOYEES</td></tr>",
                            "<tr><td>CES0500000081</td><td>5</td><td>05000000</td><td>81</td><td>S</td><td>Aggregate weekly hours of production and nonsupervisory employees</td><td>81</td><td>AGGREGATE WEEKLY HOURS OF PRODUCTION AND NONSUPERVISORY EMPLOYEES</td></tr>",
                            "<tr><td>CES0500000082</td><td>5</td><td>05000000</td><td>82</td><td>S</td><td>Aggregate weekly payrolls of production and nonsupervisory employees</td><td>82</td><td>AGGREGATE WEEKLY PAYROLLS OF PRODUCTION AND NONSUPERVISORY EMPLOYEES</td></tr>",
                            "<tr><td>CES0600000001</td><td>6</td><td>06000000</td><td>1</td><td>S</td><td>All employees</td><td>1</td><td>ALL EMPLOYEES</td></tr>",
                            "<tr><td>CES0600000002</td><td>6</td><td>06000000</td><td>2</td><td>S</td><td>Average weekly hours of all employees</td><td>2</td><td>AVERAGE WEEKLY HOURS OF ALL EMPLOYEES</td></tr>",
                            "<tr><td>CES0600000003</td><td>6</td><td>06000000</td><td>3</td><td>S</td><td>Average hourly earnings of all employees</td><td>3</td><td>AVERAGE HOURLY EARNINGS OF ALL EMPLOYEES</td></tr>",
                            "<tr><td>CES0600000006</td><td>6</td><td>06000000</td><td>6</td><td>S</td><td>Production and nonsupervisory employees</td><td>6</td><td>PRODUCTION AND NONSUPERVISORY EMPLOYEES</td></tr>",
                            "<tr><td>CES0600000007</td><td>6</td><td>06000000</td><td>7</td><td>S</td><td>Average weekly hours of production and nonsupervisory employees</td><td>7</td><td>AVERAGE WEEKLY HOURS OF PRODUCTION AND NONSUPERVISORY EMPLOYEES</td></tr>",
                            "<tr><td>CES0600000008</td><td>6</td><td>06000000</td><td>8</td><td>S</td><td>Average hourly earnings of production and nonsupervisory employees</td><td>8</td><td>AVERAGE HOURLY EARNINGS OF PRODUCTION AND NONSUPERVISORY EMPLOYEES</td></tr>",
                            "<tr><td>CES0600000010</td><td>6</td><td>06000000</td><td>10</td><td>S</td><td>Women employees</td><td>10</td><td>WOMEN EMPLOYEES</td></tr>",
                            "<tr><td>CES0600000011</td><td>6</td><td>06000000</td><td>11</td><td>S</td><td>Average weekly earnings of all employees</td><td>11</td><td>AVERAGE WEEKLY EARNINGS OF ALL EMPLOYEES</td></tr>",
                            "<tr><td>CES0600000012</td><td>6</td><td>06000000</td><td>12</td><td>S</td><td>Average weekly earnings of all employees</td><td>12</td><td>AVERAGE WEEKLY EARNINGS OF ALL EMPLOYEES</td></tr>",
                            "<tr><td>CES0600000013</td><td>6</td><td>06000000</td><td>13</td><td>S</td><td>Average hourly earnings of all employees</td><td>13</td><td>AVERAGE HOURLY EARNINGS OF ALL EMPLOYEES</td></tr>",
                            "<tr><td>CES0600000016</td><td>6</td><td>06000000</td><td>16</td><td>S</td><td>Indexes of aggregate weekly hours of all employees</td><td>16</td><td>INDEXES OF AGGREGATE WEEKLY HOURS OF ALL EMPLOYEES</td></tr>",
                            "<tr><td>CES0600000017</td><td>6</td><td>06000000</td><td>17</td><td>S</td><td>Indexes of aggregate weekly payrolls of all employees</td><td>17</td><td>INDEXES OF AGGREGATE WEEKLY PAYROLLS OF ALL EMPLOYEES</td></tr>",
                            "<tr><td>CES0600000025</td><td>6</td><td>06000000</td><td>25</td><td>S</td><td>All employees</td><td>25</td><td>ALL EMPLOYEES</td></tr>",
                            "<tr><td>CES0600000030</td><td>6</td><td>06000000</td><td>30</td><td>S</td><td>Average weekly earnings of production and nonsupervisory employees</td><td>30</td><td>AVERAGE WEEKLY EARNINGS OF PRODUCTION AND NONSUPERVISORY EMPLOYEES</td></tr>",
                            "<tr><td>CES0600000031</td><td>6</td><td>06000000</td><td>31</td><td>S</td><td>Average weekly earnings of production and nonsupervisory employees</td><td>31</td><td>AVERAGE WEEKLY EARNINGS OF PRODUCTION AND NONSUPERVISORY EMPLOYEES</td></tr>",
                            "<tr><td>CES0600000032</td><td>6</td><td>06000000</td><td>32</td><td>S</td><td>Average hourly earnings of production and nonsupervisory employees</td><td>32</td><td>AVERAGE HOURLY EARNINGS OF PRODUCTION AND NONSUPERVISORY EMPLOYEES</td></tr>",
                            "<tr><td>CES0600000034</td><td>6</td><td>06000000</td><td>34</td><td>S</td><td>Indexes of aggregate weekly hours of production and nonsupervisory employees</td><td>34</td><td>INDEXES OF AGGREGATE WEEKLY HOURS OF PRODUCTION AND NONSUPERVISORY EMPLOYEES</td></tr>",
                            "<tr><td>CES0600000035</td><td>6</td><td>06000000</td><td>35</td><td>S</td><td>Indexes of aggregate weekly payrolls of production and nonsupervisory employees</td><td>35</td><td>INDEXES OF AGGREGATE WEEKLY PAYROLLS OF PRODUCTION AND NONSUPERVISORY EMPLOYEES</td></tr>",
                            "</table>"
                        ]
                    }
                }
            ],
            "execution_count": 34
        },
        {
            "cell_type": "markdown",
            "source": [
                "3. <span style=\"background-color: rgb(255, 255, 255); font-size: 10pt; white-space: pre-wrap; color: rgb(102, 102, 102); font-family: Arvo, serif;\">Join series and industry on industry_code</span>"
            ],
            "metadata": {
                "azdata_cell_guid": "78ac8ba4-2a6a-426f-af30-6b56d9d09054"
            },
            "attachments": {}
        },
        {
            "cell_type": "code",
            "source": [
                "USE LaborStatisticsDB\n",
                "\n",
                "SELECT TOP 50*\n",
                "FROM series\n",
                "LEFT JOIN industry\n",
                "ON series.industry_code = industry.industry_code"
            ],
            "metadata": {
                "azdata_cell_guid": "ac022766-e280-4d95-8362-1f2b18773662",
                "language": "sql"
            },
            "outputs": [
                {
                    "output_type": "display_data",
                    "data": {
                        "text/html": "(50 rows affected)"
                    },
                    "metadata": {}
                },
                {
                    "output_type": "display_data",
                    "data": {
                        "text/html": "Total execution time: 00:00:00.096"
                    },
                    "metadata": {}
                },
                {
                    "output_type": "execute_result",
                    "metadata": {},
                    "execution_count": 35,
                    "data": {
                        "application/vnd.dataresource+json": {
                            "schema": {
                                "fields": [
                                    {
                                        "name": "series_id"
                                    },
                                    {
                                        "name": "supersector_code"
                                    },
                                    {
                                        "name": "industry_code"
                                    },
                                    {
                                        "name": "data_type_code"
                                    },
                                    {
                                        "name": "seasonal"
                                    },
                                    {
                                        "name": "series_title"
                                    },
                                    {
                                        "name": "id"
                                    },
                                    {
                                        "name": "industry_code"
                                    },
                                    {
                                        "name": "naics_code"
                                    },
                                    {
                                        "name": "publishing_status"
                                    },
                                    {
                                        "name": "industry_name"
                                    },
                                    {
                                        "name": "display_level"
                                    },
                                    {
                                        "name": "selectable"
                                    },
                                    {
                                        "name": "sort_sequence"
                                    }
                                ]
                            },
                            "data": [
                                {
                                    "0": "CES0000000001",
                                    "1": "0",
                                    "2": "00000000",
                                    "3": "1",
                                    "4": "S",
                                    "5": "All employees",
                                    "6": "0",
                                    "7": "0",
                                    "8": "-",
                                    "9": "B",
                                    "10": "Total nonfarm",
                                    "11": "0",
                                    "12": "T",
                                    "13": "1"
                                },
                                {
                                    "0": "CES0000000010",
                                    "1": "0",
                                    "2": "00000000",
                                    "3": "10",
                                    "4": "S",
                                    "5": "Women employees",
                                    "6": "0",
                                    "7": "0",
                                    "8": "-",
                                    "9": "B",
                                    "10": "Total nonfarm",
                                    "11": "0",
                                    "12": "T",
                                    "13": "1"
                                },
                                {
                                    "0": "CES0000000025",
                                    "1": "0",
                                    "2": "00000000",
                                    "3": "25",
                                    "4": "S",
                                    "5": "All employees",
                                    "6": "0",
                                    "7": "0",
                                    "8": "-",
                                    "9": "B",
                                    "10": "Total nonfarm",
                                    "11": "0",
                                    "12": "T",
                                    "13": "1"
                                },
                                {
                                    "0": "CES0000000026",
                                    "1": "0",
                                    "2": "00000000",
                                    "3": "26",
                                    "4": "S",
                                    "5": "All employees",
                                    "6": "0",
                                    "7": "0",
                                    "8": "-",
                                    "9": "B",
                                    "10": "Total nonfarm",
                                    "11": "0",
                                    "12": "T",
                                    "13": "1"
                                },
                                {
                                    "0": "CES0500000001",
                                    "1": "5",
                                    "2": "05000000",
                                    "3": "1",
                                    "4": "S",
                                    "5": "All employees",
                                    "6": "1",
                                    "7": "5000000",
                                    "8": "-",
                                    "9": "A",
                                    "10": "Total private",
                                    "11": "1",
                                    "12": "T",
                                    "13": "2"
                                },
                                {
                                    "0": "CES0500000002",
                                    "1": "5",
                                    "2": "05000000",
                                    "3": "2",
                                    "4": "S",
                                    "5": "Average weekly hours of all employees",
                                    "6": "1",
                                    "7": "5000000",
                                    "8": "-",
                                    "9": "A",
                                    "10": "Total private",
                                    "11": "1",
                                    "12": "T",
                                    "13": "2"
                                },
                                {
                                    "0": "CES0500000003",
                                    "1": "5",
                                    "2": "05000000",
                                    "3": "3",
                                    "4": "S",
                                    "5": "Average hourly earnings of all employees",
                                    "6": "1",
                                    "7": "5000000",
                                    "8": "-",
                                    "9": "A",
                                    "10": "Total private",
                                    "11": "1",
                                    "12": "T",
                                    "13": "2"
                                },
                                {
                                    "0": "CES0500000006",
                                    "1": "5",
                                    "2": "05000000",
                                    "3": "6",
                                    "4": "S",
                                    "5": "Production and nonsupervisory employees",
                                    "6": "1",
                                    "7": "5000000",
                                    "8": "-",
                                    "9": "A",
                                    "10": "Total private",
                                    "11": "1",
                                    "12": "T",
                                    "13": "2"
                                },
                                {
                                    "0": "CES0500000007",
                                    "1": "5",
                                    "2": "05000000",
                                    "3": "7",
                                    "4": "S",
                                    "5": "Average weekly hours of production and nonsupervisory employees",
                                    "6": "1",
                                    "7": "5000000",
                                    "8": "-",
                                    "9": "A",
                                    "10": "Total private",
                                    "11": "1",
                                    "12": "T",
                                    "13": "2"
                                },
                                {
                                    "0": "CES0500000008",
                                    "1": "5",
                                    "2": "05000000",
                                    "3": "8",
                                    "4": "S",
                                    "5": "Average hourly earnings of production and nonsupervisory employees",
                                    "6": "1",
                                    "7": "5000000",
                                    "8": "-",
                                    "9": "A",
                                    "10": "Total private",
                                    "11": "1",
                                    "12": "T",
                                    "13": "2"
                                },
                                {
                                    "0": "CES0500000010",
                                    "1": "5",
                                    "2": "05000000",
                                    "3": "10",
                                    "4": "S",
                                    "5": "Women employees",
                                    "6": "1",
                                    "7": "5000000",
                                    "8": "-",
                                    "9": "A",
                                    "10": "Total private",
                                    "11": "1",
                                    "12": "T",
                                    "13": "2"
                                },
                                {
                                    "0": "CES0500000011",
                                    "1": "5",
                                    "2": "05000000",
                                    "3": "11",
                                    "4": "S",
                                    "5": "Average weekly earnings of all employees",
                                    "6": "1",
                                    "7": "5000000",
                                    "8": "-",
                                    "9": "A",
                                    "10": "Total private",
                                    "11": "1",
                                    "12": "T",
                                    "13": "2"
                                },
                                {
                                    "0": "CES0500000012",
                                    "1": "5",
                                    "2": "05000000",
                                    "3": "12",
                                    "4": "S",
                                    "5": "Average weekly earnings of all employees",
                                    "6": "1",
                                    "7": "5000000",
                                    "8": "-",
                                    "9": "A",
                                    "10": "Total private",
                                    "11": "1",
                                    "12": "T",
                                    "13": "2"
                                },
                                {
                                    "0": "CES0500000013",
                                    "1": "5",
                                    "2": "05000000",
                                    "3": "13",
                                    "4": "S",
                                    "5": "Average hourly earnings of all employees",
                                    "6": "1",
                                    "7": "5000000",
                                    "8": "-",
                                    "9": "A",
                                    "10": "Total private",
                                    "11": "1",
                                    "12": "T",
                                    "13": "2"
                                },
                                {
                                    "0": "CES0500000016",
                                    "1": "5",
                                    "2": "05000000",
                                    "3": "16",
                                    "4": "S",
                                    "5": "Indexes of aggregate weekly hours of all employees",
                                    "6": "1",
                                    "7": "5000000",
                                    "8": "-",
                                    "9": "A",
                                    "10": "Total private",
                                    "11": "1",
                                    "12": "T",
                                    "13": "2"
                                },
                                {
                                    "0": "CES0500000017",
                                    "1": "5",
                                    "2": "05000000",
                                    "3": "17",
                                    "4": "S",
                                    "5": "Indexes of aggregate weekly payrolls of all employees",
                                    "6": "1",
                                    "7": "5000000",
                                    "8": "-",
                                    "9": "A",
                                    "10": "Total private",
                                    "11": "1",
                                    "12": "T",
                                    "13": "2"
                                },
                                {
                                    "0": "CES0500000019",
                                    "1": "5",
                                    "2": "05000000",
                                    "3": "19",
                                    "4": "S",
                                    "5": "Average weekly hours of all employees",
                                    "6": "1",
                                    "7": "5000000",
                                    "8": "-",
                                    "9": "A",
                                    "10": "Total private",
                                    "11": "1",
                                    "12": "T",
                                    "13": "2"
                                },
                                {
                                    "0": "CES0500000021",
                                    "1": "5",
                                    "2": "05000000",
                                    "3": "21",
                                    "4": "S",
                                    "5": "Diffusion indexes",
                                    "6": "1",
                                    "7": "5000000",
                                    "8": "-",
                                    "9": "A",
                                    "10": "Total private",
                                    "11": "1",
                                    "12": "T",
                                    "13": "2"
                                },
                                {
                                    "0": "CES0500000022",
                                    "1": "5",
                                    "2": "05000000",
                                    "3": "22",
                                    "4": "S",
                                    "5": "Diffusion indexes",
                                    "6": "1",
                                    "7": "5000000",
                                    "8": "-",
                                    "9": "A",
                                    "10": "Total private",
                                    "11": "1",
                                    "12": "T",
                                    "13": "2"
                                },
                                {
                                    "0": "CES0500000023",
                                    "1": "5",
                                    "2": "05000000",
                                    "3": "23",
                                    "4": "S",
                                    "5": "Diffusion indexes",
                                    "6": "1",
                                    "7": "5000000",
                                    "8": "-",
                                    "9": "A",
                                    "10": "Total private",
                                    "11": "1",
                                    "12": "T",
                                    "13": "2"
                                },
                                {
                                    "0": "CES0500000025",
                                    "1": "5",
                                    "2": "05000000",
                                    "3": "25",
                                    "4": "S",
                                    "5": "All employees",
                                    "6": "1",
                                    "7": "5000000",
                                    "8": "-",
                                    "9": "A",
                                    "10": "Total private",
                                    "11": "1",
                                    "12": "T",
                                    "13": "2"
                                },
                                {
                                    "0": "CES0500000026",
                                    "1": "5",
                                    "2": "05000000",
                                    "3": "26",
                                    "4": "S",
                                    "5": "All employees",
                                    "6": "1",
                                    "7": "5000000",
                                    "8": "-",
                                    "9": "A",
                                    "10": "Total private",
                                    "11": "1",
                                    "12": "T",
                                    "13": "2"
                                },
                                {
                                    "0": "CES0500000030",
                                    "1": "5",
                                    "2": "05000000",
                                    "3": "30",
                                    "4": "S",
                                    "5": "Average weekly earnings of production and nonsupervisory employees",
                                    "6": "1",
                                    "7": "5000000",
                                    "8": "-",
                                    "9": "A",
                                    "10": "Total private",
                                    "11": "1",
                                    "12": "T",
                                    "13": "2"
                                },
                                {
                                    "0": "CES0500000031",
                                    "1": "5",
                                    "2": "05000000",
                                    "3": "31",
                                    "4": "S",
                                    "5": "Average weekly earnings of production and nonsupervisory employees",
                                    "6": "1",
                                    "7": "5000000",
                                    "8": "-",
                                    "9": "A",
                                    "10": "Total private",
                                    "11": "1",
                                    "12": "T",
                                    "13": "2"
                                },
                                {
                                    "0": "CES0500000032",
                                    "1": "5",
                                    "2": "05000000",
                                    "3": "32",
                                    "4": "S",
                                    "5": "Average hourly earnings of production and nonsupervisory employees",
                                    "6": "1",
                                    "7": "5000000",
                                    "8": "-",
                                    "9": "A",
                                    "10": "Total private",
                                    "11": "1",
                                    "12": "T",
                                    "13": "2"
                                },
                                {
                                    "0": "CES0500000034",
                                    "1": "5",
                                    "2": "05000000",
                                    "3": "34",
                                    "4": "S",
                                    "5": "Indexes of aggregate weekly hours of production and nonsupervisory employees",
                                    "6": "1",
                                    "7": "5000000",
                                    "8": "-",
                                    "9": "A",
                                    "10": "Total private",
                                    "11": "1",
                                    "12": "T",
                                    "13": "2"
                                },
                                {
                                    "0": "CES0500000035",
                                    "1": "5",
                                    "2": "05000000",
                                    "3": "35",
                                    "4": "S",
                                    "5": "Indexes of aggregate weekly payrolls of production and nonsupervisory employees",
                                    "6": "1",
                                    "7": "5000000",
                                    "8": "-",
                                    "9": "A",
                                    "10": "Total private",
                                    "11": "1",
                                    "12": "T",
                                    "13": "2"
                                },
                                {
                                    "0": "CES0500000036",
                                    "1": "5",
                                    "2": "05000000",
                                    "3": "36",
                                    "4": "S",
                                    "5": "Average weekly hours",
                                    "6": "1",
                                    "7": "5000000",
                                    "8": "-",
                                    "9": "A",
                                    "10": "Total private",
                                    "11": "1",
                                    "12": "T",
                                    "13": "2"
                                },
                                {
                                    "0": "CES0500000056",
                                    "1": "5",
                                    "2": "05000000",
                                    "3": "56",
                                    "4": "S",
                                    "5": "Aggregate weekly hours of all employees",
                                    "6": "1",
                                    "7": "5000000",
                                    "8": "-",
                                    "9": "A",
                                    "10": "Total private",
                                    "11": "1",
                                    "12": "T",
                                    "13": "2"
                                },
                                {
                                    "0": "CES0500000057",
                                    "1": "5",
                                    "2": "05000000",
                                    "3": "57",
                                    "4": "S",
                                    "5": "Aggregate weekly payrolls of all employees",
                                    "6": "1",
                                    "7": "5000000",
                                    "8": "-",
                                    "9": "A",
                                    "10": "Total private",
                                    "11": "1",
                                    "12": "T",
                                    "13": "2"
                                },
                                {
                                    "0": "CES0500000081",
                                    "1": "5",
                                    "2": "05000000",
                                    "3": "81",
                                    "4": "S",
                                    "5": "Aggregate weekly hours of production and nonsupervisory employees",
                                    "6": "1",
                                    "7": "5000000",
                                    "8": "-",
                                    "9": "A",
                                    "10": "Total private",
                                    "11": "1",
                                    "12": "T",
                                    "13": "2"
                                },
                                {
                                    "0": "CES0500000082",
                                    "1": "5",
                                    "2": "05000000",
                                    "3": "82",
                                    "4": "S",
                                    "5": "Aggregate weekly payrolls of production and nonsupervisory employees",
                                    "6": "1",
                                    "7": "5000000",
                                    "8": "-",
                                    "9": "A",
                                    "10": "Total private",
                                    "11": "1",
                                    "12": "T",
                                    "13": "2"
                                },
                                {
                                    "0": "CES0600000001",
                                    "1": "6",
                                    "2": "06000000",
                                    "3": "1",
                                    "4": "S",
                                    "5": "All employees",
                                    "6": "2",
                                    "7": "6000000",
                                    "8": "-",
                                    "9": "A",
                                    "10": "Goods-producing",
                                    "11": "1",
                                    "12": "T",
                                    "13": "3"
                                },
                                {
                                    "0": "CES0600000002",
                                    "1": "6",
                                    "2": "06000000",
                                    "3": "2",
                                    "4": "S",
                                    "5": "Average weekly hours of all employees",
                                    "6": "2",
                                    "7": "6000000",
                                    "8": "-",
                                    "9": "A",
                                    "10": "Goods-producing",
                                    "11": "1",
                                    "12": "T",
                                    "13": "3"
                                },
                                {
                                    "0": "CES0600000003",
                                    "1": "6",
                                    "2": "06000000",
                                    "3": "3",
                                    "4": "S",
                                    "5": "Average hourly earnings of all employees",
                                    "6": "2",
                                    "7": "6000000",
                                    "8": "-",
                                    "9": "A",
                                    "10": "Goods-producing",
                                    "11": "1",
                                    "12": "T",
                                    "13": "3"
                                },
                                {
                                    "0": "CES0600000006",
                                    "1": "6",
                                    "2": "06000000",
                                    "3": "6",
                                    "4": "S",
                                    "5": "Production and nonsupervisory employees",
                                    "6": "2",
                                    "7": "6000000",
                                    "8": "-",
                                    "9": "A",
                                    "10": "Goods-producing",
                                    "11": "1",
                                    "12": "T",
                                    "13": "3"
                                },
                                {
                                    "0": "CES0600000007",
                                    "1": "6",
                                    "2": "06000000",
                                    "3": "7",
                                    "4": "S",
                                    "5": "Average weekly hours of production and nonsupervisory employees",
                                    "6": "2",
                                    "7": "6000000",
                                    "8": "-",
                                    "9": "A",
                                    "10": "Goods-producing",
                                    "11": "1",
                                    "12": "T",
                                    "13": "3"
                                },
                                {
                                    "0": "CES0600000008",
                                    "1": "6",
                                    "2": "06000000",
                                    "3": "8",
                                    "4": "S",
                                    "5": "Average hourly earnings of production and nonsupervisory employees",
                                    "6": "2",
                                    "7": "6000000",
                                    "8": "-",
                                    "9": "A",
                                    "10": "Goods-producing",
                                    "11": "1",
                                    "12": "T",
                                    "13": "3"
                                },
                                {
                                    "0": "CES0600000010",
                                    "1": "6",
                                    "2": "06000000",
                                    "3": "10",
                                    "4": "S",
                                    "5": "Women employees",
                                    "6": "2",
                                    "7": "6000000",
                                    "8": "-",
                                    "9": "A",
                                    "10": "Goods-producing",
                                    "11": "1",
                                    "12": "T",
                                    "13": "3"
                                },
                                {
                                    "0": "CES0600000011",
                                    "1": "6",
                                    "2": "06000000",
                                    "3": "11",
                                    "4": "S",
                                    "5": "Average weekly earnings of all employees",
                                    "6": "2",
                                    "7": "6000000",
                                    "8": "-",
                                    "9": "A",
                                    "10": "Goods-producing",
                                    "11": "1",
                                    "12": "T",
                                    "13": "3"
                                },
                                {
                                    "0": "CES0600000012",
                                    "1": "6",
                                    "2": "06000000",
                                    "3": "12",
                                    "4": "S",
                                    "5": "Average weekly earnings of all employees",
                                    "6": "2",
                                    "7": "6000000",
                                    "8": "-",
                                    "9": "A",
                                    "10": "Goods-producing",
                                    "11": "1",
                                    "12": "T",
                                    "13": "3"
                                },
                                {
                                    "0": "CES0600000013",
                                    "1": "6",
                                    "2": "06000000",
                                    "3": "13",
                                    "4": "S",
                                    "5": "Average hourly earnings of all employees",
                                    "6": "2",
                                    "7": "6000000",
                                    "8": "-",
                                    "9": "A",
                                    "10": "Goods-producing",
                                    "11": "1",
                                    "12": "T",
                                    "13": "3"
                                },
                                {
                                    "0": "CES0600000016",
                                    "1": "6",
                                    "2": "06000000",
                                    "3": "16",
                                    "4": "S",
                                    "5": "Indexes of aggregate weekly hours of all employees",
                                    "6": "2",
                                    "7": "6000000",
                                    "8": "-",
                                    "9": "A",
                                    "10": "Goods-producing",
                                    "11": "1",
                                    "12": "T",
                                    "13": "3"
                                },
                                {
                                    "0": "CES0600000017",
                                    "1": "6",
                                    "2": "06000000",
                                    "3": "17",
                                    "4": "S",
                                    "5": "Indexes of aggregate weekly payrolls of all employees",
                                    "6": "2",
                                    "7": "6000000",
                                    "8": "-",
                                    "9": "A",
                                    "10": "Goods-producing",
                                    "11": "1",
                                    "12": "T",
                                    "13": "3"
                                },
                                {
                                    "0": "CES0600000025",
                                    "1": "6",
                                    "2": "06000000",
                                    "3": "25",
                                    "4": "S",
                                    "5": "All employees",
                                    "6": "2",
                                    "7": "6000000",
                                    "8": "-",
                                    "9": "A",
                                    "10": "Goods-producing",
                                    "11": "1",
                                    "12": "T",
                                    "13": "3"
                                },
                                {
                                    "0": "CES0600000030",
                                    "1": "6",
                                    "2": "06000000",
                                    "3": "30",
                                    "4": "S",
                                    "5": "Average weekly earnings of production and nonsupervisory employees",
                                    "6": "2",
                                    "7": "6000000",
                                    "8": "-",
                                    "9": "A",
                                    "10": "Goods-producing",
                                    "11": "1",
                                    "12": "T",
                                    "13": "3"
                                },
                                {
                                    "0": "CES0600000031",
                                    "1": "6",
                                    "2": "06000000",
                                    "3": "31",
                                    "4": "S",
                                    "5": "Average weekly earnings of production and nonsupervisory employees",
                                    "6": "2",
                                    "7": "6000000",
                                    "8": "-",
                                    "9": "A",
                                    "10": "Goods-producing",
                                    "11": "1",
                                    "12": "T",
                                    "13": "3"
                                },
                                {
                                    "0": "CES0600000032",
                                    "1": "6",
                                    "2": "06000000",
                                    "3": "32",
                                    "4": "S",
                                    "5": "Average hourly earnings of production and nonsupervisory employees",
                                    "6": "2",
                                    "7": "6000000",
                                    "8": "-",
                                    "9": "A",
                                    "10": "Goods-producing",
                                    "11": "1",
                                    "12": "T",
                                    "13": "3"
                                },
                                {
                                    "0": "CES0600000034",
                                    "1": "6",
                                    "2": "06000000",
                                    "3": "34",
                                    "4": "S",
                                    "5": "Indexes of aggregate weekly hours of production and nonsupervisory employees",
                                    "6": "2",
                                    "7": "6000000",
                                    "8": "-",
                                    "9": "A",
                                    "10": "Goods-producing",
                                    "11": "1",
                                    "12": "T",
                                    "13": "3"
                                },
                                {
                                    "0": "CES0600000035",
                                    "1": "6",
                                    "2": "06000000",
                                    "3": "35",
                                    "4": "S",
                                    "5": "Indexes of aggregate weekly payrolls of production and nonsupervisory employees",
                                    "6": "2",
                                    "7": "6000000",
                                    "8": "-",
                                    "9": "A",
                                    "10": "Goods-producing",
                                    "11": "1",
                                    "12": "T",
                                    "13": "3"
                                }
                            ]
                        },
                        "text/html": [
                            "<table>",
                            "<tr><th>series_id</th><th>supersector_code</th><th>industry_code</th><th>data_type_code</th><th>seasonal</th><th>series_title</th><th>id</th><th>industry_code</th><th>naics_code</th><th>publishing_status</th><th>industry_name</th><th>display_level</th><th>selectable</th><th>sort_sequence</th></tr>",
                            "<tr><td>CES0000000001</td><td>0</td><td>00000000</td><td>1</td><td>S</td><td>All employees</td><td>0</td><td>0</td><td>-</td><td>B</td><td>Total nonfarm</td><td>0</td><td>T</td><td>1</td></tr>",
                            "<tr><td>CES0000000010</td><td>0</td><td>00000000</td><td>10</td><td>S</td><td>Women employees</td><td>0</td><td>0</td><td>-</td><td>B</td><td>Total nonfarm</td><td>0</td><td>T</td><td>1</td></tr>",
                            "<tr><td>CES0000000025</td><td>0</td><td>00000000</td><td>25</td><td>S</td><td>All employees</td><td>0</td><td>0</td><td>-</td><td>B</td><td>Total nonfarm</td><td>0</td><td>T</td><td>1</td></tr>",
                            "<tr><td>CES0000000026</td><td>0</td><td>00000000</td><td>26</td><td>S</td><td>All employees</td><td>0</td><td>0</td><td>-</td><td>B</td><td>Total nonfarm</td><td>0</td><td>T</td><td>1</td></tr>",
                            "<tr><td>CES0500000001</td><td>5</td><td>05000000</td><td>1</td><td>S</td><td>All employees</td><td>1</td><td>5000000</td><td>-</td><td>A</td><td>Total private</td><td>1</td><td>T</td><td>2</td></tr>",
                            "<tr><td>CES0500000002</td><td>5</td><td>05000000</td><td>2</td><td>S</td><td>Average weekly hours of all employees</td><td>1</td><td>5000000</td><td>-</td><td>A</td><td>Total private</td><td>1</td><td>T</td><td>2</td></tr>",
                            "<tr><td>CES0500000003</td><td>5</td><td>05000000</td><td>3</td><td>S</td><td>Average hourly earnings of all employees</td><td>1</td><td>5000000</td><td>-</td><td>A</td><td>Total private</td><td>1</td><td>T</td><td>2</td></tr>",
                            "<tr><td>CES0500000006</td><td>5</td><td>05000000</td><td>6</td><td>S</td><td>Production and nonsupervisory employees</td><td>1</td><td>5000000</td><td>-</td><td>A</td><td>Total private</td><td>1</td><td>T</td><td>2</td></tr>",
                            "<tr><td>CES0500000007</td><td>5</td><td>05000000</td><td>7</td><td>S</td><td>Average weekly hours of production and nonsupervisory employees</td><td>1</td><td>5000000</td><td>-</td><td>A</td><td>Total private</td><td>1</td><td>T</td><td>2</td></tr>",
                            "<tr><td>CES0500000008</td><td>5</td><td>05000000</td><td>8</td><td>S</td><td>Average hourly earnings of production and nonsupervisory employees</td><td>1</td><td>5000000</td><td>-</td><td>A</td><td>Total private</td><td>1</td><td>T</td><td>2</td></tr>",
                            "<tr><td>CES0500000010</td><td>5</td><td>05000000</td><td>10</td><td>S</td><td>Women employees</td><td>1</td><td>5000000</td><td>-</td><td>A</td><td>Total private</td><td>1</td><td>T</td><td>2</td></tr>",
                            "<tr><td>CES0500000011</td><td>5</td><td>05000000</td><td>11</td><td>S</td><td>Average weekly earnings of all employees</td><td>1</td><td>5000000</td><td>-</td><td>A</td><td>Total private</td><td>1</td><td>T</td><td>2</td></tr>",
                            "<tr><td>CES0500000012</td><td>5</td><td>05000000</td><td>12</td><td>S</td><td>Average weekly earnings of all employees</td><td>1</td><td>5000000</td><td>-</td><td>A</td><td>Total private</td><td>1</td><td>T</td><td>2</td></tr>",
                            "<tr><td>CES0500000013</td><td>5</td><td>05000000</td><td>13</td><td>S</td><td>Average hourly earnings of all employees</td><td>1</td><td>5000000</td><td>-</td><td>A</td><td>Total private</td><td>1</td><td>T</td><td>2</td></tr>",
                            "<tr><td>CES0500000016</td><td>5</td><td>05000000</td><td>16</td><td>S</td><td>Indexes of aggregate weekly hours of all employees</td><td>1</td><td>5000000</td><td>-</td><td>A</td><td>Total private</td><td>1</td><td>T</td><td>2</td></tr>",
                            "<tr><td>CES0500000017</td><td>5</td><td>05000000</td><td>17</td><td>S</td><td>Indexes of aggregate weekly payrolls of all employees</td><td>1</td><td>5000000</td><td>-</td><td>A</td><td>Total private</td><td>1</td><td>T</td><td>2</td></tr>",
                            "<tr><td>CES0500000019</td><td>5</td><td>05000000</td><td>19</td><td>S</td><td>Average weekly hours of all employees</td><td>1</td><td>5000000</td><td>-</td><td>A</td><td>Total private</td><td>1</td><td>T</td><td>2</td></tr>",
                            "<tr><td>CES0500000021</td><td>5</td><td>05000000</td><td>21</td><td>S</td><td>Diffusion indexes</td><td>1</td><td>5000000</td><td>-</td><td>A</td><td>Total private</td><td>1</td><td>T</td><td>2</td></tr>",
                            "<tr><td>CES0500000022</td><td>5</td><td>05000000</td><td>22</td><td>S</td><td>Diffusion indexes</td><td>1</td><td>5000000</td><td>-</td><td>A</td><td>Total private</td><td>1</td><td>T</td><td>2</td></tr>",
                            "<tr><td>CES0500000023</td><td>5</td><td>05000000</td><td>23</td><td>S</td><td>Diffusion indexes</td><td>1</td><td>5000000</td><td>-</td><td>A</td><td>Total private</td><td>1</td><td>T</td><td>2</td></tr>",
                            "<tr><td>CES0500000025</td><td>5</td><td>05000000</td><td>25</td><td>S</td><td>All employees</td><td>1</td><td>5000000</td><td>-</td><td>A</td><td>Total private</td><td>1</td><td>T</td><td>2</td></tr>",
                            "<tr><td>CES0500000026</td><td>5</td><td>05000000</td><td>26</td><td>S</td><td>All employees</td><td>1</td><td>5000000</td><td>-</td><td>A</td><td>Total private</td><td>1</td><td>T</td><td>2</td></tr>",
                            "<tr><td>CES0500000030</td><td>5</td><td>05000000</td><td>30</td><td>S</td><td>Average weekly earnings of production and nonsupervisory employees</td><td>1</td><td>5000000</td><td>-</td><td>A</td><td>Total private</td><td>1</td><td>T</td><td>2</td></tr>",
                            "<tr><td>CES0500000031</td><td>5</td><td>05000000</td><td>31</td><td>S</td><td>Average weekly earnings of production and nonsupervisory employees</td><td>1</td><td>5000000</td><td>-</td><td>A</td><td>Total private</td><td>1</td><td>T</td><td>2</td></tr>",
                            "<tr><td>CES0500000032</td><td>5</td><td>05000000</td><td>32</td><td>S</td><td>Average hourly earnings of production and nonsupervisory employees</td><td>1</td><td>5000000</td><td>-</td><td>A</td><td>Total private</td><td>1</td><td>T</td><td>2</td></tr>",
                            "<tr><td>CES0500000034</td><td>5</td><td>05000000</td><td>34</td><td>S</td><td>Indexes of aggregate weekly hours of production and nonsupervisory employees</td><td>1</td><td>5000000</td><td>-</td><td>A</td><td>Total private</td><td>1</td><td>T</td><td>2</td></tr>",
                            "<tr><td>CES0500000035</td><td>5</td><td>05000000</td><td>35</td><td>S</td><td>Indexes of aggregate weekly payrolls of production and nonsupervisory employees</td><td>1</td><td>5000000</td><td>-</td><td>A</td><td>Total private</td><td>1</td><td>T</td><td>2</td></tr>",
                            "<tr><td>CES0500000036</td><td>5</td><td>05000000</td><td>36</td><td>S</td><td>Average weekly hours</td><td>1</td><td>5000000</td><td>-</td><td>A</td><td>Total private</td><td>1</td><td>T</td><td>2</td></tr>",
                            "<tr><td>CES0500000056</td><td>5</td><td>05000000</td><td>56</td><td>S</td><td>Aggregate weekly hours of all employees</td><td>1</td><td>5000000</td><td>-</td><td>A</td><td>Total private</td><td>1</td><td>T</td><td>2</td></tr>",
                            "<tr><td>CES0500000057</td><td>5</td><td>05000000</td><td>57</td><td>S</td><td>Aggregate weekly payrolls of all employees</td><td>1</td><td>5000000</td><td>-</td><td>A</td><td>Total private</td><td>1</td><td>T</td><td>2</td></tr>",
                            "<tr><td>CES0500000081</td><td>5</td><td>05000000</td><td>81</td><td>S</td><td>Aggregate weekly hours of production and nonsupervisory employees</td><td>1</td><td>5000000</td><td>-</td><td>A</td><td>Total private</td><td>1</td><td>T</td><td>2</td></tr>",
                            "<tr><td>CES0500000082</td><td>5</td><td>05000000</td><td>82</td><td>S</td><td>Aggregate weekly payrolls of production and nonsupervisory employees</td><td>1</td><td>5000000</td><td>-</td><td>A</td><td>Total private</td><td>1</td><td>T</td><td>2</td></tr>",
                            "<tr><td>CES0600000001</td><td>6</td><td>06000000</td><td>1</td><td>S</td><td>All employees</td><td>2</td><td>6000000</td><td>-</td><td>A</td><td>Goods-producing</td><td>1</td><td>T</td><td>3</td></tr>",
                            "<tr><td>CES0600000002</td><td>6</td><td>06000000</td><td>2</td><td>S</td><td>Average weekly hours of all employees</td><td>2</td><td>6000000</td><td>-</td><td>A</td><td>Goods-producing</td><td>1</td><td>T</td><td>3</td></tr>",
                            "<tr><td>CES0600000003</td><td>6</td><td>06000000</td><td>3</td><td>S</td><td>Average hourly earnings of all employees</td><td>2</td><td>6000000</td><td>-</td><td>A</td><td>Goods-producing</td><td>1</td><td>T</td><td>3</td></tr>",
                            "<tr><td>CES0600000006</td><td>6</td><td>06000000</td><td>6</td><td>S</td><td>Production and nonsupervisory employees</td><td>2</td><td>6000000</td><td>-</td><td>A</td><td>Goods-producing</td><td>1</td><td>T</td><td>3</td></tr>",
                            "<tr><td>CES0600000007</td><td>6</td><td>06000000</td><td>7</td><td>S</td><td>Average weekly hours of production and nonsupervisory employees</td><td>2</td><td>6000000</td><td>-</td><td>A</td><td>Goods-producing</td><td>1</td><td>T</td><td>3</td></tr>",
                            "<tr><td>CES0600000008</td><td>6</td><td>06000000</td><td>8</td><td>S</td><td>Average hourly earnings of production and nonsupervisory employees</td><td>2</td><td>6000000</td><td>-</td><td>A</td><td>Goods-producing</td><td>1</td><td>T</td><td>3</td></tr>",
                            "<tr><td>CES0600000010</td><td>6</td><td>06000000</td><td>10</td><td>S</td><td>Women employees</td><td>2</td><td>6000000</td><td>-</td><td>A</td><td>Goods-producing</td><td>1</td><td>T</td><td>3</td></tr>",
                            "<tr><td>CES0600000011</td><td>6</td><td>06000000</td><td>11</td><td>S</td><td>Average weekly earnings of all employees</td><td>2</td><td>6000000</td><td>-</td><td>A</td><td>Goods-producing</td><td>1</td><td>T</td><td>3</td></tr>",
                            "<tr><td>CES0600000012</td><td>6</td><td>06000000</td><td>12</td><td>S</td><td>Average weekly earnings of all employees</td><td>2</td><td>6000000</td><td>-</td><td>A</td><td>Goods-producing</td><td>1</td><td>T</td><td>3</td></tr>",
                            "<tr><td>CES0600000013</td><td>6</td><td>06000000</td><td>13</td><td>S</td><td>Average hourly earnings of all employees</td><td>2</td><td>6000000</td><td>-</td><td>A</td><td>Goods-producing</td><td>1</td><td>T</td><td>3</td></tr>",
                            "<tr><td>CES0600000016</td><td>6</td><td>06000000</td><td>16</td><td>S</td><td>Indexes of aggregate weekly hours of all employees</td><td>2</td><td>6000000</td><td>-</td><td>A</td><td>Goods-producing</td><td>1</td><td>T</td><td>3</td></tr>",
                            "<tr><td>CES0600000017</td><td>6</td><td>06000000</td><td>17</td><td>S</td><td>Indexes of aggregate weekly payrolls of all employees</td><td>2</td><td>6000000</td><td>-</td><td>A</td><td>Goods-producing</td><td>1</td><td>T</td><td>3</td></tr>",
                            "<tr><td>CES0600000025</td><td>6</td><td>06000000</td><td>25</td><td>S</td><td>All employees</td><td>2</td><td>6000000</td><td>-</td><td>A</td><td>Goods-producing</td><td>1</td><td>T</td><td>3</td></tr>",
                            "<tr><td>CES0600000030</td><td>6</td><td>06000000</td><td>30</td><td>S</td><td>Average weekly earnings of production and nonsupervisory employees</td><td>2</td><td>6000000</td><td>-</td><td>A</td><td>Goods-producing</td><td>1</td><td>T</td><td>3</td></tr>",
                            "<tr><td>CES0600000031</td><td>6</td><td>06000000</td><td>31</td><td>S</td><td>Average weekly earnings of production and nonsupervisory employees</td><td>2</td><td>6000000</td><td>-</td><td>A</td><td>Goods-producing</td><td>1</td><td>T</td><td>3</td></tr>",
                            "<tr><td>CES0600000032</td><td>6</td><td>06000000</td><td>32</td><td>S</td><td>Average hourly earnings of production and nonsupervisory employees</td><td>2</td><td>6000000</td><td>-</td><td>A</td><td>Goods-producing</td><td>1</td><td>T</td><td>3</td></tr>",
                            "<tr><td>CES0600000034</td><td>6</td><td>06000000</td><td>34</td><td>S</td><td>Indexes of aggregate weekly hours of production and nonsupervisory employees</td><td>2</td><td>6000000</td><td>-</td><td>A</td><td>Goods-producing</td><td>1</td><td>T</td><td>3</td></tr>",
                            "<tr><td>CES0600000035</td><td>6</td><td>06000000</td><td>35</td><td>S</td><td>Indexes of aggregate weekly payrolls of production and nonsupervisory employees</td><td>2</td><td>6000000</td><td>-</td><td>A</td><td>Goods-producing</td><td>1</td><td>T</td><td>3</td></tr>",
                            "</table>"
                        ]
                    }
                }
            ],
            "execution_count": 35
        },
        {
            "cell_type": "markdown",
            "source": [
                "## <span style=\"font-size: 12pt; font-family: Montserrat, sans-serif; color: rgb(53, 74, 95); background-color: rgb(255, 255, 255); font-weight: 700; font-variant-numeric: normal; font-variant-east-asian: normal; vertical-align: baseline; white-space: pre-wrap;\">Aggregate Your Friends and Code some SQL</span>\n",
                "\n",
                "<span style=\"font-size: 10pt; font-family: Arvo, serif; color: rgb(102, 102, 102); background-color: rgb(255, 255, 255); font-variant-numeric: normal; font-variant-east-asian: normal; vertical-align: baseline; white-space: pre-wrap;\">Put together the following:</span>\n",
                "\n",
                "1. <span style=\"background-color: rgb(255, 255, 255); font-size: 10pt; white-space: pre-wrap; color: rgb(102, 102, 102); font-family: Arvo, serif;\">How many employees were reported in 2016 in all industries? Round to the nearest whole number.&nbsp; No chopping people into little bits, please.</span>"
            ],
            "metadata": {
                "azdata_cell_guid": "f4290cc1-f824-4586-8850-59d926bf4460"
            },
            "attachments": {}
        },
        {
            "cell_type": "code",
            "source": [
                "USE LaborStatisticsDB\n",
                "\n",
                "SELECT ROUND(SUM([value]),0) AS total_employees\n",
                "FROM annual_2016\n",
                "WHERE series_id IN (\n",
                "    SELECT series_id\n",
                "    FROM series\n",
                "    WHERE data_type_code IN (\n",
                "        SELECT data_type_code\n",
                "        FROM datatype\n",
                "        WHERE data_type_text = 'ALL EMPLOYEES'\n",
                "    )\n",
                ")\n",
                "\n",
                "/*\n",
                "SELECT *\n",
                "FROM datatype\n",
                "WHERE data_type_text = 'ALL EMPLOYEES'\n",
                "\n",
                "\n",
                "SELECT TOP 50*\n",
                "FROM series\n",
                "WHERE data_type_code IN (\n",
                "    SELECT data_type_code\n",
                "    FROM datatype\n",
                "    WHERE data_type_text = 'ALL EMPLOYEES'\n",
                ")\n",
                "*/"
            ],
            "metadata": {
                "azdata_cell_guid": "25099068-a629-4eb5-afca-ed3748c40605",
                "language": "sql",
                "tags": []
            },
            "outputs": [
                {
                    "output_type": "display_data",
                    "data": {
                        "text/html": "(1 row affected)"
                    },
                    "metadata": {}
                },
                {
                    "output_type": "display_data",
                    "data": {
                        "text/html": "Total execution time: 00:00:00.108"
                    },
                    "metadata": {}
                },
                {
                    "output_type": "execute_result",
                    "metadata": {},
                    "execution_count": 74,
                    "data": {
                        "application/vnd.dataresource+json": {
                            "schema": {
                                "fields": [
                                    {
                                        "name": "total_employees"
                                    }
                                ]
                            },
                            "data": [
                                {
                                    "0": "2340612"
                                }
                            ]
                        },
                        "text/html": [
                            "<table>",
                            "<tr><th>total_employees</th></tr>",
                            "<tr><td>2340612</td></tr>",
                            "</table>"
                        ]
                    }
                }
            ],
            "execution_count": 74
        },
        {
            "cell_type": "markdown",
            "source": [
                "2. <span style=\"background-color: rgb(255, 255, 255); font-size: 10pt; white-space: pre-wrap; color: rgb(102, 102, 102); font-family: Arvo, serif;\">How many women employees were reported in 2016 in all industries? Round to the nearest whole number.&nbsp;</span>"
            ],
            "metadata": {
                "azdata_cell_guid": "6358fab4-b933-4646-bef1-4be66dcd4317"
            },
            "attachments": {}
        },
        {
            "cell_type": "code",
            "source": [
                "USE LaborStatisticsDB\n",
                "\n",
                "SELECT ROUND(SUM([value]),0) AS total_women_emp\n",
                "FROM annual_2016\n",
                "WHERE series_id IN (\n",
                "    SELECT series_id\n",
                "    FROM series\n",
                "    WHERE data_type_code =10\n",
                ")"
            ],
            "metadata": {
                "azdata_cell_guid": "7bb0bfb7-b9e3-4672-b354-7ca705bb0c3b",
                "language": "sql"
            },
            "outputs": [
                {
                    "output_type": "display_data",
                    "data": {
                        "text/html": "(1 row affected)"
                    },
                    "metadata": {}
                },
                {
                    "output_type": "display_data",
                    "data": {
                        "text/html": "Total execution time: 00:00:00.279"
                    },
                    "metadata": {}
                },
                {
                    "output_type": "execute_result",
                    "metadata": {},
                    "execution_count": 51,
                    "data": {
                        "application/vnd.dataresource+json": {
                            "schema": {
                                "fields": [
                                    {
                                        "name": "total_women_emp"
                                    }
                                ]
                            },
                            "data": [
                                {
                                    "0": "1125490"
                                }
                            ]
                        },
                        "text/html": [
                            "<table>",
                            "<tr><th>total_women_emp</th></tr>",
                            "<tr><td>1125490</td></tr>",
                            "</table>"
                        ]
                    }
                }
            ],
            "execution_count": 51
        },
        {
            "cell_type": "markdown",
            "source": [
                "3. <span style=\"background-color: rgb(255, 255, 255); font-size: 10pt; white-space: pre-wrap; color: rgb(102, 102, 102); font-family: Arvo, serif;\">How many production/nonsupervisory employees were reported in 2016? Round to the nearest whole number.&nbsp;</span>"
            ],
            "metadata": {
                "azdata_cell_guid": "246ea683-2075-4337-878d-fbfdd49b2dd7"
            },
            "attachments": {}
        },
        {
            "cell_type": "code",
            "source": [
                "USE LaborStatisticsDB\n",
                "/*\n",
                "SELECT TOP 50*\n",
                "FROM series\n",
                "\n",
                "SELECT TOP 10*\n",
                "FROM datatype\n",
                "WHERE data_type_text LIKE '%production%' AND data_type_text LIKE '%nonsupervisory%'\n",
                "*/\n",
                "\n",
                "SELECT ROUND(SUM([value]), 0) AS total_prod_nonsupe_emp\n",
                "FROM annual_2016\n",
                "WHERE series_id IN(\n",
                "    SELECT series_id\n",
                "    FROM series\n",
                "    WHERE data_type_code = 6\n",
                ") "
            ],
            "metadata": {
                "azdata_cell_guid": "110f2591-069b-4bbe-87c7-2bcf76c3d36f",
                "language": "sql"
            },
            "outputs": [
                {
                    "output_type": "display_data",
                    "data": {
                        "text/html": "(1 row affected)"
                    },
                    "metadata": {}
                },
                {
                    "output_type": "display_data",
                    "data": {
                        "text/html": "Total execution time: 00:00:00.113"
                    },
                    "metadata": {}
                },
                {
                    "output_type": "execute_result",
                    "metadata": {},
                    "execution_count": 58,
                    "data": {
                        "application/vnd.dataresource+json": {
                            "schema": {
                                "fields": [
                                    {
                                        "name": "total_prod_nonsupe_emp"
                                    }
                                ]
                            },
                            "data": [
                                {
                                    "0": "1263650"
                                }
                            ]
                        },
                        "text/html": [
                            "<table>",
                            "<tr><th>total_prod_nonsupe_emp</th></tr>",
                            "<tr><td>1263650</td></tr>",
                            "</table>"
                        ]
                    }
                }
            ],
            "execution_count": 58
        },
        {
            "cell_type": "markdown",
            "source": [
                "4. <span style=\"background-color: rgb(255, 255, 255); font-size: 10pt; white-space: pre-wrap; color: rgb(102, 102, 102); font-family: Arvo, serif;\">In January 2017, what is the average weekly hours worked by production and nonsupervisory employees across all industries?</span>"
            ],
            "metadata": {
                "azdata_cell_guid": "9caa7f57-e39d-4b7a-b705-25f8fe29d60b"
            },
            "attachments": {}
        },
        {
            "cell_type": "code",
            "source": [
                "USE LaborStatisticsDB\n",
                "\n",
                "SELECT TOP 15*\n",
                "FROM datatype\n",
                "WHERE data_type_text LIKE '%average weekly hours%'\n",
                "\n",
                "\n",
                "SELECT AVG([value]) AS avg_wkly_hours_all_industries\n",
                "FROM january_2017\n",
                "WHERE series_id IN (\n",
                "    SELECT series_id\n",
                "    FROM series\n",
                "    WHERE data_type_code = 7\n",
                ")\n",
                "\n",
                "\n",
                "SELECT AVG([value]) AS avg_wkly_hours_all_industries\n",
                "FROM annual_2016\n",
                "WHERE series_id IN (\n",
                "    SELECT series_id\n",
                "    FROM series\n",
                "    WHERE data_type_code = 7\n",
                ")"
            ],
            "metadata": {
                "azdata_cell_guid": "9f07fa8a-4217-439a-a9cd-831240d4bc9e",
                "language": "sql",
                "tags": []
            },
            "outputs": [
                {
                    "output_type": "display_data",
                    "data": {
                        "text/html": "(4 rows affected)"
                    },
                    "metadata": {}
                },
                {
                    "output_type": "display_data",
                    "data": {
                        "text/html": "(1 row affected)"
                    },
                    "metadata": {}
                },
                {
                    "output_type": "display_data",
                    "data": {
                        "text/html": "(1 row affected)"
                    },
                    "metadata": {}
                },
                {
                    "output_type": "display_data",
                    "data": {
                        "text/html": "Total execution time: 00:00:00.154"
                    },
                    "metadata": {}
                },
                {
                    "output_type": "execute_result",
                    "metadata": {},
                    "execution_count": 148,
                    "data": {
                        "application/vnd.dataresource+json": {
                            "schema": {
                                "fields": [
                                    {
                                        "name": "data_type_code"
                                    },
                                    {
                                        "name": "data_type_text"
                                    }
                                ]
                            },
                            "data": [
                                {
                                    "0": "2",
                                    "1": "AVERAGE WEEKLY HOURS OF ALL EMPLOYEES"
                                },
                                {
                                    "0": "7",
                                    "1": "AVERAGE WEEKLY HOURS OF PRODUCTION AND NONSUPERVISORY EMPLOYEES"
                                },
                                {
                                    "0": "19",
                                    "1": "AVERAGE WEEKLY HOURS OF ALL EMPLOYEES"
                                },
                                {
                                    "0": "36",
                                    "1": "AVERAGE WEEKLY HOURS"
                                }
                            ]
                        },
                        "text/html": [
                            "<table>",
                            "<tr><th>data_type_code</th><th>data_type_text</th></tr>",
                            "<tr><td>2</td><td>AVERAGE WEEKLY HOURS OF ALL EMPLOYEES</td></tr>",
                            "<tr><td>7</td><td>AVERAGE WEEKLY HOURS OF PRODUCTION AND NONSUPERVISORY EMPLOYEES</td></tr>",
                            "<tr><td>19</td><td>AVERAGE WEEKLY HOURS OF ALL EMPLOYEES</td></tr>",
                            "<tr><td>36</td><td>AVERAGE WEEKLY HOURS</td></tr>",
                            "</table>"
                        ]
                    }
                },
                {
                    "output_type": "execute_result",
                    "metadata": {},
                    "execution_count": 148,
                    "data": {
                        "application/vnd.dataresource+json": {
                            "schema": {
                                "fields": [
                                    {
                                        "name": "avg_wkly_hours_all_industries"
                                    }
                                ]
                            },
                            "data": [
                                {
                                    "0": "36.05862068965521"
                                }
                            ]
                        },
                        "text/html": [
                            "<table>",
                            "<tr><th>avg_wkly_hours_all_industries</th></tr>",
                            "<tr><td>36.05862068965521</td></tr>",
                            "</table>"
                        ]
                    }
                },
                {
                    "output_type": "execute_result",
                    "metadata": {},
                    "execution_count": 148,
                    "data": {
                        "application/vnd.dataresource+json": {
                            "schema": {
                                "fields": [
                                    {
                                        "name": "avg_wkly_hours_all_industries"
                                    }
                                ]
                            },
                            "data": [
                                {
                                    "0": "36.10689655172414"
                                }
                            ]
                        },
                        "text/html": [
                            "<table>",
                            "<tr><th>avg_wkly_hours_all_industries</th></tr>",
                            "<tr><td>36.10689655172414</td></tr>",
                            "</table>"
                        ]
                    }
                }
            ],
            "execution_count": 148
        },
        {
            "cell_type": "markdown",
            "source": [
                "5. <span style=\"background-color: rgb(255, 255, 255); font-size: 10pt; white-space: pre-wrap; color: rgb(102, 102, 102); font-family: Arvo, serif;\">What is the total weekly payroll for production and nonsupervisory employees across all industries in January 2017? Round to the nearest penny, please.</span>"
            ],
            "metadata": {
                "azdata_cell_guid": "9c48ff2e-a6eb-4f02-8df2-988e219fbc00"
            },
            "attachments": {}
        },
        {
            "cell_type": "code",
            "source": [
                "USE LaborStatisticsDB\n",
                "\n",
                "SELECT TOP 50*\n",
                "FROM datatype\n",
                "WHERE data_type_text LIKE '%weekly payroll%'\n",
                "\n",
                "SELECT ROUND(SUM([value]), 2) AS total_wkly_payroll_prodandnonsupe \n",
                "FROM january_2017\n",
                "WHERE series_id IN (\n",
                "    SELECT series_id\n",
                "    FROM series\n",
                "    WHERE data_type_code = 82\n",
                ")"
            ],
            "metadata": {
                "azdata_cell_guid": "c565641b-f1fa-4dbb-9320-24adfda97ca5",
                "language": "sql"
            },
            "outputs": [
                {
                    "output_type": "display_data",
                    "data": {
                        "text/html": "(4 rows affected)"
                    },
                    "metadata": {}
                },
                {
                    "output_type": "display_data",
                    "data": {
                        "text/html": "(1 row affected)"
                    },
                    "metadata": {}
                },
                {
                    "output_type": "display_data",
                    "data": {
                        "text/html": "Total execution time: 00:00:00.113"
                    },
                    "metadata": {}
                },
                {
                    "output_type": "execute_result",
                    "metadata": {},
                    "execution_count": 147,
                    "data": {
                        "application/vnd.dataresource+json": {
                            "schema": {
                                "fields": [
                                    {
                                        "name": "data_type_code"
                                    },
                                    {
                                        "name": "data_type_text"
                                    }
                                ]
                            },
                            "data": [
                                {
                                    "0": "17",
                                    "1": "INDEXES OF AGGREGATE WEEKLY PAYROLLS OF ALL EMPLOYEES"
                                },
                                {
                                    "0": "35",
                                    "1": "INDEXES OF AGGREGATE WEEKLY PAYROLLS OF PRODUCTION AND NONSUPERVISORY EMPLOYEES"
                                },
                                {
                                    "0": "57",
                                    "1": "AGGREGATE WEEKLY PAYROLLS OF ALL EMPLOYEES"
                                },
                                {
                                    "0": "82",
                                    "1": "AGGREGATE WEEKLY PAYROLLS OF PRODUCTION AND NONSUPERVISORY EMPLOYEES"
                                }
                            ]
                        },
                        "text/html": [
                            "<table>",
                            "<tr><th>data_type_code</th><th>data_type_text</th></tr>",
                            "<tr><td>17</td><td>INDEXES OF AGGREGATE WEEKLY PAYROLLS OF ALL EMPLOYEES</td></tr>",
                            "<tr><td>35</td><td>INDEXES OF AGGREGATE WEEKLY PAYROLLS OF PRODUCTION AND NONSUPERVISORY EMPLOYEES</td></tr>",
                            "<tr><td>57</td><td>AGGREGATE WEEKLY PAYROLLS OF ALL EMPLOYEES</td></tr>",
                            "<tr><td>82</td><td>AGGREGATE WEEKLY PAYROLLS OF PRODUCTION AND NONSUPERVISORY EMPLOYEES</td></tr>",
                            "</table>"
                        ]
                    }
                },
                {
                    "output_type": "execute_result",
                    "metadata": {},
                    "execution_count": 147,
                    "data": {
                        "application/vnd.dataresource+json": {
                            "schema": {
                                "fields": [
                                    {
                                        "name": "total_wkly_payroll_prodandnonsupe"
                                    }
                                ]
                            },
                            "data": [
                                {
                                    "0": "1838753220"
                                }
                            ]
                        },
                        "text/html": [
                            "<table>",
                            "<tr><th>total_wkly_payroll_prodandnonsupe</th></tr>",
                            "<tr><td>1838753220</td></tr>",
                            "</table>"
                        ]
                    }
                }
            ],
            "execution_count": 147
        },
        {
            "cell_type": "markdown",
            "source": [
                "6. <span style=\"background-color: rgb(255, 255, 255); font-size: 10pt; white-space: pre-wrap; color: rgb(102, 102, 102); font-family: Arvo, serif;\">In January 2017, which industry was the average weekly hours worked by production and nonsupervisory employees the highest? Which industry was the lowest? Highest: </span> <span style=\"font-size: 13.3333px; white-space: pre-wrap;\">Motor vehicle power train components. Lowest: Fitness and recreational sports centers</span>"
            ],
            "metadata": {
                "azdata_cell_guid": "862fd406-4fff-49bb-9d2b-232275a06405"
            },
            "attachments": {}
        },
        {
            "cell_type": "code",
            "source": [
                "USE LaborStatisticsDB\n",
                "\n",
                "/*\n",
                "SELECT *\n",
                "FROM series\n",
                "LEFT JOIN industry\n",
                "ON series.industry_code = industry.industry_code\n",
                "WHERE series.data_type_code = 7\n",
                "\n",
                "\n",
                "SELECT *\n",
                "FROM industry\n",
                "WHERE industry_code = (\n",
                "\n",
                "SELECT industry_code\n",
                "FROM series\n",
                "WHERE series_id IN (\n",
                "\n",
                "\n",
                "SELECT TOP 1 series_id\n",
                "FROM january_2017\n",
                "WHERE series_id IN (\n",
                "    SELECT series_id\n",
                "    FROM series\n",
                "    WHERE data_type_code = 7\n",
                ")\n",
                "--HAVING value = MAX([value])\n",
                "ORDER BY [value] DESC)\n",
                ")\n",
                "*/\n",
                "\n",
                "\n",
                "\n",
                "SELECT DISTINCT TOP 1 j.series_id, s.industry_code, j.value, i.industry_name, s.data_type_code\n",
                "FROM january_2017 as j \n",
                "LEFT JOIN series as s \n",
                "ON j.series_id = s.series_id\n",
                "--WHERE s.data_type_code = 7\n",
                "LEFT JOIN industry as i \n",
                "ON s.industry_code = i.industry_code\n",
                "WHERE s.data_type_code = 7\n",
                "--GROUP BY j.series_id, s.industry_code,\n",
                "ORDER BY j.[value] DESC\n",
                "\n",
                "SELECT  DISTINCT TOP 1 j.series_id, s.industry_code, j.value, i.industry_name, s.data_type_code\n",
                "FROM january_2017 as j \n",
                "LEFT JOIN series as s \n",
                "ON j.series_id = s.series_id\n",
                "--WHERE s.data_type_code = 7\n",
                "LEFT JOIN industry as i \n",
                "ON s.industry_code = i.industry_code\n",
                "WHERE s.data_type_code = 7\n",
                "--GROUP BY j.series_id, s.industry_code,\n",
                "ORDER BY j.[value] ASC"
            ],
            "metadata": {
                "azdata_cell_guid": "01e11050-5f2f-4d22-92e0-2b3024b80a5f",
                "language": "sql"
            },
            "outputs": [
                {
                    "output_type": "display_data",
                    "data": {
                        "text/html": "(1 row affected)"
                    },
                    "metadata": {}
                },
                {
                    "output_type": "display_data",
                    "data": {
                        "text/html": "(1 row affected)"
                    },
                    "metadata": {}
                },
                {
                    "output_type": "display_data",
                    "data": {
                        "text/html": "Total execution time: 00:00:00.201"
                    },
                    "metadata": {}
                },
                {
                    "output_type": "execute_result",
                    "metadata": {},
                    "execution_count": 115,
                    "data": {
                        "application/vnd.dataresource+json": {
                            "schema": {
                                "fields": [
                                    {
                                        "name": "series_id"
                                    },
                                    {
                                        "name": "industry_code"
                                    },
                                    {
                                        "name": "value"
                                    },
                                    {
                                        "name": "industry_name"
                                    },
                                    {
                                        "name": "data_type_code"
                                    }
                                ]
                            },
                            "data": [
                                {
                                    "0": "CES3133635007",
                                    "1": "31336350",
                                    "2": "49.8",
                                    "3": "Motor vehicle power train components",
                                    "4": "7"
                                }
                            ]
                        },
                        "text/html": [
                            "<table>",
                            "<tr><th>series_id</th><th>industry_code</th><th>value</th><th>industry_name</th><th>data_type_code</th></tr>",
                            "<tr><td>CES3133635007</td><td>31336350</td><td>49.8</td><td>Motor vehicle power train components</td><td>7</td></tr>",
                            "</table>"
                        ]
                    }
                },
                {
                    "output_type": "execute_result",
                    "metadata": {},
                    "execution_count": 115,
                    "data": {
                        "application/vnd.dataresource+json": {
                            "schema": {
                                "fields": [
                                    {
                                        "name": "series_id"
                                    },
                                    {
                                        "name": "industry_code"
                                    },
                                    {
                                        "name": "value"
                                    },
                                    {
                                        "name": "industry_name"
                                    },
                                    {
                                        "name": "data_type_code"
                                    }
                                ]
                            },
                            "data": [
                                {
                                    "0": "CEU7071394007",
                                    "1": "70713940",
                                    "2": "16.7",
                                    "3": "Fitness and recreational sports centers",
                                    "4": "7"
                                }
                            ]
                        },
                        "text/html": [
                            "<table>",
                            "<tr><th>series_id</th><th>industry_code</th><th>value</th><th>industry_name</th><th>data_type_code</th></tr>",
                            "<tr><td>CEU7071394007</td><td>70713940</td><td>16.7</td><td>Fitness and recreational sports centers</td><td>7</td></tr>",
                            "</table>"
                        ]
                    }
                }
            ],
            "execution_count": 115
        },
        {
            "cell_type": "markdown",
            "source": [
                "7. <span style=\"background-color: rgb(255, 255, 255); font-size: 10pt; white-space: pre-wrap; color: rgb(102, 102, 102); font-family: Arvo, serif;\">In January 2021, which industry was the total weekly payroll for production and nonsupervisory employees the highest? Which industry was the lowest? Highest: </span> <span style=\"font-size: 13.3333px; white-space: pre-wrap;\">Total private. Lowest: Coin-operated laundries and drycleaners</span>"
            ],
            "metadata": {
                "azdata_cell_guid": "a53f4113-60c6-46d1-b9a3-34610c61d4f9"
            },
            "attachments": {}
        },
        {
            "cell_type": "code",
            "source": [
                "SELECT TOP 1 s.industry_code, SUM(j.value) AS total_wkly_payroll, i.industry_name\n",
                "FROM january_2017 as j \n",
                "LEFT JOIN series as s \n",
                "ON j.series_id = s.series_id\n",
                "--WHERE s.data_type_code = 7\n",
                "LEFT JOIN industry as i \n",
                "ON s.industry_code = i.industry_code\n",
                "WHERE s.data_type_code = 82\n",
                "GROUP BY s.industry_code, i.industry_name\n",
                "ORDER BY SUM(j.[value]) DESC, s.industry_code, i.industry_name \n",
                "\n",
                "SELECT TOP 1 s.industry_code, SUM(j.value) AS total_wkly_payroll, i.industry_name\n",
                "FROM january_2017 as j \n",
                "LEFT JOIN series as s \n",
                "ON j.series_id = s.series_id\n",
                "--WHERE s.data_type_code = 7\n",
                "LEFT JOIN industry as i \n",
                "ON s.industry_code = i.industry_code\n",
                "WHERE s.data_type_code = 82\n",
                "GROUP BY s.industry_code, i.industry_name\n",
                "ORDER BY SUM(j.[value]) ASC, s.industry_code, i.industry_name "
            ],
            "metadata": {
                "azdata_cell_guid": "583695e6-7438-4e03-8970-1fe0c677a793",
                "language": "sql"
            },
            "outputs": [
                {
                    "output_type": "display_data",
                    "data": {
                        "text/html": "(1 row affected)"
                    },
                    "metadata": {}
                },
                {
                    "output_type": "display_data",
                    "data": {
                        "text/html": "(1 row affected)"
                    },
                    "metadata": {}
                },
                {
                    "output_type": "display_data",
                    "data": {
                        "text/html": "Total execution time: 00:00:00.166"
                    },
                    "metadata": {}
                },
                {
                    "output_type": "execute_result",
                    "metadata": {},
                    "execution_count": 125,
                    "data": {
                        "application/vnd.dataresource+json": {
                            "schema": {
                                "fields": [
                                    {
                                        "name": "industry_code"
                                    },
                                    {
                                        "name": "total_wkly_payroll"
                                    },
                                    {
                                        "name": "industry_name"
                                    }
                                ]
                            },
                            "data": [
                                {
                                    "0": "05000000",
                                    "1": "295944946",
                                    "2": "Total private"
                                }
                            ]
                        },
                        "text/html": [
                            "<table>",
                            "<tr><th>industry_code</th><th>total_wkly_payroll</th><th>industry_name</th></tr>",
                            "<tr><td>05000000</td><td>295944946</td><td>Total private</td></tr>",
                            "</table>"
                        ]
                    }
                },
                {
                    "output_type": "execute_result",
                    "metadata": {},
                    "execution_count": 125,
                    "data": {
                        "application/vnd.dataresource+json": {
                            "schema": {
                                "fields": [
                                    {
                                        "name": "industry_code"
                                    },
                                    {
                                        "name": "total_wkly_payroll"
                                    },
                                    {
                                        "name": "industry_name"
                                    }
                                ]
                            },
                            "data": [
                                {
                                    "0": "80812310",
                                    "1": "40448",
                                    "2": "Coin-operated laundries and drycleaners"
                                }
                            ]
                        },
                        "text/html": [
                            "<table>",
                            "<tr><th>industry_code</th><th>total_wkly_payroll</th><th>industry_name</th></tr>",
                            "<tr><td>80812310</td><td>40448</td><td>Coin-operated laundries and drycleaners</td></tr>",
                            "</table>"
                        ]
                    }
                }
            ],
            "execution_count": 125
        },
        {
            "cell_type": "markdown",
            "source": [
                "## <span style=\"font-size: 12pt; font-family: Montserrat, sans-serif; color: rgb(53, 74, 95); background-color: rgb(255, 255, 255); font-weight: 700; font-variant-numeric: normal; font-variant-east-asian: normal; vertical-align: baseline; white-space: pre-wrap;\">Subqueries, Unions, Derived Tables, Oh My!</span>\n",
                "\n",
                "1. <span style=\"background-color: rgb(255, 255, 255); font-size: 10pt; white-space: pre-wrap; color: rgb(102, 102, 102); font-family: Arvo, serif;\">Write a query that returns the series_id, industry_code, industry_name, and value from the january_2017 table but only if that value is greater than the average value for annual_2016 of data_type_code 82.</span>"
            ],
            "metadata": {
                "azdata_cell_guid": "e98ec195-5399-4718-83ef-54fb954662a5"
            },
            "attachments": {}
        },
        {
            "cell_type": "code",
            "source": [
                "USE LaborStatisticsDB\n",
                "\n",
                "SELECT j.series_id, i.industry_code, i.industry_name, j.[value]\n",
                "FROM january_2017 AS j, industry AS i, series AS s\n",
                "WHERE j.series_id = s.series_id AND s.industry_code = i.industry_code\n",
                "AND s.data_type_code= 82 AND j.[value] > (\n",
                "    SELECT AVG(annual_2016.[value])\n",
                "    FROM annual_2016\n",
                "    WHERE annual_2016.series_id IN (\n",
                "        SELECT series_id\n",
                "        FROM series\n",
                "        WHERE data_type_code = 82\n",
                "    )\n",
                ")\n",
                "GROUP BY j.series_id, i.industry_code, i.industry_name, j.[value]\n",
                "\n",
                "/*\n",
                "SELECT AVG(annual_2016.[value])\n",
                "    FROM annual_2016\n",
                "    WHERE annual_2016.series_id IN (\n",
                "        SELECT series_id\n",
                "        FROM series\n",
                "        WHERE data_type_code = 82\n",
                "    )\n",
                "*/\n",
                "\n",
                "SELECT *\n",
                "FROM datatype\n",
                "WHERE data_type_code = 82\n",
                ""
            ],
            "metadata": {
                "azdata_cell_guid": "7c85f70b-528f-4cbd-bd8e-a6efab1c18df",
                "language": "sql"
            },
            "outputs": [
                {
                    "output_type": "display_data",
                    "data": {
                        "text/html": "(147 rows affected)"
                    },
                    "metadata": {}
                },
                {
                    "output_type": "display_data",
                    "data": {
                        "text/html": "(1 row affected)"
                    },
                    "metadata": {}
                },
                {
                    "output_type": "display_data",
                    "data": {
                        "text/html": "Total execution time: 00:00:00.182"
                    },
                    "metadata": {}
                },
                {
                    "output_type": "execute_result",
                    "metadata": {},
                    "execution_count": 152,
                    "data": {
                        "application/vnd.dataresource+json": {
                            "schema": {
                                "fields": [
                                    {
                                        "name": "series_id"
                                    },
                                    {
                                        "name": "industry_code"
                                    },
                                    {
                                        "name": "industry_name"
                                    },
                                    {
                                        "name": "value"
                                    }
                                ]
                            },
                            "data": [
                                {
                                    "0": "CES0500000082",
                                    "1": "5000000",
                                    "2": "Total private",
                                    "3": "74498171"
                                },
                                {
                                    "0": "CES0600000082",
                                    "1": "6000000",
                                    "2": "Goods-producing",
                                    "3": "13426820"
                                },
                                {
                                    "0": "CES0800000082",
                                    "1": "8000000",
                                    "2": "Private service-providing",
                                    "3": "60914722"
                                },
                                {
                                    "0": "CES2000000082",
                                    "1": "20000000",
                                    "2": "Construction",
                                    "3": "5335274"
                                },
                                {
                                    "0": "CES2023600082",
                                    "1": "20236000",
                                    "2": "Construction of buildings",
                                    "3": "1008035"
                                },
                                {
                                    "0": "CES2023700082",
                                    "1": "20237000",
                                    "2": "Heavy and civil engineering construction",
                                    "3": "908374"
                                },
                                {
                                    "0": "CES2023800082",
                                    "1": "20238000",
                                    "2": "Specialty trade contractors",
                                    "3": "3421902"
                                },
                                {
                                    "0": "CES2023820082",
                                    "1": "20238200",
                                    "2": "Building equipment contractors",
                                    "3": "1696080"
                                },
                                {
                                    "0": "CES3000000082",
                                    "1": "30000000",
                                    "2": "Manufacturing",
                                    "3": "7491723"
                                },
                                {
                                    "0": "CES3100000082",
                                    "1": "31000000",
                                    "2": "Durable goods",
                                    "3": "4859716"
                                },
                                {
                                    "0": "CES3133200082",
                                    "1": "31332000",
                                    "2": "Fabricated metal products",
                                    "3": "871298"
                                },
                                {
                                    "0": "CES3133600082",
                                    "1": "31336000",
                                    "2": "Transportation equipment",
                                    "3": "1257764"
                                },
                                {
                                    "0": "CES3200000082",
                                    "1": "32000000",
                                    "2": "Nondurable goods",
                                    "3": "2633628"
                                },
                                {
                                    "0": "CES3231100082",
                                    "1": "32311000",
                                    "2": "Food manufacturing",
                                    "3": "851406"
                                },
                                {
                                    "0": "CES4000000082",
                                    "1": "40000000",
                                    "2": "Trade",
                                    "3": "14850661"
                                },
                                {
                                    "0": "CES4142000082",
                                    "1": "41420000",
                                    "2": "Wholesale trade",
                                    "3": "4480134"
                                },
                                {
                                    "0": "CES4142300082",
                                    "1": "41423000",
                                    "2": "Durable goods",
                                    "3": "2261006"
                                },
                                {
                                    "0": "CES4142400082",
                                    "1": "41424000",
                                    "2": "Nondurable goods",
                                    "3": "1367413"
                                },
                                {
                                    "0": "CES4142500082",
                                    "1": "41425000",
                                    "2": "Electronic markets and agents and brokers",
                                    "3": "855291"
                                },
                                {
                                    "0": "CES4142512082",
                                    "1": "41425120",
                                    "2": "Wholesale trade agents and brokers",
                                    "3": "831319"
                                },
                                {
                                    "0": "CES4200000082",
                                    "1": "42000000",
                                    "2": "Retail trade",
                                    "3": "6123554"
                                },
                                {
                                    "0": "CES4244100082",
                                    "1": "42441000",
                                    "2": "Motor vehicle and parts dealers",
                                    "3": "1180297"
                                },
                                {
                                    "0": "CES4244110082",
                                    "1": "42441100",
                                    "2": "Automobile dealers",
                                    "3": "839595"
                                },
                                {
                                    "0": "CES4244500082",
                                    "1": "42445000",
                                    "2": "Food and beverage stores",
                                    "3": "974710"
                                },
                                {
                                    "0": "CES4244510082",
                                    "1": "42445100",
                                    "2": "Grocery stores",
                                    "3": "868430"
                                },
                                {
                                    "0": "CES4244511082",
                                    "1": "42445110",
                                    "2": "Supermarkets and other grocery stores",
                                    "3": "821282"
                                },
                                {
                                    "0": "CES4245200082",
                                    "1": "42452000",
                                    "2": "General merchandise stores",
                                    "3": "1065807"
                                },
                                {
                                    "0": "CES4300000082",
                                    "1": "43000000",
                                    "2": "Transportation and warehousing",
                                    "3": "3538683"
                                },
                                {
                                    "0": "CES4348400082",
                                    "1": "43484000",
                                    "2": "Truck transportation",
                                    "3": "1131821"
                                },
                                {
                                    "0": "CES5000000082",
                                    "1": "50000000",
                                    "2": "Information",
                                    "3": "2416443"
                                },
                                {
                                    "0": "CES5500000082",
                                    "1": "55000000",
                                    "2": "Financial activities",
                                    "3": "6328968"
                                },
                                {
                                    "0": "CES5552200082",
                                    "1": "55522000",
                                    "2": "Credit intermediation and related activities",
                                    "3": "1717912"
                                },
                                {
                                    "0": "CES5552210082",
                                    "1": "55522100",
                                    "2": "Depository credit intermediation",
                                    "3": "971796"
                                },
                                {
                                    "0": "CES5552300082",
                                    "1": "55523000",
                                    "2": "NULL",
                                    "3": "1044224"
                                },
                                {
                                    "0": "CES5552400082",
                                    "1": "55524000",
                                    "2": "Insurance carriers and related activities",
                                    "3": "2347328"
                                },
                                {
                                    "0": "CES5552410082",
                                    "1": "55524100",
                                    "2": "Insurance carriers",
                                    "3": "1477799"
                                },
                                {
                                    "0": "CES5552420082",
                                    "1": "55524200",
                                    "2": "Insurance agencies",
                                    "3": "872398"
                                },
                                {
                                    "0": "CES5553100082",
                                    "1": "55531000",
                                    "2": "Real estate",
                                    "3": "862987"
                                },
                                {
                                    "0": "CES6000000082",
                                    "1": "60000000",
                                    "2": "Professional and business services",
                                    "3": "15251268"
                                },
                                {
                                    "0": "CES6054000082",
                                    "1": "60540000",
                                    "2": "Professional and technical services",
                                    "3": "8821026"
                                },
                                {
                                    "0": "CES6054110082",
                                    "1": "60541100",
                                    "2": "Legal services",
                                    "3": "1058862"
                                },
                                {
                                    "0": "CES6054111082",
                                    "1": "60541110",
                                    "2": "Offices of lawyers",
                                    "3": "1004009"
                                },
                                {
                                    "0": "CES6054130082",
                                    "1": "60541300",
                                    "2": "Architectural and engineering services",
                                    "3": "1439445"
                                },
                                {
                                    "0": "CES6054134082",
                                    "1": "60541340",
                                    "2": "NULL",
                                    "3": "1051499"
                                },
                                {
                                    "0": "CES6054150082",
                                    "1": "60541500",
                                    "2": "Computer systems design and related services",
                                    "3": "2666568"
                                },
                                {
                                    "0": "CES6054151182",
                                    "1": "60541511",
                                    "2": "Custom computer programming services",
                                    "3": "1173494"
                                },
                                {
                                    "0": "CES6054151282",
                                    "1": "60541512",
                                    "2": "Computer systems design services",
                                    "3": "1274481"
                                },
                                {
                                    "0": "CES6054160082",
                                    "1": "60541600",
                                    "2": "Management and technical consulting services",
                                    "3": "1330587"
                                },
                                {
                                    "0": "CES6054161082",
                                    "1": "60541610",
                                    "2": "Management consulting services",
                                    "3": "1053691"
                                },
                                {
                                    "0": "CES6055000082",
                                    "1": "60550000",
                                    "2": "Management of companies and enterprises",
                                    "3": "1566036"
                                },
                                {
                                    "0": "CES6055111482",
                                    "1": "60551114",
                                    "2": "Managing offices",
                                    "3": "1496334"
                                },
                                {
                                    "0": "CES6056000082",
                                    "1": "60560000",
                                    "2": "Administrative and waste services",
                                    "3": "4886085"
                                },
                                {
                                    "0": "CES6056100082",
                                    "1": "60561000",
                                    "2": "Administrative and support services",
                                    "3": "4565569"
                                },
                                {
                                    "0": "CES6056130082",
                                    "1": "60561300",
                                    "2": "Employment services",
                                    "3": "2013846"
                                },
                                {
                                    "0": "CES6056132082",
                                    "1": "60561320",
                                    "2": "Temporary help services",
                                    "3": "1598939"
                                },
                                {
                                    "0": "CES6056170082",
                                    "1": "60561700",
                                    "2": "Services to buildings and dwellings",
                                    "3": "846000"
                                },
                                {
                                    "0": "CES6500000082",
                                    "1": "65000000",
                                    "2": "Education and health services",
                                    "3": "14765156"
                                },
                                {
                                    "0": "CES6562000082",
                                    "1": "65620000",
                                    "2": "Health care and social assistance",
                                    "3": "12762526"
                                },
                                {
                                    "0": "CES6562000182",
                                    "1": "65620001",
                                    "2": "NULL",
                                    "3": "11413008"
                                },
                                {
                                    "0": "CES6562100082",
                                    "1": "65621000",
                                    "2": "Ambulatory health care services",
                                    "3": "4875906"
                                },
                                {
                                    "0": "CES6562110082",
                                    "1": "65621100",
                                    "2": "Offices of physicians",
                                    "3": "2141331"
                                },
                                {
                                    "0": "CES6562111182",
                                    "1": "65621111",
                                    "2": "Offices of physicians",
                                    "3": "2113086"
                                },
                                {
                                    "0": "CES6562200082",
                                    "1": "65622000",
                                    "2": "Hospitals",
                                    "3": "5048432"
                                },
                                {
                                    "0": "CES6562210082",
                                    "1": "65622100",
                                    "2": "General medical and surgical hospitals",
                                    "3": "4716914"
                                },
                                {
                                    "0": "CES6562300082",
                                    "1": "65623000",
                                    "2": "Nursing and residential care facilities",
                                    "3": "1489277"
                                },
                                {
                                    "0": "CES6562400082",
                                    "1": "65624000",
                                    "2": "Social assistance",
                                    "3": "1337022"
                                },
                                {
                                    "0": "CES6562410082",
                                    "1": "65624100",
                                    "2": "Individual and family services",
                                    "3": "828771"
                                },
                                {
                                    "0": "CES7000000082",
                                    "1": "70000000",
                                    "2": "Leisure and hospitality",
                                    "3": "4537173"
                                },
                                {
                                    "0": "CES7072000082",
                                    "1": "70720000",
                                    "2": "Accommodation and food services",
                                    "3": "3802356"
                                },
                                {
                                    "0": "CES7072200082",
                                    "1": "70722000",
                                    "2": "Food services and drinking places",
                                    "3": "3085429"
                                },
                                {
                                    "0": "CES7072250082",
                                    "1": "70722500",
                                    "2": "Restaurants and other eating places",
                                    "3": "2768855"
                                },
                                {
                                    "0": "CES7072251182",
                                    "1": "70722511",
                                    "2": "Full-service restaurants",
                                    "3": "1626780"
                                },
                                {
                                    "0": "CES7072251382",
                                    "1": "70722513",
                                    "2": "Limited-service restaurants",
                                    "3": "969748"
                                },
                                {
                                    "0": "CES8000000082",
                                    "1": "80000000",
                                    "2": "Other services",
                                    "3": "2875314"
                                },
                                {
                                    "0": "CES8081300082",
                                    "1": "80813000",
                                    "2": "Membership associations and organizations",
                                    "3": "1599916"
                                },
                                {
                                    "0": "CEU0500000082",
                                    "1": "5000000",
                                    "2": "Total private",
                                    "3": "73474302"
                                },
                                {
                                    "0": "CEU0600000082",
                                    "1": "6000000",
                                    "2": "Goods-producing",
                                    "3": "12711945"
                                },
                                {
                                    "0": "CEU0800000082",
                                    "1": "8000000",
                                    "2": "Private service-providing",
                                    "3": "60807771"
                                },
                                {
                                    "0": "CEU2000000082",
                                    "1": "20000000",
                                    "2": "Construction",
                                    "3": "4724156"
                                },
                                {
                                    "0": "CEU2023600082",
                                    "1": "20236000",
                                    "2": "Construction of buildings",
                                    "3": "940800"
                                },
                                {
                                    "0": "CEU2023800082",
                                    "1": "20238000",
                                    "2": "Specialty trade contractors",
                                    "3": "3062211"
                                },
                                {
                                    "0": "CEU2023820082",
                                    "1": "20238200",
                                    "2": "Building equipment contractors",
                                    "3": "1621266"
                                },
                                {
                                    "0": "CEU3000000082",
                                    "1": "30000000",
                                    "2": "Manufacturing",
                                    "3": "7411960"
                                },
                                {
                                    "0": "CEU3100000082",
                                    "1": "31000000",
                                    "2": "Durable goods",
                                    "3": "4808368"
                                },
                                {
                                    "0": "CEU3133200082",
                                    "1": "31332000",
                                    "2": "Fabricated metal products",
                                    "3": "867242"
                                },
                                {
                                    "0": "CEU3133600082",
                                    "1": "31336000",
                                    "2": "Transportation equipment",
                                    "3": "1242685"
                                },
                                {
                                    "0": "CEU3200000082",
                                    "1": "32000000",
                                    "2": "Nondurable goods",
                                    "3": "2605069"
                                },
                                {
                                    "0": "CEU3231100082",
                                    "1": "32311000",
                                    "2": "Food manufacturing",
                                    "3": "842201"
                                },
                                {
                                    "0": "CEU4000000082",
                                    "1": "40000000",
                                    "2": "Trade",
                                    "3": "14732108"
                                },
                                {
                                    "0": "CEU4142000082",
                                    "1": "41420000",
                                    "2": "Wholesale trade",
                                    "3": "4506110"
                                },
                                {
                                    "0": "CEU4142300082",
                                    "1": "41423000",
                                    "2": "Durable goods",
                                    "3": "2283094"
                                },
                                {
                                    "0": "CEU4142400082",
                                    "1": "41424000",
                                    "2": "Nondurable goods",
                                    "3": "1348136"
                                },
                                {
                                    "0": "CEU4142500082",
                                    "1": "41425000",
                                    "2": "Electronic markets and agents and brokers",
                                    "3": "873578"
                                },
                                {
                                    "0": "CEU4142512082",
                                    "1": "41425120",
                                    "2": "Wholesale trade agents and brokers",
                                    "3": "851551"
                                },
                                {
                                    "0": "CEU4200000082",
                                    "1": "42000000",
                                    "2": "Retail trade",
                                    "3": "6060100"
                                },
                                {
                                    "0": "CEU4244100082",
                                    "1": "42441000",
                                    "2": "Motor vehicle and parts dealers",
                                    "3": "1163420"
                                },
                                {
                                    "0": "CEU4244110082",
                                    "1": "42441100",
                                    "2": "Automobile dealers",
                                    "3": "831131"
                                },
                                {
                                    "0": "CEU4244500082",
                                    "1": "42445000",
                                    "2": "Food and beverage stores",
                                    "3": "963315"
                                },
                                {
                                    "0": "CEU4244510082",
                                    "1": "42445100",
                                    "2": "Grocery stores",
                                    "3": "861224"
                                },
                                {
                                    "0": "CEU4245200082",
                                    "1": "42452000",
                                    "2": "General merchandise stores",
                                    "3": "1049973"
                                },
                                {
                                    "0": "CEU4300000082",
                                    "1": "43000000",
                                    "2": "Transportation and warehousing",
                                    "3": "3495553"
                                },
                                {
                                    "0": "CEU4348400082",
                                    "1": "43484000",
                                    "2": "Truck transportation",
                                    "3": "1092427"
                                },
                                {
                                    "0": "CEU5000000082",
                                    "1": "50000000",
                                    "2": "Information",
                                    "3": "2434992"
                                },
                                {
                                    "0": "CEU5500000082",
                                    "1": "55000000",
                                    "2": "Financial activities",
                                    "3": "6467426"
                                },
                                {
                                    "0": "CEU5552200082",
                                    "1": "55522000",
                                    "2": "Credit intermediation and related activities",
                                    "3": "1767137"
                                },
                                {
                                    "0": "CEU5552210082",
                                    "1": "55522100",
                                    "2": "Depository credit intermediation",
                                    "3": "1004069"
                                },
                                {
                                    "0": "CEU5552300082",
                                    "1": "55523000",
                                    "2": "NULL",
                                    "3": "1087325"
                                },
                                {
                                    "0": "CEU5552400082",
                                    "1": "55524000",
                                    "2": "Insurance carriers and related activities",
                                    "3": "2408490"
                                },
                                {
                                    "0": "CEU5552410082",
                                    "1": "55524100",
                                    "2": "Insurance carriers",
                                    "3": "1509979"
                                },
                                {
                                    "0": "CEU5552420082",
                                    "1": "55524200",
                                    "2": "Insurance agencies",
                                    "3": "894878"
                                },
                                {
                                    "0": "CEU5553100082",
                                    "1": "55531000",
                                    "2": "Real estate",
                                    "3": "865620"
                                },
                                {
                                    "0": "CEU6000000082",
                                    "1": "60000000",
                                    "2": "Professional and business services",
                                    "3": "15219807"
                                },
                                {
                                    "0": "CEU6054000082",
                                    "1": "60540000",
                                    "2": "Professional and technical services",
                                    "3": "8976687"
                                },
                                {
                                    "0": "CEU6054110082",
                                    "1": "60541100",
                                    "2": "Legal services",
                                    "3": "1093898"
                                },
                                {
                                    "0": "CEU6054111082",
                                    "1": "60541110",
                                    "2": "Offices of lawyers",
                                    "3": "1038464"
                                },
                                {
                                    "0": "CEU6054130082",
                                    "1": "60541300",
                                    "2": "Architectural and engineering services",
                                    "3": "1422967"
                                },
                                {
                                    "0": "CEU6054134082",
                                    "1": "60541340",
                                    "2": "NULL",
                                    "3": "1042223"
                                },
                                {
                                    "0": "CEU6054150082",
                                    "1": "60541500",
                                    "2": "Computer systems design and related services",
                                    "3": "2725031"
                                },
                                {
                                    "0": "CEU6054151182",
                                    "1": "60541511",
                                    "2": "Custom computer programming services",
                                    "3": "1198283"
                                },
                                {
                                    "0": "CEU6054151282",
                                    "1": "60541512",
                                    "2": "Computer systems design services",
                                    "3": "1309441"
                                },
                                {
                                    "0": "CEU6054160082",
                                    "1": "60541600",
                                    "2": "Management and technical consulting services",
                                    "3": "1336594"
                                },
                                {
                                    "0": "CEU6054161082",
                                    "1": "60541610",
                                    "2": "Management consulting services",
                                    "3": "1066602"
                                },
                                {
                                    "0": "CEU6055000082",
                                    "1": "60550000",
                                    "2": "Management of companies and enterprises",
                                    "3": "1587677"
                                },
                                {
                                    "0": "CEU6055111482",
                                    "1": "60551114",
                                    "2": "Managing offices",
                                    "3": "1517287"
                                },
                                {
                                    "0": "CEU6056000082",
                                    "1": "60560000",
                                    "2": "Administrative and waste services",
                                    "3": "4659531"
                                },
                                {
                                    "0": "CEU6056100082",
                                    "1": "60561000",
                                    "2": "Administrative and support services",
                                    "3": "4357866"
                                },
                                {
                                    "0": "CEU6056130082",
                                    "1": "60561300",
                                    "2": "Employment services",
                                    "3": "1938059"
                                },
                                {
                                    "0": "CEU6056132082",
                                    "1": "60561320",
                                    "2": "Temporary help services",
                                    "3": "1530782"
                                },
                                {
                                    "0": "CEU6500000082",
                                    "1": "65000000",
                                    "2": "Education and health services",
                                    "3": "14816074"
                                },
                                {
                                    "0": "CEU6562000082",
                                    "1": "65620000",
                                    "2": "Health care and social assistance",
                                    "3": "12878462"
                                },
                                {
                                    "0": "CEU6562000182",
                                    "1": "65620001",
                                    "2": "NULL",
                                    "3": "11537267"
                                },
                                {
                                    "0": "CEU6562100082",
                                    "1": "65621000",
                                    "2": "Ambulatory health care services",
                                    "3": "4907269"
                                },
                                {
                                    "0": "CEU6562110082",
                                    "1": "65621100",
                                    "2": "Offices of physicians",
                                    "3": "2149121"
                                },
                                {
                                    "0": "CEU6562111182",
                                    "1": "65621111",
                                    "2": "Offices of physicians",
                                    "3": "2121845"
                                },
                                {
                                    "0": "CEU6562200082",
                                    "1": "65622000",
                                    "2": "Hospitals",
                                    "3": "5105336"
                                },
                                {
                                    "0": "CEU6562210082",
                                    "1": "65622100",
                                    "2": "General medical and surgical hospitals",
                                    "3": "4773547"
                                },
                                {
                                    "0": "CEU6562300082",
                                    "1": "65623000",
                                    "2": "Nursing and residential care facilities",
                                    "3": "1525889"
                                },
                                {
                                    "0": "CEU6562400082",
                                    "1": "65624000",
                                    "2": "Social assistance",
                                    "3": "1357629"
                                },
                                {
                                    "0": "CEU6562410082",
                                    "1": "65624100",
                                    "2": "Individual and family services",
                                    "3": "838886"
                                },
                                {
                                    "0": "CEU7000000082",
                                    "1": "70000000",
                                    "2": "Leisure and hospitality",
                                    "3": "4224098"
                                },
                                {
                                    "0": "CEU7072000082",
                                    "1": "70720000",
                                    "2": "Accommodation and food services",
                                    "3": "3572648"
                                },
                                {
                                    "0": "CEU7072200082",
                                    "1": "70722000",
                                    "2": "Food services and drinking places",
                                    "3": "2913295"
                                },
                                {
                                    "0": "CEU7072250082",
                                    "1": "70722500",
                                    "2": "Restaurants and other eating places",
                                    "3": "2617225"
                                },
                                {
                                    "0": "CEU7072251182",
                                    "1": "70722511",
                                    "2": "Full-service restaurants",
                                    "3": "1528888"
                                },
                                {
                                    "0": "CEU7072251382",
                                    "1": "70722513",
                                    "2": "Limited-service restaurants",
                                    "3": "922041"
                                },
                                {
                                    "0": "CEU8000000082",
                                    "1": "80000000",
                                    "2": "Other services",
                                    "3": "2836698"
                                },
                                {
                                    "0": "CEU8081300082",
                                    "1": "80813000",
                                    "2": "Membership associations and organizations",
                                    "3": "1594855"
                                }
                            ]
                        },
                        "text/html": [
                            "<table>",
                            "<tr><th>series_id</th><th>industry_code</th><th>industry_name</th><th>value</th></tr>",
                            "<tr><td>CES0500000082</td><td>5000000</td><td>Total private</td><td>74498171</td></tr>",
                            "<tr><td>CES0600000082</td><td>6000000</td><td>Goods-producing</td><td>13426820</td></tr>",
                            "<tr><td>CES0800000082</td><td>8000000</td><td>Private service-providing</td><td>60914722</td></tr>",
                            "<tr><td>CES2000000082</td><td>20000000</td><td>Construction</td><td>5335274</td></tr>",
                            "<tr><td>CES2023600082</td><td>20236000</td><td>Construction of buildings</td><td>1008035</td></tr>",
                            "<tr><td>CES2023700082</td><td>20237000</td><td>Heavy and civil engineering construction</td><td>908374</td></tr>",
                            "<tr><td>CES2023800082</td><td>20238000</td><td>Specialty trade contractors</td><td>3421902</td></tr>",
                            "<tr><td>CES2023820082</td><td>20238200</td><td>Building equipment contractors</td><td>1696080</td></tr>",
                            "<tr><td>CES3000000082</td><td>30000000</td><td>Manufacturing</td><td>7491723</td></tr>",
                            "<tr><td>CES3100000082</td><td>31000000</td><td>Durable goods</td><td>4859716</td></tr>",
                            "<tr><td>CES3133200082</td><td>31332000</td><td>Fabricated metal products</td><td>871298</td></tr>",
                            "<tr><td>CES3133600082</td><td>31336000</td><td>Transportation equipment</td><td>1257764</td></tr>",
                            "<tr><td>CES3200000082</td><td>32000000</td><td>Nondurable goods</td><td>2633628</td></tr>",
                            "<tr><td>CES3231100082</td><td>32311000</td><td>Food manufacturing</td><td>851406</td></tr>",
                            "<tr><td>CES4000000082</td><td>40000000</td><td>Trade</td><td>14850661</td></tr>",
                            "<tr><td>CES4142000082</td><td>41420000</td><td>Wholesale trade</td><td>4480134</td></tr>",
                            "<tr><td>CES4142300082</td><td>41423000</td><td>Durable goods</td><td>2261006</td></tr>",
                            "<tr><td>CES4142400082</td><td>41424000</td><td>Nondurable goods</td><td>1367413</td></tr>",
                            "<tr><td>CES4142500082</td><td>41425000</td><td>Electronic markets and agents and brokers</td><td>855291</td></tr>",
                            "<tr><td>CES4142512082</td><td>41425120</td><td>Wholesale trade agents and brokers</td><td>831319</td></tr>",
                            "<tr><td>CES4200000082</td><td>42000000</td><td>Retail trade</td><td>6123554</td></tr>",
                            "<tr><td>CES4244100082</td><td>42441000</td><td>Motor vehicle and parts dealers</td><td>1180297</td></tr>",
                            "<tr><td>CES4244110082</td><td>42441100</td><td>Automobile dealers</td><td>839595</td></tr>",
                            "<tr><td>CES4244500082</td><td>42445000</td><td>Food and beverage stores</td><td>974710</td></tr>",
                            "<tr><td>CES4244510082</td><td>42445100</td><td>Grocery stores</td><td>868430</td></tr>",
                            "<tr><td>CES4244511082</td><td>42445110</td><td>Supermarkets and other grocery stores</td><td>821282</td></tr>",
                            "<tr><td>CES4245200082</td><td>42452000</td><td>General merchandise stores</td><td>1065807</td></tr>",
                            "<tr><td>CES4300000082</td><td>43000000</td><td>Transportation and warehousing</td><td>3538683</td></tr>",
                            "<tr><td>CES4348400082</td><td>43484000</td><td>Truck transportation</td><td>1131821</td></tr>",
                            "<tr><td>CES5000000082</td><td>50000000</td><td>Information</td><td>2416443</td></tr>",
                            "<tr><td>CES5500000082</td><td>55000000</td><td>Financial activities</td><td>6328968</td></tr>",
                            "<tr><td>CES5552200082</td><td>55522000</td><td>Credit intermediation and related activities</td><td>1717912</td></tr>",
                            "<tr><td>CES5552210082</td><td>55522100</td><td>Depository credit intermediation</td><td>971796</td></tr>",
                            "<tr><td>CES5552300082</td><td>55523000</td><td>NULL</td><td>1044224</td></tr>",
                            "<tr><td>CES5552400082</td><td>55524000</td><td>Insurance carriers and related activities</td><td>2347328</td></tr>",
                            "<tr><td>CES5552410082</td><td>55524100</td><td>Insurance carriers</td><td>1477799</td></tr>",
                            "<tr><td>CES5552420082</td><td>55524200</td><td>Insurance agencies</td><td>872398</td></tr>",
                            "<tr><td>CES5553100082</td><td>55531000</td><td>Real estate</td><td>862987</td></tr>",
                            "<tr><td>CES6000000082</td><td>60000000</td><td>Professional and business services</td><td>15251268</td></tr>",
                            "<tr><td>CES6054000082</td><td>60540000</td><td>Professional and technical services</td><td>8821026</td></tr>",
                            "<tr><td>CES6054110082</td><td>60541100</td><td>Legal services</td><td>1058862</td></tr>",
                            "<tr><td>CES6054111082</td><td>60541110</td><td>Offices of lawyers</td><td>1004009</td></tr>",
                            "<tr><td>CES6054130082</td><td>60541300</td><td>Architectural and engineering services</td><td>1439445</td></tr>",
                            "<tr><td>CES6054134082</td><td>60541340</td><td>NULL</td><td>1051499</td></tr>",
                            "<tr><td>CES6054150082</td><td>60541500</td><td>Computer systems design and related services</td><td>2666568</td></tr>",
                            "<tr><td>CES6054151182</td><td>60541511</td><td>Custom computer programming services</td><td>1173494</td></tr>",
                            "<tr><td>CES6054151282</td><td>60541512</td><td>Computer systems design services</td><td>1274481</td></tr>",
                            "<tr><td>CES6054160082</td><td>60541600</td><td>Management and technical consulting services</td><td>1330587</td></tr>",
                            "<tr><td>CES6054161082</td><td>60541610</td><td>Management consulting services</td><td>1053691</td></tr>",
                            "<tr><td>CES6055000082</td><td>60550000</td><td>Management of companies and enterprises</td><td>1566036</td></tr>",
                            "<tr><td>CES6055111482</td><td>60551114</td><td>Managing offices</td><td>1496334</td></tr>",
                            "<tr><td>CES6056000082</td><td>60560000</td><td>Administrative and waste services</td><td>4886085</td></tr>",
                            "<tr><td>CES6056100082</td><td>60561000</td><td>Administrative and support services</td><td>4565569</td></tr>",
                            "<tr><td>CES6056130082</td><td>60561300</td><td>Employment services</td><td>2013846</td></tr>",
                            "<tr><td>CES6056132082</td><td>60561320</td><td>Temporary help services</td><td>1598939</td></tr>",
                            "<tr><td>CES6056170082</td><td>60561700</td><td>Services to buildings and dwellings</td><td>846000</td></tr>",
                            "<tr><td>CES6500000082</td><td>65000000</td><td>Education and health services</td><td>14765156</td></tr>",
                            "<tr><td>CES6562000082</td><td>65620000</td><td>Health care and social assistance</td><td>12762526</td></tr>",
                            "<tr><td>CES6562000182</td><td>65620001</td><td>NULL</td><td>11413008</td></tr>",
                            "<tr><td>CES6562100082</td><td>65621000</td><td>Ambulatory health care services</td><td>4875906</td></tr>",
                            "<tr><td>CES6562110082</td><td>65621100</td><td>Offices of physicians</td><td>2141331</td></tr>",
                            "<tr><td>CES6562111182</td><td>65621111</td><td>Offices of physicians</td><td>2113086</td></tr>",
                            "<tr><td>CES6562200082</td><td>65622000</td><td>Hospitals</td><td>5048432</td></tr>",
                            "<tr><td>CES6562210082</td><td>65622100</td><td>General medical and surgical hospitals</td><td>4716914</td></tr>",
                            "<tr><td>CES6562300082</td><td>65623000</td><td>Nursing and residential care facilities</td><td>1489277</td></tr>",
                            "<tr><td>CES6562400082</td><td>65624000</td><td>Social assistance</td><td>1337022</td></tr>",
                            "<tr><td>CES6562410082</td><td>65624100</td><td>Individual and family services</td><td>828771</td></tr>",
                            "<tr><td>CES7000000082</td><td>70000000</td><td>Leisure and hospitality</td><td>4537173</td></tr>",
                            "<tr><td>CES7072000082</td><td>70720000</td><td>Accommodation and food services</td><td>3802356</td></tr>",
                            "<tr><td>CES7072200082</td><td>70722000</td><td>Food services and drinking places</td><td>3085429</td></tr>",
                            "<tr><td>CES7072250082</td><td>70722500</td><td>Restaurants and other eating places</td><td>2768855</td></tr>",
                            "<tr><td>CES7072251182</td><td>70722511</td><td>Full-service restaurants</td><td>1626780</td></tr>",
                            "<tr><td>CES7072251382</td><td>70722513</td><td>Limited-service restaurants</td><td>969748</td></tr>",
                            "<tr><td>CES8000000082</td><td>80000000</td><td>Other services</td><td>2875314</td></tr>",
                            "<tr><td>CES8081300082</td><td>80813000</td><td>Membership associations and organizations</td><td>1599916</td></tr>",
                            "<tr><td>CEU0500000082</td><td>5000000</td><td>Total private</td><td>73474302</td></tr>",
                            "<tr><td>CEU0600000082</td><td>6000000</td><td>Goods-producing</td><td>12711945</td></tr>",
                            "<tr><td>CEU0800000082</td><td>8000000</td><td>Private service-providing</td><td>60807771</td></tr>",
                            "<tr><td>CEU2000000082</td><td>20000000</td><td>Construction</td><td>4724156</td></tr>",
                            "<tr><td>CEU2023600082</td><td>20236000</td><td>Construction of buildings</td><td>940800</td></tr>",
                            "<tr><td>CEU2023800082</td><td>20238000</td><td>Specialty trade contractors</td><td>3062211</td></tr>",
                            "<tr><td>CEU2023820082</td><td>20238200</td><td>Building equipment contractors</td><td>1621266</td></tr>",
                            "<tr><td>CEU3000000082</td><td>30000000</td><td>Manufacturing</td><td>7411960</td></tr>",
                            "<tr><td>CEU3100000082</td><td>31000000</td><td>Durable goods</td><td>4808368</td></tr>",
                            "<tr><td>CEU3133200082</td><td>31332000</td><td>Fabricated metal products</td><td>867242</td></tr>",
                            "<tr><td>CEU3133600082</td><td>31336000</td><td>Transportation equipment</td><td>1242685</td></tr>",
                            "<tr><td>CEU3200000082</td><td>32000000</td><td>Nondurable goods</td><td>2605069</td></tr>",
                            "<tr><td>CEU3231100082</td><td>32311000</td><td>Food manufacturing</td><td>842201</td></tr>",
                            "<tr><td>CEU4000000082</td><td>40000000</td><td>Trade</td><td>14732108</td></tr>",
                            "<tr><td>CEU4142000082</td><td>41420000</td><td>Wholesale trade</td><td>4506110</td></tr>",
                            "<tr><td>CEU4142300082</td><td>41423000</td><td>Durable goods</td><td>2283094</td></tr>",
                            "<tr><td>CEU4142400082</td><td>41424000</td><td>Nondurable goods</td><td>1348136</td></tr>",
                            "<tr><td>CEU4142500082</td><td>41425000</td><td>Electronic markets and agents and brokers</td><td>873578</td></tr>",
                            "<tr><td>CEU4142512082</td><td>41425120</td><td>Wholesale trade agents and brokers</td><td>851551</td></tr>",
                            "<tr><td>CEU4200000082</td><td>42000000</td><td>Retail trade</td><td>6060100</td></tr>",
                            "<tr><td>CEU4244100082</td><td>42441000</td><td>Motor vehicle and parts dealers</td><td>1163420</td></tr>",
                            "<tr><td>CEU4244110082</td><td>42441100</td><td>Automobile dealers</td><td>831131</td></tr>",
                            "<tr><td>CEU4244500082</td><td>42445000</td><td>Food and beverage stores</td><td>963315</td></tr>",
                            "<tr><td>CEU4244510082</td><td>42445100</td><td>Grocery stores</td><td>861224</td></tr>",
                            "<tr><td>CEU4245200082</td><td>42452000</td><td>General merchandise stores</td><td>1049973</td></tr>",
                            "<tr><td>CEU4300000082</td><td>43000000</td><td>Transportation and warehousing</td><td>3495553</td></tr>",
                            "<tr><td>CEU4348400082</td><td>43484000</td><td>Truck transportation</td><td>1092427</td></tr>",
                            "<tr><td>CEU5000000082</td><td>50000000</td><td>Information</td><td>2434992</td></tr>",
                            "<tr><td>CEU5500000082</td><td>55000000</td><td>Financial activities</td><td>6467426</td></tr>",
                            "<tr><td>CEU5552200082</td><td>55522000</td><td>Credit intermediation and related activities</td><td>1767137</td></tr>",
                            "<tr><td>CEU5552210082</td><td>55522100</td><td>Depository credit intermediation</td><td>1004069</td></tr>",
                            "<tr><td>CEU5552300082</td><td>55523000</td><td>NULL</td><td>1087325</td></tr>",
                            "<tr><td>CEU5552400082</td><td>55524000</td><td>Insurance carriers and related activities</td><td>2408490</td></tr>",
                            "<tr><td>CEU5552410082</td><td>55524100</td><td>Insurance carriers</td><td>1509979</td></tr>",
                            "<tr><td>CEU5552420082</td><td>55524200</td><td>Insurance agencies</td><td>894878</td></tr>",
                            "<tr><td>CEU5553100082</td><td>55531000</td><td>Real estate</td><td>865620</td></tr>",
                            "<tr><td>CEU6000000082</td><td>60000000</td><td>Professional and business services</td><td>15219807</td></tr>",
                            "<tr><td>CEU6054000082</td><td>60540000</td><td>Professional and technical services</td><td>8976687</td></tr>",
                            "<tr><td>CEU6054110082</td><td>60541100</td><td>Legal services</td><td>1093898</td></tr>",
                            "<tr><td>CEU6054111082</td><td>60541110</td><td>Offices of lawyers</td><td>1038464</td></tr>",
                            "<tr><td>CEU6054130082</td><td>60541300</td><td>Architectural and engineering services</td><td>1422967</td></tr>",
                            "<tr><td>CEU6054134082</td><td>60541340</td><td>NULL</td><td>1042223</td></tr>",
                            "<tr><td>CEU6054150082</td><td>60541500</td><td>Computer systems design and related services</td><td>2725031</td></tr>",
                            "<tr><td>CEU6054151182</td><td>60541511</td><td>Custom computer programming services</td><td>1198283</td></tr>",
                            "<tr><td>CEU6054151282</td><td>60541512</td><td>Computer systems design services</td><td>1309441</td></tr>",
                            "<tr><td>CEU6054160082</td><td>60541600</td><td>Management and technical consulting services</td><td>1336594</td></tr>",
                            "<tr><td>CEU6054161082</td><td>60541610</td><td>Management consulting services</td><td>1066602</td></tr>",
                            "<tr><td>CEU6055000082</td><td>60550000</td><td>Management of companies and enterprises</td><td>1587677</td></tr>",
                            "<tr><td>CEU6055111482</td><td>60551114</td><td>Managing offices</td><td>1517287</td></tr>",
                            "<tr><td>CEU6056000082</td><td>60560000</td><td>Administrative and waste services</td><td>4659531</td></tr>",
                            "<tr><td>CEU6056100082</td><td>60561000</td><td>Administrative and support services</td><td>4357866</td></tr>",
                            "<tr><td>CEU6056130082</td><td>60561300</td><td>Employment services</td><td>1938059</td></tr>",
                            "<tr><td>CEU6056132082</td><td>60561320</td><td>Temporary help services</td><td>1530782</td></tr>",
                            "<tr><td>CEU6500000082</td><td>65000000</td><td>Education and health services</td><td>14816074</td></tr>",
                            "<tr><td>CEU6562000082</td><td>65620000</td><td>Health care and social assistance</td><td>12878462</td></tr>",
                            "<tr><td>CEU6562000182</td><td>65620001</td><td>NULL</td><td>11537267</td></tr>",
                            "<tr><td>CEU6562100082</td><td>65621000</td><td>Ambulatory health care services</td><td>4907269</td></tr>",
                            "<tr><td>CEU6562110082</td><td>65621100</td><td>Offices of physicians</td><td>2149121</td></tr>",
                            "<tr><td>CEU6562111182</td><td>65621111</td><td>Offices of physicians</td><td>2121845</td></tr>",
                            "<tr><td>CEU6562200082</td><td>65622000</td><td>Hospitals</td><td>5105336</td></tr>",
                            "<tr><td>CEU6562210082</td><td>65622100</td><td>General medical and surgical hospitals</td><td>4773547</td></tr>",
                            "<tr><td>CEU6562300082</td><td>65623000</td><td>Nursing and residential care facilities</td><td>1525889</td></tr>",
                            "<tr><td>CEU6562400082</td><td>65624000</td><td>Social assistance</td><td>1357629</td></tr>",
                            "<tr><td>CEU6562410082</td><td>65624100</td><td>Individual and family services</td><td>838886</td></tr>",
                            "<tr><td>CEU7000000082</td><td>70000000</td><td>Leisure and hospitality</td><td>4224098</td></tr>",
                            "<tr><td>CEU7072000082</td><td>70720000</td><td>Accommodation and food services</td><td>3572648</td></tr>",
                            "<tr><td>CEU7072200082</td><td>70722000</td><td>Food services and drinking places</td><td>2913295</td></tr>",
                            "<tr><td>CEU7072250082</td><td>70722500</td><td>Restaurants and other eating places</td><td>2617225</td></tr>",
                            "<tr><td>CEU7072251182</td><td>70722511</td><td>Full-service restaurants</td><td>1528888</td></tr>",
                            "<tr><td>CEU7072251382</td><td>70722513</td><td>Limited-service restaurants</td><td>922041</td></tr>",
                            "<tr><td>CEU8000000082</td><td>80000000</td><td>Other services</td><td>2836698</td></tr>",
                            "<tr><td>CEU8081300082</td><td>80813000</td><td>Membership associations and organizations</td><td>1594855</td></tr>",
                            "</table>"
                        ]
                    }
                },
                {
                    "output_type": "execute_result",
                    "metadata": {},
                    "execution_count": 152,
                    "data": {
                        "application/vnd.dataresource+json": {
                            "schema": {
                                "fields": [
                                    {
                                        "name": "data_type_code"
                                    },
                                    {
                                        "name": "data_type_text"
                                    }
                                ]
                            },
                            "data": [
                                {
                                    "0": "82",
                                    "1": "AGGREGATE WEEKLY PAYROLLS OF PRODUCTION AND NONSUPERVISORY EMPLOYEES"
                                }
                            ]
                        },
                        "text/html": [
                            "<table>",
                            "<tr><th>data_type_code</th><th>data_type_text</th></tr>",
                            "<tr><td>82</td><td>AGGREGATE WEEKLY PAYROLLS OF PRODUCTION AND NONSUPERVISORY EMPLOYEES</td></tr>",
                            "</table>"
                        ]
                    }
                }
            ],
            "execution_count": 152
        },
        {
            "cell_type": "markdown",
            "source": [
                "2. <span style=\"background-color: rgb(255, 255, 255); font-size: 10pt; white-space: pre-wrap; color: rgb(102, 102, 102); font-family: Arvo, serif;\">Create a Union table comparing average weekly earnings&nbsp; of production and nonsupervisory employees between annual_16 and january_17 using the data type 30.&nbsp; Round to the nearest penny.&nbsp; You should have a column for the average earnings and a column for the year, and the period.</span>"
            ],
            "metadata": {
                "azdata_cell_guid": "1bb0ed09-4b02-4132-910e-5903697628af"
            },
            "attachments": {}
        },
        {
            "cell_type": "code",
            "source": [
                "USE LaborStatisticsDB\n",
                "\n",
                "/*\n",
                "SELECT *\n",
                "FROM series\n",
                "WHERE data_type_code = 30\n",
                "*/\n",
                "\n",
                "SELECT 'Annual_16' AS source, ROUND(avg(a.[value]), 2) AS avg_weekly_earnings, a.[year] AS results_year, \n",
                "a.[period] AS results_period\n",
                "FROM annual_2016 AS a, series AS s\n",
                "WHERE a.series_id = s.series_id \n",
                "AND s.data_type_code = 30\n",
                "GROUP BY a.[year], a.[period]\n",
                "\n",
                "UNION\n",
                "SELECT 'January_17', ROUND(AVG(j.[value]), 2), j.[year], j.[period]\n",
                "FROM january_2017 AS j, series AS s \n",
                "WHERE j.series_id = s.series_id \n",
                "AND s.data_type_code = 30\n",
                "GROUP BY j.[year], j.[period]\n",
                " "
            ],
            "metadata": {
                "azdata_cell_guid": "0841b6d6-9af2-41ba-8e28-dc40d08bd061",
                "language": "sql"
            },
            "outputs": [
                {
                    "output_type": "display_data",
                    "data": {
                        "text/html": "(2 rows affected)"
                    },
                    "metadata": {}
                },
                {
                    "output_type": "display_data",
                    "data": {
                        "text/html": "Total execution time: 00:00:00.289"
                    },
                    "metadata": {}
                },
                {
                    "output_type": "execute_result",
                    "metadata": {},
                    "execution_count": 146,
                    "data": {
                        "application/vnd.dataresource+json": {
                            "schema": {
                                "fields": [
                                    {
                                        "name": "source"
                                    },
                                    {
                                        "name": "avg_weekly_earnings"
                                    },
                                    {
                                        "name": "results_year"
                                    },
                                    {
                                        "name": "results_period"
                                    }
                                ]
                            },
                            "data": [
                                {
                                    "0": "Annual_16",
                                    "1": "797.2",
                                    "2": "2016",
                                    "3": "M13"
                                },
                                {
                                    "0": "January_17",
                                    "1": "808.53",
                                    "2": "2017",
                                    "3": "M01"
                                }
                            ]
                        },
                        "text/html": [
                            "<table>",
                            "<tr><th>source</th><th>avg_weekly_earnings</th><th>results_year</th><th>results_period</th></tr>",
                            "<tr><td>Annual_16</td><td>797.2</td><td>2016</td><td>M13</td></tr>",
                            "<tr><td>January_17</td><td>808.53</td><td>2017</td><td>M01</td></tr>",
                            "</table>"
                        ]
                    }
                }
            ],
            "execution_count": 146
        },
        {
            "cell_type": "markdown",
            "source": [
                "## <span style=\"font-size:12pt;font-family:Montserrat, sans-serif;color:rgb(53, 74, 95);background-color:rgb(255, 255, 255);font-weight:700;vertical-align:baseline;white-space:pre-wrap;\">Summarize Your Results</span>\n",
                "\n",
                "<span style=\"font-size:10pt;font-family:Arvo, serif;color:rgb(102, 102, 102);background-color:rgb(255, 255, 255);vertical-align:baseline;white-space:pre-wrap;\">With what you know now about the </span> <span style=\"background-color:rgb(255, 255, 255);color:rgb(102, 102, 102);font-family:&quot;Times New Roman&quot;;font-size:13.3333px;white-space:pre-wrap;\">Bureau of Labor Statistics (BLS) Current Employment Survey (CES) results and working with the</span> <span style=\"color:rgb(102, 102, 102);white-space:pre-wrap;font-family:&quot;Times New Roman&quot;;font-size:13.3333px;\">Labor Statistics Database</span><span style=\"background-color:rgb(255, 255, 255);color:rgb(102, 102, 102);font-family:Arvo, serif;font-size:10pt;white-space:pre-wrap;\">, answer the following questions. Note that while this is subjective, you should include relevant data to back up your opinion.</span>\n",
                "\n",
                "1. <span style=\"background-color:rgb(255, 255, 255);font-size:10pt;white-space:pre-wrap;color:rgb(102, 102, 102);font-family:Arvo, serif;\">During which time period did production and nonsupervisory employees fare better?</span>"
            ],
            "metadata": {
                "azdata_cell_guid": "780f65a6-b9e7-4f24-9132-293c47f559e8"
            },
            "attachments": {}
        },
        {
            "cell_type": "markdown",
            "source": [
                "<span style=\"color: rgb(102, 102, 102); font-family: Arvo, serif; font-size: 13.3333px; white-space: pre-wrap; background-color: rgb(255, 255, 255);\">The average weekly earnings for employees in production in nonsupervisory positions was higher for January of 2017 than for the average weekly earnings for all of 2016 in the same category.</span>"
            ],
            "metadata": {
                "azdata_cell_guid": "f11f1fb2-f7d1-41e5-bc9c-84087d7cfc93"
            },
            "attachments": {}
        },
        {
            "cell_type": "markdown",
            "source": [
                "2. <span style=\"background-color: rgb(255, 255, 255); font-size: 10pt; white-space: pre-wrap; color: rgb(102, 102, 102); font-family: Arvo, serif;\">In which industries did production and nonsupervisory employees fare better?</span>"
            ],
            "metadata": {
                "azdata_cell_guid": "f606e5e5-f6f1-4070-bbfa-e31617b43e56"
            },
            "attachments": {}
        },
        {
            "cell_type": "markdown",
            "source": [
                "The 'total private' industry proved to have the highest avg weekly earnings. Total private, private - service providing, Professional business services paid out the most money in total to employees for january of 2017 and was higher than the average weekly payroll across all industry for the year of 2016. The Motor vehicle power train industry allowed the highest average number of weekly hours."
            ],
            "metadata": {
                "azdata_cell_guid": "94e18f5d-b87b-4ba6-b1fd-bde035dafc04"
            },
            "attachments": {}
        },
        {
            "cell_type": "markdown",
            "source": [
                "3. <span style=\"font-size: 10pt; font-family: Arvo, serif; color: rgb(102, 102, 102); background-color: rgb(255, 255, 255); font-variant-numeric: normal; font-variant-east-asian: normal; vertical-align: baseline; white-space: pre-wrap;\">Now that you have explored the datasets, is there any data or information that you wish you had in this analysis?</span>"
            ],
            "metadata": {
                "azdata_cell_guid": "101e4449-601a-46c6-b217-23f3339cfa76"
            },
            "attachments": {}
        },
        {
            "cell_type": "markdown",
            "source": [
                "Going through the datasets, I would do further comparison of industries with the highest weekly payrolls averages and break things down by the average pay per hour and how much overtime etc. got them there."
            ],
            "metadata": {
                "azdata_cell_guid": "d07e9180-f5e0-49b4-b395-2c6c8a5f8aac"
            },
            "attachments": {}
        }
    ]
}